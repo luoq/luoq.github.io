{
 "cells": [
  {
   "cell_type": "code",
   "execution_count": 1,
   "metadata": {
    "collapsed": false,
    "slideshow": {
     "slide_type": "skip"
    }
   },
   "outputs": [
    {
     "data": {
      "text/html": [
       "\n",
       "    <div class=\"bk-root\">\n",
       "        <a href=\"http://bokeh.pydata.org\" target=\"_blank\" class=\"bk-logo bk-logo-small bk-logo-notebook\"></a>\n",
       "        <span id=\"a49345ac-ff06-455e-b608-664218bb319d\">Loading BokehJS ...</span>\n",
       "    </div>"
      ]
     },
     "metadata": {},
     "output_type": "display_data"
    },
    {
     "data": {
      "application/javascript": [
       "\n",
       "(function(global) {\n",
       "  function now() {\n",
       "    return new Date();\n",
       "  }\n",
       "\n",
       "  if (typeof (window._bokeh_onload_callbacks) === \"undefined\") {\n",
       "    window._bokeh_onload_callbacks = [];\n",
       "  }\n",
       "\n",
       "  function run_callbacks() {\n",
       "    window._bokeh_onload_callbacks.forEach(function(callback) { callback() });\n",
       "    delete window._bokeh_onload_callbacks\n",
       "    console.info(\"Bokeh: all callbacks have finished\");\n",
       "  }\n",
       "\n",
       "  function load_libs(js_urls, callback) {\n",
       "    window._bokeh_onload_callbacks.push(callback);\n",
       "    if (window._bokeh_is_loading > 0) {\n",
       "      console.log(\"Bokeh: BokehJS is being loaded, scheduling callback at\", now());\n",
       "      return null;\n",
       "    }\n",
       "    if (js_urls == null || js_urls.length === 0) {\n",
       "      run_callbacks();\n",
       "      return null;\n",
       "    }\n",
       "    console.log(\"Bokeh: BokehJS not loaded, scheduling load and callback at\", now());\n",
       "    window._bokeh_is_loading = js_urls.length;\n",
       "    for (var i = 0; i < js_urls.length; i++) {\n",
       "      var url = js_urls[i];\n",
       "      var s = document.createElement('script');\n",
       "      s.src = url;\n",
       "      s.async = false;\n",
       "      s.onreadystatechange = s.onload = function() {\n",
       "        window._bokeh_is_loading--;\n",
       "        if (window._bokeh_is_loading === 0) {\n",
       "          console.log(\"Bokeh: all BokehJS libraries loaded\");\n",
       "          run_callbacks()\n",
       "        }\n",
       "      };\n",
       "      s.onerror = function() {\n",
       "        console.warn(\"failed to load library \" + url);\n",
       "      };\n",
       "      console.log(\"Bokeh: injecting script tag for BokehJS library: \", url);\n",
       "      document.getElementsByTagName(\"head\")[0].appendChild(s);\n",
       "    }\n",
       "  };\n",
       "\n",
       "  var js_urls = ['https://cdn.pydata.org/bokeh/release/bokeh-0.12.0.min.js', 'https://cdn.pydata.org/bokeh/release/bokeh-widgets-0.12.0.min.js', 'https://cdn.pydata.org/bokeh/release/bokeh-compiler-0.12.0.min.js'];\n",
       "\n",
       "  var inline_js = [\n",
       "    function(Bokeh) {\n",
       "      Bokeh.set_log_level(\"info\");\n",
       "    },\n",
       "    \n",
       "    function(Bokeh) {\n",
       "      Bokeh.$(\"#a49345ac-ff06-455e-b608-664218bb319d\").text(\"BokehJS successfully loaded\");\n",
       "    },\n",
       "    function(Bokeh) {\n",
       "      console.log(\"Bokeh: injecting CSS: https://cdn.pydata.org/bokeh/release/bokeh-0.12.0.min.css\");\n",
       "      Bokeh.embed.inject_css(\"https://cdn.pydata.org/bokeh/release/bokeh-0.12.0.min.css\");\n",
       "      console.log(\"Bokeh: injecting CSS: https://cdn.pydata.org/bokeh/release/bokeh-widgets-0.12.0.min.css\");\n",
       "      Bokeh.embed.inject_css(\"https://cdn.pydata.org/bokeh/release/bokeh-widgets-0.12.0.min.css\");\n",
       "    }\n",
       "  ];\n",
       "\n",
       "  function run_inline_js() {\n",
       "    for (var i = 0; i < inline_js.length; i++) {\n",
       "      inline_js[i](window.Bokeh);\n",
       "    }\n",
       "  }\n",
       "\n",
       "  if (window._bokeh_is_loading === 0) {\n",
       "    console.log(\"Bokeh: BokehJS loaded, going straight to plotting\");\n",
       "    run_inline_js();\n",
       "  } else {\n",
       "    load_libs(js_urls, function() {\n",
       "      console.log(\"Bokeh: BokehJS plotting callback run at\", now());\n",
       "      run_inline_js();\n",
       "    });\n",
       "  }\n",
       "}(this));"
      ]
     },
     "metadata": {},
     "output_type": "display_data"
    }
   ],
   "source": [
    "import pandas as pd\n",
    "from bokeh.io import show, output_notebook\n",
    "from bokeh.charts import TimeSeries\n",
    "output_notebook()"
   ]
  },
  {
   "cell_type": "markdown",
   "metadata": {
    "slideshow": {
     "slide_type": "slide"
    }
   },
   "source": [
    "# Avito Duplicate Ads Detection\n",
    "\n",
    "luoq08@gmail.com OR hzluoqiang@corp.netease.com"
   ]
  },
  {
   "cell_type": "markdown",
   "metadata": {
    "slideshow": {
     "slide_type": "slide"
    }
   },
   "source": [
    "## data\n",
    "\n",
    "![data](avito-dup.svg)"
   ]
  },
  {
   "cell_type": "markdown",
   "metadata": {
    "slideshow": {
     "slide_type": "subslide"
    }
   },
   "source": [
    "### size\n",
    "\n",
    "* train pair: 2991396\n",
    "* test pair: 1044196\n",
    "* train info: 3344613\n",
    "* train test: 1315205\n",
    "* image: 11380670"
   ]
  },
  {
   "cell_type": "markdown",
   "metadata": {
    "slideshow": {
     "slide_type": "slide"
    }
   },
   "source": [
    "## solution\n",
    "\n",
    "[detail](https://github.com/netease-hzdm/avito-duplicate-ads-detection/blob/master/solution.md)"
   ]
  },
  {
   "cell_type": "markdown",
   "metadata": {
    "slideshow": {
     "slide_type": "slide"
    }
   },
   "source": [
    "## result analysis"
   ]
  },
  {
   "cell_type": "markdown",
   "metadata": {
    "slideshow": {
     "slide_type": "subslide"
    }
   },
   "source": [
    "### parameter tuning\n",
    "* ~~grid search~~ and fit on leaderboard\n",
    "* max_depth: 5 -> 10 -> 15(auc increase in local, auc decrease in leaderboard)\n",
    "* subsample=0.8, colsample_bytree=0.8\n",
    "* min_child_weight = 1\n",
    "* learning_rate=0.05, n_estimators=1000"
   ]
  },
  {
   "cell_type": "markdown",
   "metadata": {
    "slideshow": {
     "slide_type": "subslide"
    }
   },
   "source": [
    "### feature size\n",
    "\n",
    "```\n",
    "features_train = pd.concat((\n",
    "        simple_features_train,\n",
    "        aggregation_features_train,\n",
    "        title_features_train, description_features_train, ncd_features_train,\n",
    "        image_features_train,\n",
    "        corpus_based_features_train,\n",
    "        dummy_features_train,\n",
    "        categoryID_shuffle_features_train,\n",
    "    ), axis=1)\n",
    "```\n",
    "\n",
    "| feature group | size |\n",
    "|---------------|------|\n",
    "| simple| 26 |\n",
    "| aggregation| 20|\n",
    "| text simple | 18|\n",
    "| image | 44|\n",
    "| text vector space|110|\n",
    "| dummy |51|\n",
    "| total| 290 |"
   ]
  },
  {
   "cell_type": "markdown",
   "metadata": {
    "slideshow": {
     "slide_type": "subslide"
    }
   },
   "source": [
    "### time\n",
    "\n",
    "* simple, aggregation, text simple: hours\n",
    "* image histogram, hash: each 1day with 8(16?) cores\n",
    "* image mxnet: about 5days with GPU(Titan)\n",
    "* text vector space: overnight\n",
    "* model training, 32 threads\n",
    "```\n",
    "CPU times: user 3d 10h 19min 40s, sys: 2min 51s, total: 3d 10h 22min 32s\n",
    "Wall time: 3h 4min 33s\n",
    "```"
   ]
  },
  {
   "cell_type": "markdown",
   "metadata": {
    "slideshow": {
     "slide_type": "subslide"
    }
   },
   "source": [
    "### feature importance\n",
    "\n",
    "not representative for leaderboard\n",
    "\n",
    "* by weight(the number of times a feature is used to split the data across all trees)\n",
    "\n",
    "```\n",
    "180\ttitle_word_1_2gram_dtm_0_predict_log_price__1\t0.015352\n",
    "181\ttitle_word_1_2gram_dtm_0_predict_log_price__2\t0.015343\n",
    "107\tmxnet_bn_batch_mean_sim\t0.014696\n",
    "4\tdescription_length_max\t0.014154\n",
    "5\tdescription_length_min\t0.013829\n",
    "11\tprice_diff\t0.013002\n",
    "184\ttitle_description_dtm_0_predict_log_price__1\t0.012954\n",
    "185\ttitle_description_dtm_0_predict_log_price__2\t0.012500\n",
    "105\tmxnet_bn_batch_max_sim\t0.011103\n",
    "14\tprice_min\t0.010932\n",
    "30\tlocationID_1_freq\t0.010878\n",
    "13\tprice_max\t0.010721\n",
    "```\n",
    "* by gain (the average gain of the feature when it is used in trees)\n",
    "```\n",
    "image_phash_hamming_0_min                         2875.218537\n",
    "mxnet_bn_batch_max_sim                            1869.406305\n",
    "categoryID_112                                    1714.816033\n",
    "title_word_dtm_0_1__binary_tfidf__cosine          1053.358729\n",
    "image_dhash_hamming_0_min                          811.860253\n",
    "title_word_dtm_0_1__tfidf__cosine                  359.690265\n",
    "categoryID_9                                       311.754781\n",
    "categoryID_33                                      275.383379\n",
    "categoryID_111                                     254.657611\n",
    "price_diff_ratio                                   254.372805\n",
    "```"
   ]
  },
  {
   "cell_type": "markdown",
   "metadata": {
    "slideshow": {
     "slide_type": "subslide"
    }
   },
   "source": [
    "### auc by categoryID\n",
    "\n",
    "* not much image in category 112\n",
    "\n",
    "```\n",
    "112    0.858464\n",
    "85     0.903141\n",
    "33     0.913381\n",
    "111    0.913763\n",
    "101    0.927559\n",
    "105    0.930247\n",
    "31     0.932722\n",
    "99     0.934950\n",
    "10     0.940427\n",
    "23     0.942282\n",
    "97     0.944655\n",
    "19     0.947516\n",
    "26     0.948816\n",
    "98     0.949131\n",
    "34     0.949929\n",
    "25     0.950278\n",
    "32     0.951069\n",
    "115    0.951840\n",
    "42     0.951955\n",
    "86     0.954261\n",
    "21     0.957213\n",
    "40     0.958290\n",
    "24     0.958903\n",
    "87     0.959818\n",
    "84     0.960464\n",
    "39     0.960946\n",
    "96     0.963323\n",
    "102    0.966269\n",
    "29     0.966634\n",
    "38     0.966994\n",
    "36     0.967149\n",
    "90     0.967512\n",
    "83     0.968200\n",
    "27     0.969401\n",
    "28     0.971950\n",
    "94     0.974298\n",
    "114    0.974501\n",
    "20     0.974637\n",
    "89     0.976800\n",
    "9      0.978176\n",
    "106    0.980815\n",
    "88     0.981223\n",
    "30     0.982920\n",
    "93     0.983322\n",
    "81     0.984331\n",
    "14     0.985742\n",
    "82     0.987740\n",
    "92     0.988143\n",
    "11     0.989218\n",
    "91     0.989520\n",
    "116    0.993231\n",
    "```"
   ]
  },
  {
   "cell_type": "markdown",
   "metadata": {
    "slideshow": {
     "slide_type": "subslide"
    }
   },
   "source": [
    "### feature contribution\n",
    "\n",
    "impact on final result **without** imagehash and mxnet features"
   ]
  },
  {
   "cell_type": "code",
   "execution_count": 2,
   "metadata": {
    "collapsed": false,
    "slideshow": {
     "slide_type": "-"
    }
   },
   "outputs": [
    {
     "data": {
      "text/html": [
       "<div>\n",
       "<table border=\"1\" class=\"dataframe\">\n",
       "  <thead>\n",
       "    <tr style=\"text-align: right;\">\n",
       "      <th></th>\n",
       "      <th>model</th>\n",
       "      <th>features</th>\n",
       "      <th>test set</th>\n",
       "      <th>public leaderboard</th>\n",
       "      <th>gap</th>\n",
       "    </tr>\n",
       "  </thead>\n",
       "  <tbody>\n",
       "    <tr>\n",
       "      <th>0</th>\n",
       "      <td>xgboost.26.weighted</td>\n",
       "      <td>all</td>\n",
       "      <td>0.956060</td>\n",
       "      <td>0.91957</td>\n",
       "      <td>0.036490</td>\n",
       "    </tr>\n",
       "    <tr>\n",
       "      <th>1</th>\n",
       "      <td>xgboost.27.weighted</td>\n",
       "      <td>-image</td>\n",
       "      <td>0.929910</td>\n",
       "      <td>0.86827</td>\n",
       "      <td>0.061640</td>\n",
       "    </tr>\n",
       "    <tr>\n",
       "      <th>2</th>\n",
       "      <td>xgboost.28.weighted</td>\n",
       "      <td>-image, -corpus</td>\n",
       "      <td>0.922269</td>\n",
       "      <td>0.85488</td>\n",
       "      <td>0.067389</td>\n",
       "    </tr>\n",
       "    <tr>\n",
       "      <th>3</th>\n",
       "      <td>xgboost.29.weighted</td>\n",
       "      <td>-corpus</td>\n",
       "      <td>0.952553</td>\n",
       "      <td>0.91441</td>\n",
       "      <td>0.038143</td>\n",
       "    </tr>\n",
       "    <tr>\n",
       "      <th>4</th>\n",
       "      <td>lr_text.1</td>\n",
       "      <td>title_description_dtm_0</td>\n",
       "      <td>0.793570</td>\n",
       "      <td>0.64333</td>\n",
       "      <td>0.150240</td>\n",
       "    </tr>\n",
       "    <tr>\n",
       "      <th>5</th>\n",
       "      <td>xgboost.31.weighted</td>\n",
       "      <td>+description_sentence__binary__agg_cosine</td>\n",
       "      <td>0.956172</td>\n",
       "      <td>0.91963</td>\n",
       "      <td>0.036542</td>\n",
       "    </tr>\n",
       "  </tbody>\n",
       "</table>\n",
       "</div>"
      ],
      "text/plain": [
       "                 model                                   features  test set  \\\n",
       "0  xgboost.26.weighted                                        all  0.956060   \n",
       "1  xgboost.27.weighted                                     -image  0.929910   \n",
       "2  xgboost.28.weighted                            -image, -corpus  0.922269   \n",
       "3  xgboost.29.weighted                                    -corpus  0.952553   \n",
       "4            lr_text.1                    title_description_dtm_0  0.793570   \n",
       "5  xgboost.31.weighted  +description_sentence__binary__agg_cosine  0.956172   \n",
       "\n",
       "   public leaderboard       gap  \n",
       "0             0.91957  0.036490  \n",
       "1             0.86827  0.061640  \n",
       "2             0.85488  0.067389  \n",
       "3             0.91441  0.038143  \n",
       "4             0.64333  0.150240  \n",
       "5             0.91963  0.036542  "
      ]
     },
     "execution_count": 2,
     "metadata": {},
     "output_type": "execute_result"
    }
   ],
   "source": [
    "pd.read_csv('auc.old.csv')"
   ]
  },
  {
   "cell_type": "markdown",
   "metadata": {
    "slideshow": {
     "slide_type": "slide"
    }
   },
   "source": [
    "## leaderboard"
   ]
  },
  {
   "cell_type": "markdown",
   "metadata": {
    "slideshow": {
     "slide_type": "subslide"
    }
   },
   "source": [
    "### progress"
   ]
  },
  {
   "cell_type": "code",
   "execution_count": 3,
   "metadata": {
    "collapsed": false,
    "slideshow": {
     "slide_type": "-"
    }
   },
   "outputs": [
    {
     "data": {
      "text/html": [
       "<div>\n",
       "<table border=\"1\" class=\"dataframe\">\n",
       "  <thead>\n",
       "    <tr style=\"text-align: right;\">\n",
       "      <th></th>\n",
       "      <th>﻿TeamId</th>\n",
       "      <th>TeamName</th>\n",
       "      <th>SubmissionDate</th>\n",
       "      <th>Score</th>\n",
       "    </tr>\n",
       "  </thead>\n",
       "  <tbody>\n",
       "    <tr>\n",
       "      <th>1116</th>\n",
       "      <td>332723</td>\n",
       "      <td>luoq</td>\n",
       "      <td>2016-05-31 02:57:14</td>\n",
       "      <td>0.76210</td>\n",
       "    </tr>\n",
       "    <tr>\n",
       "      <th>1117</th>\n",
       "      <td>332723</td>\n",
       "      <td>luoq</td>\n",
       "      <td>2016-05-31 03:33:38</td>\n",
       "      <td>0.76784</td>\n",
       "    </tr>\n",
       "    <tr>\n",
       "      <th>1128</th>\n",
       "      <td>332723</td>\n",
       "      <td>luoq</td>\n",
       "      <td>2016-05-31 10:53:39</td>\n",
       "      <td>0.76784</td>\n",
       "    </tr>\n",
       "    <tr>\n",
       "      <th>1144</th>\n",
       "      <td>332723</td>\n",
       "      <td>luoq</td>\n",
       "      <td>2016-06-01 01:26:02</td>\n",
       "      <td>0.78804</td>\n",
       "    </tr>\n",
       "    <tr>\n",
       "      <th>1145</th>\n",
       "      <td>332723</td>\n",
       "      <td>luoq</td>\n",
       "      <td>2016-06-01 05:03:52</td>\n",
       "      <td>0.80068</td>\n",
       "    </tr>\n",
       "    <tr>\n",
       "      <th>1146</th>\n",
       "      <td>332723</td>\n",
       "      <td>luoq</td>\n",
       "      <td>2016-06-01 10:45:47</td>\n",
       "      <td>0.80763</td>\n",
       "    </tr>\n",
       "    <tr>\n",
       "      <th>1167</th>\n",
       "      <td>332723</td>\n",
       "      <td>luoq</td>\n",
       "      <td>2016-06-02 02:31:37</td>\n",
       "      <td>0.82881</td>\n",
       "    </tr>\n",
       "    <tr>\n",
       "      <th>1174</th>\n",
       "      <td>332723</td>\n",
       "      <td>luoq</td>\n",
       "      <td>2016-06-02 06:01:23</td>\n",
       "      <td>0.83649</td>\n",
       "    </tr>\n",
       "    <tr>\n",
       "      <th>1206</th>\n",
       "      <td>332723</td>\n",
       "      <td>luoq</td>\n",
       "      <td>2016-06-03 10:21:27</td>\n",
       "      <td>0.83654</td>\n",
       "    </tr>\n",
       "    <tr>\n",
       "      <th>1309</th>\n",
       "      <td>332723</td>\n",
       "      <td>luoq</td>\n",
       "      <td>2016-06-06 11:23:05</td>\n",
       "      <td>0.83714</td>\n",
       "    </tr>\n",
       "    <tr>\n",
       "      <th>1332</th>\n",
       "      <td>332723</td>\n",
       "      <td>luoq</td>\n",
       "      <td>2016-06-07 03:35:36</td>\n",
       "      <td>0.89558</td>\n",
       "    </tr>\n",
       "    <tr>\n",
       "      <th>1366</th>\n",
       "      <td>332723</td>\n",
       "      <td>luoq</td>\n",
       "      <td>2016-06-08 06:11:24</td>\n",
       "      <td>0.90249</td>\n",
       "    </tr>\n",
       "    <tr>\n",
       "      <th>1412</th>\n",
       "      <td>332723</td>\n",
       "      <td>luoq</td>\n",
       "      <td>2016-06-09 05:52:11</td>\n",
       "      <td>0.90954</td>\n",
       "    </tr>\n",
       "    <tr>\n",
       "      <th>1530</th>\n",
       "      <td>332723</td>\n",
       "      <td>luoq</td>\n",
       "      <td>2016-06-12 08:54:48</td>\n",
       "      <td>0.91841</td>\n",
       "    </tr>\n",
       "    <tr>\n",
       "      <th>1701</th>\n",
       "      <td>332723</td>\n",
       "      <td>luoq</td>\n",
       "      <td>2016-06-15 07:18:48</td>\n",
       "      <td>0.91903</td>\n",
       "    </tr>\n",
       "    <tr>\n",
       "      <th>1704</th>\n",
       "      <td>332723</td>\n",
       "      <td>luoq</td>\n",
       "      <td>2016-06-15 08:34:40</td>\n",
       "      <td>0.91916</td>\n",
       "    </tr>\n",
       "    <tr>\n",
       "      <th>1713</th>\n",
       "      <td>332723</td>\n",
       "      <td>luoq</td>\n",
       "      <td>2016-06-15 10:17:36</td>\n",
       "      <td>0.91941</td>\n",
       "    </tr>\n",
       "    <tr>\n",
       "      <th>2071</th>\n",
       "      <td>332723</td>\n",
       "      <td>luoq</td>\n",
       "      <td>2016-06-23 10:59:09</td>\n",
       "      <td>0.92034</td>\n",
       "    </tr>\n",
       "    <tr>\n",
       "      <th>2818</th>\n",
       "      <td>332723</td>\n",
       "      <td>luoq</td>\n",
       "      <td>2016-07-04 08:07:50</td>\n",
       "      <td>0.93212</td>\n",
       "    </tr>\n",
       "    <tr>\n",
       "      <th>3223</th>\n",
       "      <td>332723</td>\n",
       "      <td>luoq</td>\n",
       "      <td>2016-07-08 01:30:57</td>\n",
       "      <td>0.93778</td>\n",
       "    </tr>\n",
       "    <tr>\n",
       "      <th>3233</th>\n",
       "      <td>332723</td>\n",
       "      <td>luoq</td>\n",
       "      <td>2016-07-08 06:29:38</td>\n",
       "      <td>0.93791</td>\n",
       "    </tr>\n",
       "    <tr>\n",
       "      <th>3322</th>\n",
       "      <td>332723</td>\n",
       "      <td>luoq</td>\n",
       "      <td>2016-07-09 04:08:20</td>\n",
       "      <td>0.93873</td>\n",
       "    </tr>\n",
       "    <tr>\n",
       "      <th>3430</th>\n",
       "      <td>332723</td>\n",
       "      <td>luoq</td>\n",
       "      <td>2016-07-10 01:54:56</td>\n",
       "      <td>0.93890</td>\n",
       "    </tr>\n",
       "    <tr>\n",
       "      <th>3566</th>\n",
       "      <td>332723</td>\n",
       "      <td>luoq</td>\n",
       "      <td>2016-07-11 01:24:38</td>\n",
       "      <td>0.93964</td>\n",
       "    </tr>\n",
       "  </tbody>\n",
       "</table>\n",
       "</div>"
      ],
      "text/plain": [
       "      ﻿TeamId TeamName      SubmissionDate    Score\n",
       "1116   332723     luoq 2016-05-31 02:57:14  0.76210\n",
       "1117   332723     luoq 2016-05-31 03:33:38  0.76784\n",
       "1128   332723     luoq 2016-05-31 10:53:39  0.76784\n",
       "1144   332723     luoq 2016-06-01 01:26:02  0.78804\n",
       "1145   332723     luoq 2016-06-01 05:03:52  0.80068\n",
       "1146   332723     luoq 2016-06-01 10:45:47  0.80763\n",
       "1167   332723     luoq 2016-06-02 02:31:37  0.82881\n",
       "1174   332723     luoq 2016-06-02 06:01:23  0.83649\n",
       "1206   332723     luoq 2016-06-03 10:21:27  0.83654\n",
       "1309   332723     luoq 2016-06-06 11:23:05  0.83714\n",
       "1332   332723     luoq 2016-06-07 03:35:36  0.89558\n",
       "1366   332723     luoq 2016-06-08 06:11:24  0.90249\n",
       "1412   332723     luoq 2016-06-09 05:52:11  0.90954\n",
       "1530   332723     luoq 2016-06-12 08:54:48  0.91841\n",
       "1701   332723     luoq 2016-06-15 07:18:48  0.91903\n",
       "1704   332723     luoq 2016-06-15 08:34:40  0.91916\n",
       "1713   332723     luoq 2016-06-15 10:17:36  0.91941\n",
       "2071   332723     luoq 2016-06-23 10:59:09  0.92034\n",
       "2818   332723     luoq 2016-07-04 08:07:50  0.93212\n",
       "3223   332723     luoq 2016-07-08 01:30:57  0.93778\n",
       "3233   332723     luoq 2016-07-08 06:29:38  0.93791\n",
       "3322   332723     luoq 2016-07-09 04:08:20  0.93873\n",
       "3430   332723     luoq 2016-07-10 01:54:56  0.93890\n",
       "3566   332723     luoq 2016-07-11 01:24:38  0.93964"
      ]
     },
     "execution_count": 3,
     "metadata": {},
     "output_type": "execute_result"
    }
   ],
   "source": [
    "leaderboard = pd.read_csv('avito-duplicate-ads-detection_public_leaderboard.csv',\n",
    "                          parse_dates=['SubmissionDate'])\n",
    "# remove bad data\n",
    "leaderboard = leaderboard[leaderboard['﻿TeamId']!=334028]\n",
    "leaderboard[leaderboard.TeamName=='luoq']"
   ]
  },
  {
   "cell_type": "markdown",
   "metadata": {
    "slideshow": {
     "slide_type": "subslide"
    }
   },
   "source": [
    "### top 20"
   ]
  },
  {
   "cell_type": "code",
   "execution_count": 4,
   "metadata": {
    "collapsed": false,
    "slideshow": {
     "slide_type": "-"
    }
   },
   "outputs": [
    {
     "data": {
      "text/plain": [
       "TeamName\n",
       "Devil Team                    0.95839\n",
       "TheQuants                     0.95317\n",
       "Native Russian Speakers :P    0.95118\n",
       "otivA                         0.95101\n",
       "ADAD                          0.94991\n",
       "8 + 9 = 11                    0.94732\n",
       "ololobhi                      0.94627\n",
       "DataMinders                   0.94456\n",
       "frist                         0.94456\n",
       "Li-Der                        0.94302\n",
       "Pavel Blinov                  0.94299\n",
       "TeamYK                        0.94137\n",
       "amsqr_run2                    0.94107\n",
       "luoq                          0.93964\n",
       "theFuture                     0.93907\n",
       "ZigZag                        0.93801\n",
       "Igor Pasechnik                0.93679\n",
       "leventis_vamvakas             0.93648\n",
       "Sameh & Javier                0.93603\n",
       "x0x0w1                        0.93579\n",
       "Name: Score, dtype: float64"
      ]
     },
     "execution_count": 4,
     "metadata": {},
     "output_type": "execute_result"
    }
   ],
   "source": [
    "leaderboard.groupby('TeamName')['Score'].max().sort_values(ascending=False).iloc[:20]"
   ]
  },
  {
   "cell_type": "code",
   "execution_count": 10,
   "metadata": {
    "collapsed": false,
    "slideshow": {
     "slide_type": "subslide"
    }
   },
   "outputs": [
    {
     "data": {
      "text/html": [
       "\n",
       "\n",
       "    <div class=\"bk-root\">\n",
       "        <div class=\"plotdiv\" id=\"9bf7e58d-825b-4e22-839e-ee8fb76c9fef\"></div>\n",
       "    </div>\n",
       "<script type=\"text/javascript\">\n",
       "  \n",
       "  (function(global) {\n",
       "    function now() {\n",
       "      return new Date();\n",
       "    }\n",
       "  \n",
       "    if (typeof (window._bokeh_onload_callbacks) === \"undefined\") {\n",
       "      window._bokeh_onload_callbacks = [];\n",
       "    }\n",
       "  \n",
       "    function run_callbacks() {\n",
       "      window._bokeh_onload_callbacks.forEach(function(callback) { callback() });\n",
       "      delete window._bokeh_onload_callbacks\n",
       "      console.info(\"Bokeh: all callbacks have finished\");\n",
       "    }\n",
       "  \n",
       "    function load_libs(js_urls, callback) {\n",
       "      window._bokeh_onload_callbacks.push(callback);\n",
       "      if (window._bokeh_is_loading > 0) {\n",
       "        console.log(\"Bokeh: BokehJS is being loaded, scheduling callback at\", now());\n",
       "        return null;\n",
       "      }\n",
       "      if (js_urls == null || js_urls.length === 0) {\n",
       "        run_callbacks();\n",
       "        return null;\n",
       "      }\n",
       "      console.log(\"Bokeh: BokehJS not loaded, scheduling load and callback at\", now());\n",
       "      window._bokeh_is_loading = js_urls.length;\n",
       "      for (var i = 0; i < js_urls.length; i++) {\n",
       "        var url = js_urls[i];\n",
       "        var s = document.createElement('script');\n",
       "        s.src = url;\n",
       "        s.async = false;\n",
       "        s.onreadystatechange = s.onload = function() {\n",
       "          window._bokeh_is_loading--;\n",
       "          if (window._bokeh_is_loading === 0) {\n",
       "            console.log(\"Bokeh: all BokehJS libraries loaded\");\n",
       "            run_callbacks()\n",
       "          }\n",
       "        };\n",
       "        s.onerror = function() {\n",
       "          console.warn(\"failed to load library \" + url);\n",
       "        };\n",
       "        console.log(\"Bokeh: injecting script tag for BokehJS library: \", url);\n",
       "        document.getElementsByTagName(\"head\")[0].appendChild(s);\n",
       "      }\n",
       "    };var element = document.getElementById(\"9bf7e58d-825b-4e22-839e-ee8fb76c9fef\");\n",
       "    if (element == null) {\n",
       "      console.log(\"Bokeh: ERROR: autoload.js configured with elementid '9bf7e58d-825b-4e22-839e-ee8fb76c9fef' but no matching script tag was found. \")\n",
       "      return false;\n",
       "    }\n",
       "  \n",
       "    var js_urls = [];\n",
       "  \n",
       "    var inline_js = [\n",
       "      function(Bokeh) {\n",
       "        Bokeh.$(function() {\n",
       "            var docs_json = {\"61aaa857-85a5-4cfd-ba29-54fa60ba455f\":{\"roots\":{\"references\":[{\"attributes\":{\"callback\":null,\"column_names\":[\"y_values\",\"x_values\"],\"data\":{\"TeamName\":[\"ZigZag\",\"ZigZag\",\"ZigZag\",\"ZigZag\",\"ZigZag\",\"ZigZag\",\"ZigZag\",\"ZigZag\",\"ZigZag\",\"ZigZag\",\"ZigZag\",\"ZigZag\",\"ZigZag\",\"ZigZag\",\"ZigZag\",\"ZigZag\",\"ZigZag\",\"ZigZag\",\"ZigZag\",\"ZigZag\",\"ZigZag\",\"ZigZag\",\"ZigZag\",\"ZigZag\",\"ZigZag\",\"ZigZag\",\"ZigZag\",\"ZigZag\",\"ZigZag\",\"ZigZag\",\"ZigZag\",\"ZigZag\",\"ZigZag\",\"ZigZag\",\"ZigZag\",\"ZigZag\",\"ZigZag\",\"ZigZag\"],\"chart_index\":[{\"TeamName\":\"ZigZag\"},{\"TeamName\":\"ZigZag\"},{\"TeamName\":\"ZigZag\"},{\"TeamName\":\"ZigZag\"},{\"TeamName\":\"ZigZag\"},{\"TeamName\":\"ZigZag\"},{\"TeamName\":\"ZigZag\"},{\"TeamName\":\"ZigZag\"},{\"TeamName\":\"ZigZag\"},{\"TeamName\":\"ZigZag\"},{\"TeamName\":\"ZigZag\"},{\"TeamName\":\"ZigZag\"},{\"TeamName\":\"ZigZag\"},{\"TeamName\":\"ZigZag\"},{\"TeamName\":\"ZigZag\"},{\"TeamName\":\"ZigZag\"},{\"TeamName\":\"ZigZag\"},{\"TeamName\":\"ZigZag\"},{\"TeamName\":\"ZigZag\"},{\"TeamName\":\"ZigZag\"},{\"TeamName\":\"ZigZag\"},{\"TeamName\":\"ZigZag\"},{\"TeamName\":\"ZigZag\"},{\"TeamName\":\"ZigZag\"},{\"TeamName\":\"ZigZag\"},{\"TeamName\":\"ZigZag\"},{\"TeamName\":\"ZigZag\"},{\"TeamName\":\"ZigZag\"},{\"TeamName\":\"ZigZag\"},{\"TeamName\":\"ZigZag\"},{\"TeamName\":\"ZigZag\"},{\"TeamName\":\"ZigZag\"},{\"TeamName\":\"ZigZag\"},{\"TeamName\":\"ZigZag\"},{\"TeamName\":\"ZigZag\"},{\"TeamName\":\"ZigZag\"},{\"TeamName\":\"ZigZag\"},{\"TeamName\":\"ZigZag\"}],\"x_values\":[1462710413000.0,1462711723000.0,1462713127000.0,1463083431000.0,1463085410000.0,1463085664000.0,1463248774000.0,1463834193000.0,1463916731000.0,1464059047000.0,1464154202000.0,1464188432000.0,1464304739000.0,1464455849000.0,1464468617000.0,1464855409000.0,1464927948000.0,1465056430000.0,1465179165000.0,1465301956000.0,1465392621000.0,1466048981000.0,1466308582000.0,1466862471000.0,1466905028000.0,1466962997000.0,1467045182000.0,1467250827000.0,1467637543000.0,1467846530000.0,1467849506000.0,1467877825000.0,1468097332000.0,1468097694000.0,1468243100000.0,1468259934000.0,1468269271000.0,1468280941000.0],\"y_values\":[0.63859,0.64184,0.64423,0.78845,0.7885,0.792,0.793,0.7973100000000001,0.81374,0.81558,0.91559,0.9159700000000001,0.91896,0.9224100000000001,0.9244399999999999,0.92445,0.92458,0.92584,0.9276200000000001,0.9278700000000001,0.92835,0.93269,0.93329,0.93365,0.9338200000000001,0.9351700000000001,0.93527,0.93545,0.9355,0.9364399999999999,0.9366399999999999,0.9366700000000001,0.93709,0.9373,0.93734,0.9379200000000001,0.93795,0.93801]}},\"id\":\"da89e636-e826-4138-81b3-ef3bf2273f7f\",\"type\":\"ColumnDataSource\"},{\"attributes\":{\"plot\":{\"id\":\"f6dd0385-6fcf-4ae9-a7c9-35b8c6a16701\",\"subtype\":\"Chart\",\"type\":\"Plot\"}},\"id\":\"108e6a44-b3af-4458-a048-adc1d3a9df6b\",\"type\":\"ResetTool\"},{\"attributes\":{\"callback\":null,\"column_names\":[\"y_values\",\"x_values\"],\"data\":{\"TeamName\":[\"Devil Team\",\"Devil Team\",\"Devil Team\",\"Devil Team\",\"Devil Team\",\"Devil Team\",\"Devil Team\",\"Devil Team\",\"Devil Team\",\"Devil Team\",\"Devil Team\",\"Devil Team\",\"Devil Team\",\"Devil Team\",\"Devil Team\",\"Devil Team\",\"Devil Team\",\"Devil Team\",\"Devil Team\",\"Devil Team\",\"Devil Team\",\"Devil Team\",\"Devil Team\",\"Devil Team\",\"Devil Team\",\"Devil Team\",\"Devil Team\",\"Devil Team\",\"Devil Team\",\"Devil Team\",\"Devil Team\",\"Devil Team\",\"Devil Team\",\"Devil Team\",\"Devil Team\"],\"chart_index\":[{\"TeamName\":\"Devil Team\"},{\"TeamName\":\"Devil Team\"},{\"TeamName\":\"Devil Team\"},{\"TeamName\":\"Devil Team\"},{\"TeamName\":\"Devil Team\"},{\"TeamName\":\"Devil Team\"},{\"TeamName\":\"Devil Team\"},{\"TeamName\":\"Devil Team\"},{\"TeamName\":\"Devil Team\"},{\"TeamName\":\"Devil Team\"},{\"TeamName\":\"Devil Team\"},{\"TeamName\":\"Devil Team\"},{\"TeamName\":\"Devil Team\"},{\"TeamName\":\"Devil Team\"},{\"TeamName\":\"Devil Team\"},{\"TeamName\":\"Devil Team\"},{\"TeamName\":\"Devil Team\"},{\"TeamName\":\"Devil Team\"},{\"TeamName\":\"Devil Team\"},{\"TeamName\":\"Devil Team\"},{\"TeamName\":\"Devil Team\"},{\"TeamName\":\"Devil Team\"},{\"TeamName\":\"Devil Team\"},{\"TeamName\":\"Devil Team\"},{\"TeamName\":\"Devil Team\"},{\"TeamName\":\"Devil Team\"},{\"TeamName\":\"Devil Team\"},{\"TeamName\":\"Devil Team\"},{\"TeamName\":\"Devil Team\"},{\"TeamName\":\"Devil Team\"},{\"TeamName\":\"Devil Team\"},{\"TeamName\":\"Devil Team\"},{\"TeamName\":\"Devil Team\"},{\"TeamName\":\"Devil Team\"},{\"TeamName\":\"Devil Team\"}],\"x_values\":[1463429915000.0,1463430887000.0,1463431267000.0,1463520390000.0,1463521427000.0,1463543932000.0,1463694410000.0,1463762308000.0,1463762759000.0,1463775416000.0,1463808707000.0,1463820432000.0,1463820797000.0,1464216180000.0,1464217284000.0,1464241658000.0,1464357962000.0,1464359497000.0,1465641473000.0,1465758609000.0,1465865452000.0,1465866127000.0,1465887856000.0,1465888048000.0,1466025299000.0,1466067937000.0,1466098848000.0,1466165852000.0,1466551386000.0,1466667059000.0,1467198972000.0,1467787325000.0,1468275022000.0,1468275700000.0,1468276153000.0],\"y_values\":[0.81167,0.84864,0.8487,0.88597,0.90345,0.9037799999999999,0.9053700000000001,0.90561,0.90586,0.90775,0.9089,0.90954,0.91058,0.9151299999999999,0.91558,0.9184399999999999,0.92032,0.92312,0.92432,0.9259,0.9273100000000001,0.92945,0.9299799999999999,0.93017,0.9384399999999999,0.9413799999999999,0.94284,0.94545,0.9454600000000001,0.9454799999999999,0.9456200000000001,0.94568,0.95326,0.95337,0.95839]}},\"id\":\"f6646a1d-26fd-476a-8dc7-2badb5a2e9bf\",\"type\":\"ColumnDataSource\"},{\"attributes\":{\"callback\":null,\"column_names\":[\"y_values\",\"x_values\"],\"data\":{\"TeamName\":[\"TheQuants\",\"TheQuants\",\"TheQuants\",\"TheQuants\",\"TheQuants\",\"TheQuants\",\"TheQuants\",\"TheQuants\",\"TheQuants\",\"TheQuants\",\"TheQuants\",\"TheQuants\",\"TheQuants\",\"TheQuants\",\"TheQuants\",\"TheQuants\",\"TheQuants\",\"TheQuants\",\"TheQuants\",\"TheQuants\",\"TheQuants\",\"TheQuants\",\"TheQuants\",\"TheQuants\",\"TheQuants\",\"TheQuants\",\"TheQuants\",\"TheQuants\",\"TheQuants\",\"TheQuants\",\"TheQuants\",\"TheQuants\",\"TheQuants\",\"TheQuants\",\"TheQuants\",\"TheQuants\",\"TheQuants\",\"TheQuants\",\"TheQuants\",\"TheQuants\",\"TheQuants\",\"TheQuants\",\"TheQuants\",\"TheQuants\",\"TheQuants\",\"TheQuants\",\"TheQuants\",\"TheQuants\",\"TheQuants\",\"TheQuants\",\"TheQuants\"],\"chart_index\":[{\"TeamName\":\"TheQuants\"},{\"TeamName\":\"TheQuants\"},{\"TeamName\":\"TheQuants\"},{\"TeamName\":\"TheQuants\"},{\"TeamName\":\"TheQuants\"},{\"TeamName\":\"TheQuants\"},{\"TeamName\":\"TheQuants\"},{\"TeamName\":\"TheQuants\"},{\"TeamName\":\"TheQuants\"},{\"TeamName\":\"TheQuants\"},{\"TeamName\":\"TheQuants\"},{\"TeamName\":\"TheQuants\"},{\"TeamName\":\"TheQuants\"},{\"TeamName\":\"TheQuants\"},{\"TeamName\":\"TheQuants\"},{\"TeamName\":\"TheQuants\"},{\"TeamName\":\"TheQuants\"},{\"TeamName\":\"TheQuants\"},{\"TeamName\":\"TheQuants\"},{\"TeamName\":\"TheQuants\"},{\"TeamName\":\"TheQuants\"},{\"TeamName\":\"TheQuants\"},{\"TeamName\":\"TheQuants\"},{\"TeamName\":\"TheQuants\"},{\"TeamName\":\"TheQuants\"},{\"TeamName\":\"TheQuants\"},{\"TeamName\":\"TheQuants\"},{\"TeamName\":\"TheQuants\"},{\"TeamName\":\"TheQuants\"},{\"TeamName\":\"TheQuants\"},{\"TeamName\":\"TheQuants\"},{\"TeamName\":\"TheQuants\"},{\"TeamName\":\"TheQuants\"},{\"TeamName\":\"TheQuants\"},{\"TeamName\":\"TheQuants\"},{\"TeamName\":\"TheQuants\"},{\"TeamName\":\"TheQuants\"},{\"TeamName\":\"TheQuants\"},{\"TeamName\":\"TheQuants\"},{\"TeamName\":\"TheQuants\"},{\"TeamName\":\"TheQuants\"},{\"TeamName\":\"TheQuants\"},{\"TeamName\":\"TheQuants\"},{\"TeamName\":\"TheQuants\"},{\"TeamName\":\"TheQuants\"},{\"TeamName\":\"TheQuants\"},{\"TeamName\":\"TheQuants\"},{\"TeamName\":\"TheQuants\"},{\"TeamName\":\"TheQuants\"},{\"TeamName\":\"TheQuants\"},{\"TeamName\":\"TheQuants\"}],\"x_values\":[1462570753000.0,1462570942000.0,1462584927000.0,1462701485000.0,1462771109000.0,1462796868000.0,1462877290000.0,1462910262000.0,1462990674000.0,1462991951000.0,1463005462000.0,1463032870000.0,1463080727000.0,1463081632000.0,1463087033000.0,1463089426000.0,1463153174000.0,1463173174000.0,1463240482000.0,1463299091000.0,1463306992000.0,1463572855000.0,1463982324000.0,1464090972000.0,1464299901000.0,1464619771000.0,1464701350000.0,1464807060000.0,1464893710000.0,1464987944000.0,1464988478000.0,1465032432000.0,1465068400000.0,1465488780000.0,1465740684000.0,1466196608000.0,1466520524000.0,1466628322000.0,1466642966000.0,1466660477000.0,1466697779000.0,1466712385000.0,1467211979000.0,1467328065000.0,1467365269000.0,1467511375000.0,1467703823000.0,1467722525000.0,1467742611000.0,1467749533000.0,1468098680000.0],\"y_values\":[0.50016,0.61952,0.79187,0.7973600000000001,0.79874,0.79896,0.81106,0.8771899999999999,0.87755,0.88349,0.89543,0.89807,0.9025200000000001,0.90561,0.90917,0.9104200000000001,0.91048,0.91096,0.9111600000000001,0.9137700000000001,0.9220799999999999,0.9248700000000001,0.92742,0.93006,0.9327700000000001,0.93375,0.93458,0.9361299999999999,0.93629,0.93709,0.9384299999999999,0.9387,0.9420799999999999,0.9437200000000001,0.94406,0.9444899999999999,0.9447700000000001,0.9458799999999999,0.94785,0.94785,0.9481200000000001,0.94905,0.9491700000000001,0.9496100000000001,0.94988,0.9502799999999999,0.9514600000000001,0.9516700000000001,0.9526600000000001,0.9531,0.9531700000000001]}},\"id\":\"9e90560b-3673-4b20-9fa8-06970681565b\",\"type\":\"ColumnDataSource\"},{\"attributes\":{\"base\":24,\"mantissas\":[1,2,4,6,8,12],\"max_interval\":43200000.0,\"min_interval\":3600000.0,\"num_minor_ticks\":0},\"id\":\"b2727115-d26c-4a45-895e-9e3e9edc7438\",\"type\":\"AdaptiveTicker\"},{\"attributes\":{\"line_color\":{\"value\":\"#5ab738\"},\"line_width\":{\"value\":2},\"x\":{\"field\":\"x_values\"},\"y\":{\"field\":\"y_values\"}},\"id\":\"edf5634d-1b80-49d6-b511-749bc446d419\",\"type\":\"Line\"},{\"attributes\":{\"line_color\":{\"value\":\"#00ad9c\"},\"line_width\":{\"value\":2},\"x\":{\"field\":\"x_values\"},\"y\":{\"field\":\"y_values\"}},\"id\":\"a32b4949-b586-4d85-a48a-42e778176691\",\"type\":\"Line\"},{\"attributes\":{\"callback\":null,\"column_names\":[\"y_values\",\"x_values\"],\"data\":{\"TeamName\":[\"ololobhi\",\"ololobhi\",\"ololobhi\",\"ololobhi\",\"ololobhi\",\"ololobhi\",\"ololobhi\",\"ololobhi\",\"ololobhi\",\"ololobhi\",\"ololobhi\",\"ololobhi\",\"ololobhi\",\"ololobhi\",\"ololobhi\",\"ololobhi\",\"ololobhi\",\"ololobhi\",\"ololobhi\",\"ololobhi\",\"ololobhi\",\"ololobhi\",\"ololobhi\",\"ololobhi\",\"ololobhi\",\"ololobhi\",\"ololobhi\",\"ololobhi\",\"ololobhi\",\"ololobhi\",\"ololobhi\",\"ololobhi\",\"ololobhi\",\"ololobhi\",\"ololobhi\",\"ololobhi\",\"ololobhi\",\"ololobhi\",\"ololobhi\",\"ololobhi\",\"ololobhi\",\"ololobhi\",\"ololobhi\",\"ololobhi\",\"ololobhi\",\"ololobhi\",\"ololobhi\",\"ololobhi\",\"ololobhi\"],\"chart_index\":[{\"TeamName\":\"ololobhi\"},{\"TeamName\":\"ololobhi\"},{\"TeamName\":\"ololobhi\"},{\"TeamName\":\"ololobhi\"},{\"TeamName\":\"ololobhi\"},{\"TeamName\":\"ololobhi\"},{\"TeamName\":\"ololobhi\"},{\"TeamName\":\"ololobhi\"},{\"TeamName\":\"ololobhi\"},{\"TeamName\":\"ololobhi\"},{\"TeamName\":\"ololobhi\"},{\"TeamName\":\"ololobhi\"},{\"TeamName\":\"ololobhi\"},{\"TeamName\":\"ololobhi\"},{\"TeamName\":\"ololobhi\"},{\"TeamName\":\"ololobhi\"},{\"TeamName\":\"ololobhi\"},{\"TeamName\":\"ololobhi\"},{\"TeamName\":\"ololobhi\"},{\"TeamName\":\"ololobhi\"},{\"TeamName\":\"ololobhi\"},{\"TeamName\":\"ololobhi\"},{\"TeamName\":\"ololobhi\"},{\"TeamName\":\"ololobhi\"},{\"TeamName\":\"ololobhi\"},{\"TeamName\":\"ololobhi\"},{\"TeamName\":\"ololobhi\"},{\"TeamName\":\"ololobhi\"},{\"TeamName\":\"ololobhi\"},{\"TeamName\":\"ololobhi\"},{\"TeamName\":\"ololobhi\"},{\"TeamName\":\"ololobhi\"},{\"TeamName\":\"ololobhi\"},{\"TeamName\":\"ololobhi\"},{\"TeamName\":\"ololobhi\"},{\"TeamName\":\"ololobhi\"},{\"TeamName\":\"ololobhi\"},{\"TeamName\":\"ololobhi\"},{\"TeamName\":\"ololobhi\"},{\"TeamName\":\"ololobhi\"},{\"TeamName\":\"ololobhi\"},{\"TeamName\":\"ololobhi\"},{\"TeamName\":\"ololobhi\"},{\"TeamName\":\"ololobhi\"},{\"TeamName\":\"ololobhi\"},{\"TeamName\":\"ololobhi\"},{\"TeamName\":\"ololobhi\"},{\"TeamName\":\"ololobhi\"},{\"TeamName\":\"ololobhi\"}],\"x_values\":[1462526204000.0,1462537349000.0,1463090267000.0,1463246485000.0,1463248400000.0,1463256941000.0,1463933066000.0,1463933946000.0,1463949252000.0,1463985356000.0,1463985501000.0,1463995324000.0,1463995617000.0,1464594918000.0,1464595134000.0,1464595232000.0,1464610081000.0,1464610558000.0,1464689795000.0,1464706505000.0,1465376951000.0,1465397334000.0,1465457533000.0,1465457659000.0,1466602124000.0,1466669858000.0,1466694686000.0,1466741580000.0,1466883446000.0,1466970669000.0,1466970851000.0,1466971115000.0,1467027885000.0,1467028431000.0,1467028729000.0,1467030403000.0,1467100690000.0,1467142809000.0,1467216144000.0,1467280639000.0,1467345140000.0,1467407658000.0,1467452480000.0,1467478335000.0,1467613973000.0,1467624982000.0,1467717029000.0,1468268226000.0,1468275481000.0],\"y_values\":[0.61952,0.77967,0.78354,0.83106,0.85521,0.8561799999999999,0.91253,0.91756,0.918,0.92489,0.9254,0.92551,0.9258299999999999,0.92971,0.93037,0.93042,0.9320700000000001,0.93243,0.93327,0.93416,0.9363,0.93637,0.9365,0.9369200000000001,0.9379,0.93853,0.93875,0.9389299999999999,0.93948,0.9396,0.9396,0.93968,0.93975,0.9399299999999999,0.94105,0.94147,0.9419299999999999,0.94279,0.94331,0.9436700000000001,0.94385,0.9440799999999999,0.94437,0.9455100000000001,0.94557,0.9456600000000001,0.9457700000000001,0.94621,0.9462700000000001]}},\"id\":\"4a22c178-9c70-4617-92b4-6d6691cc41c2\",\"type\":\"ColumnDataSource\"},{\"attributes\":{\"data_source\":{\"id\":\"c986af7b-d77e-436b-8b6b-01e2c9dfb27f\",\"type\":\"ColumnDataSource\"},\"glyph\":{\"id\":\"a7c41d3e-7415-41e1-8fe2-ca5c4b0a7c51\",\"type\":\"Line\"},\"hover_glyph\":null,\"nonselection_glyph\":null,\"selection_glyph\":null},\"id\":\"d8bcc3fd-25af-4462-926c-850df9d62fad\",\"type\":\"GlyphRenderer\"},{\"attributes\":{\"months\":[0,4,8]},\"id\":\"289a17c2-6c78-4209-9941-e600ad92a2bd\",\"type\":\"MonthsTicker\"},{\"attributes\":{\"callback\":null,\"column_names\":[\"y_values\",\"x_values\"],\"data\":{\"TeamName\":[\"Native Russian Speakers :P\",\"Native Russian Speakers :P\",\"Native Russian Speakers :P\",\"Native Russian Speakers :P\",\"Native Russian Speakers :P\",\"Native Russian Speakers :P\",\"Native Russian Speakers :P\",\"Native Russian Speakers :P\",\"Native Russian Speakers :P\",\"Native Russian Speakers :P\",\"Native Russian Speakers :P\",\"Native Russian Speakers :P\",\"Native Russian Speakers :P\",\"Native Russian Speakers :P\",\"Native Russian Speakers :P\",\"Native Russian Speakers :P\",\"Native Russian Speakers :P\",\"Native Russian Speakers :P\",\"Native Russian Speakers :P\",\"Native Russian Speakers :P\",\"Native Russian Speakers :P\",\"Native Russian Speakers :P\",\"Native Russian Speakers :P\",\"Native Russian Speakers :P\",\"Native Russian Speakers :P\",\"Native Russian Speakers :P\"],\"chart_index\":[{\"TeamName\":\"Native Russian Speakers :P\"},{\"TeamName\":\"Native Russian Speakers :P\"},{\"TeamName\":\"Native Russian Speakers :P\"},{\"TeamName\":\"Native Russian Speakers :P\"},{\"TeamName\":\"Native Russian Speakers :P\"},{\"TeamName\":\"Native Russian Speakers :P\"},{\"TeamName\":\"Native Russian Speakers :P\"},{\"TeamName\":\"Native Russian Speakers :P\"},{\"TeamName\":\"Native Russian Speakers :P\"},{\"TeamName\":\"Native Russian Speakers :P\"},{\"TeamName\":\"Native Russian Speakers :P\"},{\"TeamName\":\"Native Russian Speakers :P\"},{\"TeamName\":\"Native Russian Speakers :P\"},{\"TeamName\":\"Native Russian Speakers :P\"},{\"TeamName\":\"Native Russian Speakers :P\"},{\"TeamName\":\"Native Russian Speakers :P\"},{\"TeamName\":\"Native Russian Speakers :P\"},{\"TeamName\":\"Native Russian Speakers :P\"},{\"TeamName\":\"Native Russian Speakers :P\"},{\"TeamName\":\"Native Russian Speakers :P\"},{\"TeamName\":\"Native Russian Speakers :P\"},{\"TeamName\":\"Native Russian Speakers :P\"},{\"TeamName\":\"Native Russian Speakers :P\"},{\"TeamName\":\"Native Russian Speakers :P\"},{\"TeamName\":\"Native Russian Speakers :P\"},{\"TeamName\":\"Native Russian Speakers :P\"}],\"x_values\":[1462531901000.0,1467065175000.0,1467126227000.0,1467153107000.0,1467226780000.0,1467227971000.0,1467239928000.0,1467292691000.0,1467323299000.0,1467328200000.0,1467370371000.0,1467415174000.0,1467427088000.0,1467431506000.0,1467467691000.0,1467738642000.0,1467760698000.0,1467804822000.0,1467910267000.0,1467996909000.0,1468048300000.0,1468077495000.0,1468100464000.0,1468203453000.0,1468272739000.0,1468316307000.0],\"y_values\":[0.6412800000000001,0.7207399999999999,0.80398,0.82042,0.83309,0.8474200000000001,0.84995,0.92504,0.9264700000000001,0.92717,0.9293,0.9308799999999999,0.93255,0.9329200000000001,0.9361200000000001,0.93679,0.9406,0.94105,0.9411799999999999,0.94153,0.9421799999999999,0.9438200000000001,0.9442200000000001,0.9446399999999999,0.9449200000000001,0.9511799999999999]}},\"id\":\"b329c222-f2f8-4e40-8fee-1bf3fba2d80f\",\"type\":\"ColumnDataSource\"},{\"attributes\":{\"callback\":null,\"column_names\":[\"y_values\",\"x_values\"],\"data\":{\"TeamName\":[\"luoq\",\"luoq\",\"luoq\",\"luoq\",\"luoq\",\"luoq\",\"luoq\",\"luoq\",\"luoq\",\"luoq\",\"luoq\",\"luoq\",\"luoq\",\"luoq\",\"luoq\",\"luoq\",\"luoq\",\"luoq\",\"luoq\",\"luoq\",\"luoq\",\"luoq\",\"luoq\",\"luoq\"],\"chart_index\":[{\"TeamName\":\"luoq\"},{\"TeamName\":\"luoq\"},{\"TeamName\":\"luoq\"},{\"TeamName\":\"luoq\"},{\"TeamName\":\"luoq\"},{\"TeamName\":\"luoq\"},{\"TeamName\":\"luoq\"},{\"TeamName\":\"luoq\"},{\"TeamName\":\"luoq\"},{\"TeamName\":\"luoq\"},{\"TeamName\":\"luoq\"},{\"TeamName\":\"luoq\"},{\"TeamName\":\"luoq\"},{\"TeamName\":\"luoq\"},{\"TeamName\":\"luoq\"},{\"TeamName\":\"luoq\"},{\"TeamName\":\"luoq\"},{\"TeamName\":\"luoq\"},{\"TeamName\":\"luoq\"},{\"TeamName\":\"luoq\"},{\"TeamName\":\"luoq\"},{\"TeamName\":\"luoq\"},{\"TeamName\":\"luoq\"},{\"TeamName\":\"luoq\"}],\"x_values\":[1464663434000.0,1464665618000.0,1464692019000.0,1464744362000.0,1464757432000.0,1464777947000.0,1464834697000.0,1464847283000.0,1464949287000.0,1465212185000.0,1465270536000.0,1465366284000.0,1465451531000.0,1465721688000.0,1465975128000.0,1465979680000.0,1465985856000.0,1466679549000.0,1467619670000.0,1467941457000.0,1467959378000.0,1468037300000.0,1468115696000.0,1468200278000.0],\"y_values\":[0.7621,0.76784,0.76784,0.78804,0.8006800000000001,0.8076300000000001,0.82881,0.83649,0.83654,0.83714,0.8955799999999999,0.90249,0.90954,0.9184100000000001,0.9190299999999999,0.9191600000000001,0.9194100000000001,0.9203399999999999,0.9321200000000001,0.93778,0.93791,0.93873,0.9389,0.9396399999999999]}},\"id\":\"10c9019b-7fcc-458f-a422-dda762d20ad7\",\"type\":\"ColumnDataSource\"},{\"attributes\":{\"callback\":null,\"column_names\":[\"y_values\",\"x_values\"],\"data\":{\"TeamName\":[\"otivA\",\"otivA\",\"otivA\",\"otivA\",\"otivA\",\"otivA\",\"otivA\",\"otivA\",\"otivA\",\"otivA\",\"otivA\",\"otivA\",\"otivA\",\"otivA\",\"otivA\",\"otivA\",\"otivA\",\"otivA\",\"otivA\",\"otivA\",\"otivA\",\"otivA\",\"otivA\",\"otivA\",\"otivA\",\"otivA\",\"otivA\",\"otivA\",\"otivA\",\"otivA\",\"otivA\",\"otivA\",\"otivA\",\"otivA\",\"otivA\",\"otivA\",\"otivA\",\"otivA\",\"otivA\",\"otivA\",\"otivA\",\"otivA\"],\"chart_index\":[{\"TeamName\":\"otivA\"},{\"TeamName\":\"otivA\"},{\"TeamName\":\"otivA\"},{\"TeamName\":\"otivA\"},{\"TeamName\":\"otivA\"},{\"TeamName\":\"otivA\"},{\"TeamName\":\"otivA\"},{\"TeamName\":\"otivA\"},{\"TeamName\":\"otivA\"},{\"TeamName\":\"otivA\"},{\"TeamName\":\"otivA\"},{\"TeamName\":\"otivA\"},{\"TeamName\":\"otivA\"},{\"TeamName\":\"otivA\"},{\"TeamName\":\"otivA\"},{\"TeamName\":\"otivA\"},{\"TeamName\":\"otivA\"},{\"TeamName\":\"otivA\"},{\"TeamName\":\"otivA\"},{\"TeamName\":\"otivA\"},{\"TeamName\":\"otivA\"},{\"TeamName\":\"otivA\"},{\"TeamName\":\"otivA\"},{\"TeamName\":\"otivA\"},{\"TeamName\":\"otivA\"},{\"TeamName\":\"otivA\"},{\"TeamName\":\"otivA\"},{\"TeamName\":\"otivA\"},{\"TeamName\":\"otivA\"},{\"TeamName\":\"otivA\"},{\"TeamName\":\"otivA\"},{\"TeamName\":\"otivA\"},{\"TeamName\":\"otivA\"},{\"TeamName\":\"otivA\"},{\"TeamName\":\"otivA\"},{\"TeamName\":\"otivA\"},{\"TeamName\":\"otivA\"},{\"TeamName\":\"otivA\"},{\"TeamName\":\"otivA\"},{\"TeamName\":\"otivA\"},{\"TeamName\":\"otivA\"},{\"TeamName\":\"otivA\"}],\"x_values\":[1464277662000.0,1464292963000.0,1464363647000.0,1465407164000.0,1465550242000.0,1465719634000.0,1465815789000.0,1465893552000.0,1465906369000.0,1465940991000.0,1465986432000.0,1465992754000.0,1466005634000.0,1466017801000.0,1466117522000.0,1466353405000.0,1466354548000.0,1466688540000.0,1466757419000.0,1466848846000.0,1466940742000.0,1466940916000.0,1466941015000.0,1467042514000.0,1467043694000.0,1467283947000.0,1467359341000.0,1467379730000.0,1467454277000.0,1467653568000.0,1467699138000.0,1467721474000.0,1467805694000.0,1467965296000.0,1467966142000.0,1468061855000.0,1468062011000.0,1468179415000.0,1468242124000.0,1468242209000.0,1468304971000.0,1468305164000.0],\"y_values\":[0.89443,0.8945799999999999,0.89481,0.9053,0.90653,0.9165,0.9204,0.9222299999999999,0.92335,0.9317,0.93216,0.93261,0.93329,0.9336700000000001,0.93632,0.93724,0.9378799999999999,0.93878,0.94052,0.94134,0.94135,0.94152,0.94158,0.9415899999999999,0.94166,0.94219,0.94224,0.94235,0.94271,0.94399,0.9440700000000001,0.94519,0.94525,0.94535,0.94544,0.9454600000000001,0.94552,0.94599,0.946,0.9460200000000001,0.9462700000000001,0.95101]}},\"id\":\"a0703fce-3f9a-4bb6-b815-e8cd43500028\",\"type\":\"ColumnDataSource\"},{\"attributes\":{\"data_source\":{\"id\":\"a5d18807-b134-4b85-9847-cf7a22c3579d\",\"type\":\"ColumnDataSource\"},\"glyph\":{\"id\":\"4ba9fddc-a144-41eb-be6f-794c2f1b9ebe\",\"type\":\"Line\"},\"hover_glyph\":null,\"nonselection_glyph\":null,\"selection_glyph\":null},\"id\":\"deb8d1b1-c687-4a17-ae4c-50f789bf4717\",\"type\":\"GlyphRenderer\"},{\"attributes\":{\"line_color\":{\"value\":\"#c33ff3\"},\"line_width\":{\"value\":2},\"x\":{\"field\":\"x_values\"},\"y\":{\"field\":\"y_values\"}},\"id\":\"6f324fbd-4bf7-4999-882f-d877887b791a\",\"type\":\"Line\"},{\"attributes\":{\"data_source\":{\"id\":\"65191648-fb71-4799-849d-8c9d0e0f3ab0\",\"type\":\"ColumnDataSource\"},\"glyph\":{\"id\":\"edf5634d-1b80-49d6-b511-749bc446d419\",\"type\":\"Line\"},\"hover_glyph\":null,\"nonselection_glyph\":null,\"selection_glyph\":null},\"id\":\"9ca3cb25-2208-47ef-9944-fa6a3fe2bb3b\",\"type\":\"GlyphRenderer\"},{\"attributes\":{\"line_color\":{\"value\":\"#df5320\"},\"line_width\":{\"value\":2},\"x\":{\"field\":\"x_values\"},\"y\":{\"field\":\"y_values\"}},\"id\":\"9ce3683d-b7e2-4657-85d8-7a6a45379ffc\",\"type\":\"Line\"},{\"attributes\":{\"axis_label\":\"Score\",\"formatter\":{\"id\":\"4bfb230b-b357-42e6-bf3d-8188b9de6c6b\",\"type\":\"BasicTickFormatter\"},\"plot\":{\"id\":\"f6dd0385-6fcf-4ae9-a7c9-35b8c6a16701\",\"subtype\":\"Chart\",\"type\":\"Plot\"},\"ticker\":{\"id\":\"19e904ea-701e-4c17-a327-7a3945835e4d\",\"type\":\"BasicTicker\"}},\"id\":\"1520e3da-9068-47f2-845e-fa48b603c591\",\"type\":\"LinearAxis\"},{\"attributes\":{\"below\":[{\"id\":\"fde6f97d-e0b9-4f15-96f5-e3f9cef85853\",\"type\":\"DatetimeAxis\"}],\"left\":[{\"id\":\"1520e3da-9068-47f2-845e-fa48b603c591\",\"type\":\"LinearAxis\"}],\"plot_width\":1000,\"renderers\":[{\"id\":\"73ac9dec-964f-457a-b853-1de443a260c5\",\"type\":\"BoxAnnotation\"},{\"id\":\"323ee3d2-c3c2-480f-9df3-7024deacca38\",\"type\":\"GlyphRenderer\"},{\"id\":\"9de61671-a523-44fe-a530-7d6109064f06\",\"type\":\"GlyphRenderer\"},{\"id\":\"06510f77-c0f2-474d-8e3f-220eb1e6fd65\",\"type\":\"GlyphRenderer\"},{\"id\":\"9eb677cb-b9a8-4047-abcc-eae282dd81f2\",\"type\":\"GlyphRenderer\"},{\"id\":\"aac353be-62de-4935-b370-1a4031b0eacc\",\"type\":\"GlyphRenderer\"},{\"id\":\"eddcf962-932f-4725-a638-b1a25fbb0736\",\"type\":\"GlyphRenderer\"},{\"id\":\"0b1c38cf-8a71-4a9d-af23-eed6920b07f1\",\"type\":\"GlyphRenderer\"},{\"id\":\"02018b18-3b01-49c4-a935-12d7f9c1b951\",\"type\":\"GlyphRenderer\"},{\"id\":\"9ca3cb25-2208-47ef-9944-fa6a3fe2bb3b\",\"type\":\"GlyphRenderer\"},{\"id\":\"deb8d1b1-c687-4a17-ae4c-50f789bf4717\",\"type\":\"GlyphRenderer\"},{\"id\":\"7c268119-7fa8-4a94-8a96-7cc17812c0e6\",\"type\":\"GlyphRenderer\"},{\"id\":\"d042f521-a5eb-45cc-a72f-5f48d6fd3503\",\"type\":\"GlyphRenderer\"},{\"id\":\"3983f3f2-55f6-413b-b1d3-b28a5343dfce\",\"type\":\"GlyphRenderer\"},{\"id\":\"ba4ce846-1fd3-4286-ba7c-786a9969f96d\",\"type\":\"GlyphRenderer\"},{\"id\":\"d8bcc3fd-25af-4462-926c-850df9d62fad\",\"type\":\"GlyphRenderer\"},{\"id\":\"ff1c2c70-5fe1-4785-9838-ae01f2e35818\",\"type\":\"GlyphRenderer\"},{\"id\":\"6df8ddf0-8674-4209-b160-5a64abdad560\",\"type\":\"GlyphRenderer\"},{\"id\":\"6bcbf801-9a55-4fe6-bc21-9ea74e90b200\",\"type\":\"GlyphRenderer\"},{\"id\":\"c7cd8c16-0862-46f7-a3b1-0741805bc317\",\"type\":\"GlyphRenderer\"},{\"id\":\"150991b4-d31f-4ca9-8ab3-5cf4a96c9f29\",\"type\":\"GlyphRenderer\"},{\"id\":\"fde6f97d-e0b9-4f15-96f5-e3f9cef85853\",\"type\":\"DatetimeAxis\"},{\"id\":\"1520e3da-9068-47f2-845e-fa48b603c591\",\"type\":\"LinearAxis\"},{\"id\":\"d6e09689-37a2-4f37-b137-d4fb184fafd3\",\"type\":\"Grid\"},{\"id\":\"ea943022-8036-4dd9-bd32-9b64ecc5518c\",\"type\":\"Grid\"}],\"title\":{\"id\":\"71caafc8-5e96-4177-9c58-ace40dac5e48\",\"type\":\"Title\"},\"tool_events\":{\"id\":\"4b92d1e6-5dd5-42ec-8f02-33edfe11bead\",\"type\":\"ToolEvents\"},\"toolbar\":{\"id\":\"88fb6dbc-5f20-4013-ad7e-aa0a43cf0bc6\",\"type\":\"Toolbar\"},\"x_mapper_type\":\"auto\",\"x_range\":{\"id\":\"cf7a7bbb-44ff-4178-b2fe-cbd256b032aa\",\"type\":\"Range1d\"},\"y_mapper_type\":\"auto\",\"y_range\":{\"id\":\"35377b38-f8e9-44dc-9a24-643ff041786a\",\"type\":\"Range1d\"}},\"id\":\"f6dd0385-6fcf-4ae9-a7c9-35b8c6a16701\",\"subtype\":\"Chart\",\"type\":\"Plot\"},{\"attributes\":{\"callback\":null,\"column_names\":[\"y_values\",\"x_values\"],\"data\":{\"TeamName\":[\"theFuture\",\"theFuture\",\"theFuture\",\"theFuture\",\"theFuture\",\"theFuture\",\"theFuture\",\"theFuture\",\"theFuture\",\"theFuture\",\"theFuture\",\"theFuture\",\"theFuture\",\"theFuture\",\"theFuture\",\"theFuture\",\"theFuture\",\"theFuture\",\"theFuture\",\"theFuture\",\"theFuture\",\"theFuture\",\"theFuture\",\"theFuture\",\"theFuture\",\"theFuture\",\"theFuture\",\"theFuture\",\"theFuture\",\"theFuture\",\"theFuture\",\"theFuture\",\"theFuture\",\"theFuture\",\"theFuture\",\"theFuture\",\"theFuture\"],\"chart_index\":[{\"TeamName\":\"theFuture\"},{\"TeamName\":\"theFuture\"},{\"TeamName\":\"theFuture\"},{\"TeamName\":\"theFuture\"},{\"TeamName\":\"theFuture\"},{\"TeamName\":\"theFuture\"},{\"TeamName\":\"theFuture\"},{\"TeamName\":\"theFuture\"},{\"TeamName\":\"theFuture\"},{\"TeamName\":\"theFuture\"},{\"TeamName\":\"theFuture\"},{\"TeamName\":\"theFuture\"},{\"TeamName\":\"theFuture\"},{\"TeamName\":\"theFuture\"},{\"TeamName\":\"theFuture\"},{\"TeamName\":\"theFuture\"},{\"TeamName\":\"theFuture\"},{\"TeamName\":\"theFuture\"},{\"TeamName\":\"theFuture\"},{\"TeamName\":\"theFuture\"},{\"TeamName\":\"theFuture\"},{\"TeamName\":\"theFuture\"},{\"TeamName\":\"theFuture\"},{\"TeamName\":\"theFuture\"},{\"TeamName\":\"theFuture\"},{\"TeamName\":\"theFuture\"},{\"TeamName\":\"theFuture\"},{\"TeamName\":\"theFuture\"},{\"TeamName\":\"theFuture\"},{\"TeamName\":\"theFuture\"},{\"TeamName\":\"theFuture\"},{\"TeamName\":\"theFuture\"},{\"TeamName\":\"theFuture\"},{\"TeamName\":\"theFuture\"},{\"TeamName\":\"theFuture\"},{\"TeamName\":\"theFuture\"},{\"TeamName\":\"theFuture\"}],\"x_values\":[1463268985000.0,1463269338000.0,1463269515000.0,1463273893000.0,1463942919000.0,1463959437000.0,1464243302000.0,1464326840000.0,1464397940000.0,1464470692000.0,1464475610000.0,1464487573000.0,1464586754000.0,1465165200000.0,1465189248000.0,1465509293000.0,1465678330000.0,1465679071000.0,1465679750000.0,1465838363000.0,1465906204000.0,1466309489000.0,1466330618000.0,1466351409000.0,1466380906000.0,1466381029000.0,1466468023000.0,1466774062000.0,1466781533000.0,1467121347000.0,1467192613000.0,1467383269000.0,1467396290000.0,1468173301000.0,1468214566000.0,1468276392000.0,1468277198000.0],\"y_values\":[0.26861,0.73139,0.76151,0.76846,0.77699,0.78392,0.79538,0.79602,0.79698,0.80991,0.8216200000000001,0.8299200000000001,0.8390799999999999,0.8988,0.91495,0.91548,0.9175200000000001,0.91869,0.91911,0.9244700000000001,0.93204,0.93216,0.9326700000000001,0.9336700000000001,0.93486,0.93532,0.9353799999999999,0.93561,0.93584,0.9358799999999999,0.93635,0.9375100000000001,0.9376,0.93847,0.9389,0.9390700000000001,0.9390700000000001]}},\"id\":\"aeda6a6f-03dd-4865-bc68-ec1b81852dad\",\"type\":\"ColumnDataSource\"},{\"attributes\":{\"callback\":null,\"column_names\":[\"y_values\",\"x_values\"],\"data\":{\"TeamName\":[\"Igor Pasechnik\",\"Igor Pasechnik\",\"Igor Pasechnik\",\"Igor Pasechnik\",\"Igor Pasechnik\",\"Igor Pasechnik\",\"Igor Pasechnik\",\"Igor Pasechnik\",\"Igor Pasechnik\",\"Igor Pasechnik\",\"Igor Pasechnik\",\"Igor Pasechnik\",\"Igor Pasechnik\",\"Igor Pasechnik\",\"Igor Pasechnik\",\"Igor Pasechnik\",\"Igor Pasechnik\",\"Igor Pasechnik\",\"Igor Pasechnik\",\"Igor Pasechnik\",\"Igor Pasechnik\",\"Igor Pasechnik\",\"Igor Pasechnik\",\"Igor Pasechnik\",\"Igor Pasechnik\",\"Igor Pasechnik\",\"Igor Pasechnik\",\"Igor Pasechnik\",\"Igor Pasechnik\",\"Igor Pasechnik\",\"Igor Pasechnik\"],\"chart_index\":[{\"TeamName\":\"Igor Pasechnik\"},{\"TeamName\":\"Igor Pasechnik\"},{\"TeamName\":\"Igor Pasechnik\"},{\"TeamName\":\"Igor Pasechnik\"},{\"TeamName\":\"Igor Pasechnik\"},{\"TeamName\":\"Igor Pasechnik\"},{\"TeamName\":\"Igor Pasechnik\"},{\"TeamName\":\"Igor Pasechnik\"},{\"TeamName\":\"Igor Pasechnik\"},{\"TeamName\":\"Igor Pasechnik\"},{\"TeamName\":\"Igor Pasechnik\"},{\"TeamName\":\"Igor Pasechnik\"},{\"TeamName\":\"Igor Pasechnik\"},{\"TeamName\":\"Igor Pasechnik\"},{\"TeamName\":\"Igor Pasechnik\"},{\"TeamName\":\"Igor Pasechnik\"},{\"TeamName\":\"Igor Pasechnik\"},{\"TeamName\":\"Igor Pasechnik\"},{\"TeamName\":\"Igor Pasechnik\"},{\"TeamName\":\"Igor Pasechnik\"},{\"TeamName\":\"Igor Pasechnik\"},{\"TeamName\":\"Igor Pasechnik\"},{\"TeamName\":\"Igor Pasechnik\"},{\"TeamName\":\"Igor Pasechnik\"},{\"TeamName\":\"Igor Pasechnik\"},{\"TeamName\":\"Igor Pasechnik\"},{\"TeamName\":\"Igor Pasechnik\"},{\"TeamName\":\"Igor Pasechnik\"},{\"TeamName\":\"Igor Pasechnik\"},{\"TeamName\":\"Igor Pasechnik\"},{\"TeamName\":\"Igor Pasechnik\"}],\"x_values\":[1464118978000.0,1464208051000.0,1464291823000.0,1464465636000.0,1464552477000.0,1464810887000.0,1465117416000.0,1465120286000.0,1465125856000.0,1465127760000.0,1465129903000.0,1465189640000.0,1465233466000.0,1465234517000.0,1465235607000.0,1465329886000.0,1465411109000.0,1465416602000.0,1465663018000.0,1465665288000.0,1465748493000.0,1465926317000.0,1465928305000.0,1466016874000.0,1466017713000.0,1466188483000.0,1467222833000.0,1467319045000.0,1467652480000.0,1467747760000.0,1468176358000.0],\"y_values\":[0.85339,0.87098,0.88,0.89399,0.89689,0.9018299999999999,0.90336,0.9045200000000001,0.9049,0.90576,0.9066,0.9079200000000001,0.90817,0.9084700000000001,0.9090799999999999,0.9093,0.9138799999999999,0.9156799999999999,0.9164700000000001,0.91717,0.91779,0.92145,0.92445,0.92489,0.92601,0.9288799999999999,0.9294399999999999,0.93329,0.93599,0.9360299999999999,0.93679]}},\"id\":\"c986af7b-d77e-436b-8b6b-01e2c9dfb27f\",\"type\":\"ColumnDataSource\"},{\"attributes\":{\"line_color\":{\"value\":\"#f22c40\"},\"line_width\":{\"value\":2},\"x\":{\"field\":\"x_values\"},\"y\":{\"field\":\"y_values\"}},\"id\":\"4ba9fddc-a144-41eb-be6f-794c2f1b9ebe\",\"type\":\"Line\"},{\"attributes\":{\"data_source\":{\"id\":\"a0703fce-3f9a-4bb6-b815-e8cd43500028\",\"type\":\"ColumnDataSource\"},\"glyph\":{\"id\":\"6f324fbd-4bf7-4999-882f-d877887b791a\",\"type\":\"Line\"},\"hover_glyph\":null,\"nonselection_glyph\":null,\"selection_glyph\":null},\"id\":\"ff1c2c70-5fe1-4785-9838-ae01f2e35818\",\"type\":\"GlyphRenderer\"},{\"attributes\":{\"data_source\":{\"id\":\"b38e764f-3106-4a66-a67a-07b1e36fa328\",\"type\":\"ColumnDataSource\"},\"glyph\":{\"id\":\"4e6486bc-6a4b-43bf-8f9b-f8f328ddef29\",\"type\":\"Line\"},\"hover_glyph\":null,\"nonselection_glyph\":null,\"selection_glyph\":null},\"id\":\"eddcf962-932f-4725-a638-b1a25fbb0736\",\"type\":\"GlyphRenderer\"},{\"attributes\":{\"callback\":null,\"column_names\":[\"y_values\",\"x_values\"],\"data\":{\"TeamName\":[\"8 + 9 = 11\",\"8 + 9 = 11\",\"8 + 9 = 11\",\"8 + 9 = 11\",\"8 + 9 = 11\",\"8 + 9 = 11\",\"8 + 9 = 11\",\"8 + 9 = 11\",\"8 + 9 = 11\",\"8 + 9 = 11\",\"8 + 9 = 11\",\"8 + 9 = 11\",\"8 + 9 = 11\",\"8 + 9 = 11\",\"8 + 9 = 11\",\"8 + 9 = 11\",\"8 + 9 = 11\",\"8 + 9 = 11\",\"8 + 9 = 11\",\"8 + 9 = 11\",\"8 + 9 = 11\",\"8 + 9 = 11\",\"8 + 9 = 11\",\"8 + 9 = 11\",\"8 + 9 = 11\",\"8 + 9 = 11\",\"8 + 9 = 11\",\"8 + 9 = 11\",\"8 + 9 = 11\",\"8 + 9 = 11\",\"8 + 9 = 11\",\"8 + 9 = 11\",\"8 + 9 = 11\",\"8 + 9 = 11\",\"8 + 9 = 11\",\"8 + 9 = 11\",\"8 + 9 = 11\",\"8 + 9 = 11\",\"8 + 9 = 11\",\"8 + 9 = 11\",\"8 + 9 = 11\",\"8 + 9 = 11\",\"8 + 9 = 11\",\"8 + 9 = 11\",\"8 + 9 = 11\",\"8 + 9 = 11\",\"8 + 9 = 11\",\"8 + 9 = 11\",\"8 + 9 = 11\",\"8 + 9 = 11\",\"8 + 9 = 11\",\"8 + 9 = 11\",\"8 + 9 = 11\",\"8 + 9 = 11\",\"8 + 9 = 11\"],\"chart_index\":[{\"TeamName\":\"8 + 9 = 11\"},{\"TeamName\":\"8 + 9 = 11\"},{\"TeamName\":\"8 + 9 = 11\"},{\"TeamName\":\"8 + 9 = 11\"},{\"TeamName\":\"8 + 9 = 11\"},{\"TeamName\":\"8 + 9 = 11\"},{\"TeamName\":\"8 + 9 = 11\"},{\"TeamName\":\"8 + 9 = 11\"},{\"TeamName\":\"8 + 9 = 11\"},{\"TeamName\":\"8 + 9 = 11\"},{\"TeamName\":\"8 + 9 = 11\"},{\"TeamName\":\"8 + 9 = 11\"},{\"TeamName\":\"8 + 9 = 11\"},{\"TeamName\":\"8 + 9 = 11\"},{\"TeamName\":\"8 + 9 = 11\"},{\"TeamName\":\"8 + 9 = 11\"},{\"TeamName\":\"8 + 9 = 11\"},{\"TeamName\":\"8 + 9 = 11\"},{\"TeamName\":\"8 + 9 = 11\"},{\"TeamName\":\"8 + 9 = 11\"},{\"TeamName\":\"8 + 9 = 11\"},{\"TeamName\":\"8 + 9 = 11\"},{\"TeamName\":\"8 + 9 = 11\"},{\"TeamName\":\"8 + 9 = 11\"},{\"TeamName\":\"8 + 9 = 11\"},{\"TeamName\":\"8 + 9 = 11\"},{\"TeamName\":\"8 + 9 = 11\"},{\"TeamName\":\"8 + 9 = 11\"},{\"TeamName\":\"8 + 9 = 11\"},{\"TeamName\":\"8 + 9 = 11\"},{\"TeamName\":\"8 + 9 = 11\"},{\"TeamName\":\"8 + 9 = 11\"},{\"TeamName\":\"8 + 9 = 11\"},{\"TeamName\":\"8 + 9 = 11\"},{\"TeamName\":\"8 + 9 = 11\"},{\"TeamName\":\"8 + 9 = 11\"},{\"TeamName\":\"8 + 9 = 11\"},{\"TeamName\":\"8 + 9 = 11\"},{\"TeamName\":\"8 + 9 = 11\"},{\"TeamName\":\"8 + 9 = 11\"},{\"TeamName\":\"8 + 9 = 11\"},{\"TeamName\":\"8 + 9 = 11\"},{\"TeamName\":\"8 + 9 = 11\"},{\"TeamName\":\"8 + 9 = 11\"},{\"TeamName\":\"8 + 9 = 11\"},{\"TeamName\":\"8 + 9 = 11\"},{\"TeamName\":\"8 + 9 = 11\"},{\"TeamName\":\"8 + 9 = 11\"},{\"TeamName\":\"8 + 9 = 11\"},{\"TeamName\":\"8 + 9 = 11\"},{\"TeamName\":\"8 + 9 = 11\"},{\"TeamName\":\"8 + 9 = 11\"},{\"TeamName\":\"8 + 9 = 11\"},{\"TeamName\":\"8 + 9 = 11\"},{\"TeamName\":\"8 + 9 = 11\"}],\"x_values\":[1462812130000.0,1462824932000.0,1462915303000.0,1463088285000.0,1463176698000.0,1463379539000.0,1463419651000.0,1463679829000.0,1463687362000.0,1463688800000.0,1463691379000.0,1463737596000.0,1463777163000.0,1463832757000.0,1463892422000.0,1463944767000.0,1463980066000.0,1463981688000.0,1464065834000.0,1464070335000.0,1464095811000.0,1464154488000.0,1464181115000.0,1464181202000.0,1464248645000.0,1464326801000.0,1464556772000.0,1464556872000.0,1464556931000.0,1464593448000.0,1464849960000.0,1464891824000.0,1464966106000.0,1464967326000.0,1465017441000.0,1465024541000.0,1465042284000.0,1465195400000.0,1465385737000.0,1465386025000.0,1466542094000.0,1466542463000.0,1466542750000.0,1466588482000.0,1466617366000.0,1467315882000.0,1467316146000.0,1467318421000.0,1467319145000.0,1467412540000.0,1467443890000.0,1467572422000.0,1467836034000.0,1468219442000.0,1468241469000.0],\"y_values\":[0.7559100000000001,0.77918,0.7982899999999999,0.81833,0.83572,0.84365,0.8449200000000001,0.8911600000000001,0.89464,0.9115700000000001,0.9165399999999999,0.9207700000000001,0.9213399999999999,0.92194,0.92251,0.92469,0.92485,0.92605,0.92642,0.92645,0.92665,0.92706,0.92709,0.9273399999999999,0.92748,0.92843,0.9299299999999999,0.92995,0.9301,0.93011,0.9305100000000001,0.93061,0.93081,0.93091,0.9313,0.9313100000000001,0.9325100000000001,0.9328700000000001,0.93294,0.9333899999999999,0.9335200000000001,0.93371,0.93385,0.9340200000000001,0.9369299999999999,0.93955,0.9396200000000001,0.93999,0.9405,0.94065,0.94453,0.947,0.9470299999999999,0.94732,0.94732]}},\"id\":\"a5d18807-b134-4b85-9847-cf7a22c3579d\",\"type\":\"ColumnDataSource\"},{\"attributes\":{\"days\":[1,15]},\"id\":\"cc4da19e-b852-415c-8a0f-652279abb1ae\",\"type\":\"DaysTicker\"},{\"attributes\":{\"line_color\":{\"value\":\"#c33ff3\"},\"line_width\":{\"value\":2},\"x\":{\"field\":\"x_values\"},\"y\":{\"field\":\"y_values\"}},\"id\":\"5ae3472a-6bb5-471b-992e-8a2a2e7b9b50\",\"type\":\"Line\"},{\"attributes\":{\"data_source\":{\"id\":\"aeda6a6f-03dd-4865-bc68-ec1b81852dad\",\"type\":\"ColumnDataSource\"},\"glyph\":{\"id\":\"82089ae0-dbfc-4034-b5a8-906a2b4227e6\",\"type\":\"Line\"},\"hover_glyph\":null,\"nonselection_glyph\":null,\"selection_glyph\":null},\"id\":\"d042f521-a5eb-45cc-a72f-5f48d6fd3503\",\"type\":\"GlyphRenderer\"},{\"attributes\":{\"line_color\":{\"value\":\"#f22c40\"},\"line_width\":{\"value\":2},\"x\":{\"field\":\"x_values\"},\"y\":{\"field\":\"y_values\"}},\"id\":\"82089ae0-dbfc-4034-b5a8-906a2b4227e6\",\"type\":\"Line\"},{\"attributes\":{\"callback\":null,\"column_names\":[\"y_values\",\"x_values\"],\"data\":{\"TeamName\":[\"amsqr_run2\",\"amsqr_run2\",\"amsqr_run2\",\"amsqr_run2\",\"amsqr_run2\",\"amsqr_run2\",\"amsqr_run2\",\"amsqr_run2\",\"amsqr_run2\",\"amsqr_run2\",\"amsqr_run2\",\"amsqr_run2\",\"amsqr_run2\",\"amsqr_run2\",\"amsqr_run2\",\"amsqr_run2\",\"amsqr_run2\",\"amsqr_run2\",\"amsqr_run2\",\"amsqr_run2\",\"amsqr_run2\",\"amsqr_run2\",\"amsqr_run2\",\"amsqr_run2\",\"amsqr_run2\",\"amsqr_run2\",\"amsqr_run2\",\"amsqr_run2\",\"amsqr_run2\",\"amsqr_run2\",\"amsqr_run2\",\"amsqr_run2\",\"amsqr_run2\",\"amsqr_run2\",\"amsqr_run2\",\"amsqr_run2\",\"amsqr_run2\",\"amsqr_run2\",\"amsqr_run2\",\"amsqr_run2\",\"amsqr_run2\",\"amsqr_run2\",\"amsqr_run2\",\"amsqr_run2\",\"amsqr_run2\",\"amsqr_run2\"],\"chart_index\":[{\"TeamName\":\"amsqr_run2\"},{\"TeamName\":\"amsqr_run2\"},{\"TeamName\":\"amsqr_run2\"},{\"TeamName\":\"amsqr_run2\"},{\"TeamName\":\"amsqr_run2\"},{\"TeamName\":\"amsqr_run2\"},{\"TeamName\":\"amsqr_run2\"},{\"TeamName\":\"amsqr_run2\"},{\"TeamName\":\"amsqr_run2\"},{\"TeamName\":\"amsqr_run2\"},{\"TeamName\":\"amsqr_run2\"},{\"TeamName\":\"amsqr_run2\"},{\"TeamName\":\"amsqr_run2\"},{\"TeamName\":\"amsqr_run2\"},{\"TeamName\":\"amsqr_run2\"},{\"TeamName\":\"amsqr_run2\"},{\"TeamName\":\"amsqr_run2\"},{\"TeamName\":\"amsqr_run2\"},{\"TeamName\":\"amsqr_run2\"},{\"TeamName\":\"amsqr_run2\"},{\"TeamName\":\"amsqr_run2\"},{\"TeamName\":\"amsqr_run2\"},{\"TeamName\":\"amsqr_run2\"},{\"TeamName\":\"amsqr_run2\"},{\"TeamName\":\"amsqr_run2\"},{\"TeamName\":\"amsqr_run2\"},{\"TeamName\":\"amsqr_run2\"},{\"TeamName\":\"amsqr_run2\"},{\"TeamName\":\"amsqr_run2\"},{\"TeamName\":\"amsqr_run2\"},{\"TeamName\":\"amsqr_run2\"},{\"TeamName\":\"amsqr_run2\"},{\"TeamName\":\"amsqr_run2\"},{\"TeamName\":\"amsqr_run2\"},{\"TeamName\":\"amsqr_run2\"},{\"TeamName\":\"amsqr_run2\"},{\"TeamName\":\"amsqr_run2\"},{\"TeamName\":\"amsqr_run2\"},{\"TeamName\":\"amsqr_run2\"},{\"TeamName\":\"amsqr_run2\"},{\"TeamName\":\"amsqr_run2\"},{\"TeamName\":\"amsqr_run2\"},{\"TeamName\":\"amsqr_run2\"},{\"TeamName\":\"amsqr_run2\"},{\"TeamName\":\"amsqr_run2\"},{\"TeamName\":\"amsqr_run2\"}],\"x_values\":[1462828367000.0,1462862153000.0,1462907524000.0,1462912951000.0,1462956753000.0,1463003884000.0,1463138110000.0,1463156384000.0,1463225760000.0,1463226154000.0,1463247273000.0,1463847105000.0,1463903536000.0,1463984923000.0,1464010931000.0,1464014770000.0,1464176274000.0,1464251720000.0,1464283486000.0,1464584700000.0,1464586329000.0,1464619671000.0,1464687216000.0,1464791525000.0,1464792251000.0,1465170672000.0,1465274411000.0,1465328141000.0,1465408395000.0,1465804947000.0,1466025661000.0,1466026107000.0,1466058772000.0,1466155013000.0,1466155177000.0,1466277086000.0,1466782149000.0,1466964554000.0,1466965312000.0,1467099959000.0,1467271702000.0,1467976862000.0,1468178467000.0,1468227088000.0,1468228186000.0,1468236403000.0],\"y_values\":[0.65917,0.66737,0.72613,0.74152,0.76443,0.79096,0.80073,0.81476,0.81539,0.8173699999999999,0.81766,0.82686,0.82706,0.8271,0.90115,0.90276,0.90479,0.90565,0.90909,0.9111100000000001,0.91294,0.91304,0.9140799999999999,0.9153600000000001,0.9174899999999999,0.92095,0.92351,0.92676,0.92935,0.9319700000000001,0.93204,0.93237,0.9328299999999999,0.9337700000000001,0.93452,0.9347700000000001,0.93605,0.93871,0.93879,0.9393100000000001,0.9395899999999999,0.93975,0.9399799999999999,0.94035,0.94096,0.9410700000000001]}},\"id\":\"e5be171b-cc80-4a9b-955d-0388c728d61b\",\"type\":\"ColumnDataSource\"},{\"attributes\":{\"line_color\":{\"value\":\"#407ee7\"},\"line_width\":{\"value\":2},\"x\":{\"field\":\"x_values\"},\"y\":{\"field\":\"y_values\"}},\"id\":\"38f54e56-cdcb-4a61-b61e-fce7a0d47283\",\"type\":\"Line\"},{\"attributes\":{\"callback\":null,\"column_names\":[\"y_values\",\"x_values\"],\"data\":{\"TeamName\":[\"Sameh & Javier\",\"Sameh & Javier\",\"Sameh & Javier\",\"Sameh & Javier\",\"Sameh & Javier\",\"Sameh & Javier\",\"Sameh & Javier\",\"Sameh & Javier\",\"Sameh & Javier\",\"Sameh & Javier\",\"Sameh & Javier\",\"Sameh & Javier\",\"Sameh & Javier\",\"Sameh & Javier\",\"Sameh & Javier\",\"Sameh & Javier\",\"Sameh & Javier\"],\"chart_index\":[{\"TeamName\":\"Sameh & Javier\"},{\"TeamName\":\"Sameh & Javier\"},{\"TeamName\":\"Sameh & Javier\"},{\"TeamName\":\"Sameh & Javier\"},{\"TeamName\":\"Sameh & Javier\"},{\"TeamName\":\"Sameh & Javier\"},{\"TeamName\":\"Sameh & Javier\"},{\"TeamName\":\"Sameh & Javier\"},{\"TeamName\":\"Sameh & Javier\"},{\"TeamName\":\"Sameh & Javier\"},{\"TeamName\":\"Sameh & Javier\"},{\"TeamName\":\"Sameh & Javier\"},{\"TeamName\":\"Sameh & Javier\"},{\"TeamName\":\"Sameh & Javier\"},{\"TeamName\":\"Sameh & Javier\"},{\"TeamName\":\"Sameh & Javier\"},{\"TeamName\":\"Sameh & Javier\"}],\"x_values\":[1465748230000.0,1465754592000.0,1465757623000.0,1465763657000.0,1465832570000.0,1466239825000.0,1466245632000.0,1466434205000.0,1466463251000.0,1466546305000.0,1466595593000.0,1466711970000.0,1466789020000.0,1467468184000.0,1468312385000.0,1468312598000.0,1468314705000.0],\"y_values\":[0.9068,0.9122,0.91307,0.91402,0.91461,0.9168,0.9187200000000001,0.92055,0.9207799999999999,0.92164,0.9227299999999999,0.92925,0.9293399999999999,0.93065,0.93561,0.9360200000000001,0.9360299999999999]}},\"id\":\"e74137c1-2cc3-49f4-a30c-2fe6a40eb90e\",\"type\":\"ColumnDataSource\"},{\"attributes\":{\"data_source\":{\"id\":\"03056808-98a2-4f92-8f7a-c61f9fd7bfe6\",\"type\":\"ColumnDataSource\"},\"glyph\":{\"id\":\"46cd1259-b510-491f-9998-e3df7ecc0fc0\",\"type\":\"Line\"},\"hover_glyph\":null,\"nonselection_glyph\":null,\"selection_glyph\":null},\"id\":\"150991b4-d31f-4ca9-8ab3-5cf4a96c9f29\",\"type\":\"GlyphRenderer\"},{\"attributes\":{\"plot\":{\"id\":\"f6dd0385-6fcf-4ae9-a7c9-35b8c6a16701\",\"subtype\":\"Chart\",\"type\":\"Plot\"}},\"id\":\"6da74823-1750-4851-ac56-96c60bda57dc\",\"type\":\"PanTool\"},{\"attributes\":{},\"id\":\"afd1c35b-955b-4764-b951-5ae848210977\",\"type\":\"YearsTicker\"},{\"attributes\":{},\"id\":\"7fb1d92a-512e-4375-8437-e6ece28a6907\",\"type\":\"DatetimeTicker\"},{\"attributes\":{},\"id\":\"e2806f8c-0671-4bcd-b447-9cc73ff6716e\",\"type\":\"DatetimeTickFormatter\"},{\"attributes\":{\"data_source\":{\"id\":\"33fef346-3806-4484-9b8d-ae7b6022c3b3\",\"type\":\"ColumnDataSource\"},\"glyph\":{\"id\":\"f05ee023-3fba-4559-84dc-1b9850d959aa\",\"type\":\"Line\"},\"hover_glyph\":null,\"nonselection_glyph\":null,\"selection_glyph\":null},\"id\":\"ba4ce846-1fd3-4286-ba7c-786a9969f96d\",\"type\":\"GlyphRenderer\"},{\"attributes\":{\"line_color\":{\"value\":\"#c33ff3\"},\"line_width\":{\"value\":2},\"x\":{\"field\":\"x_values\"},\"y\":{\"field\":\"y_values\"}},\"id\":\"4e6486bc-6a4b-43bf-8f9b-f8f328ddef29\",\"type\":\"Line\"},{\"attributes\":{\"data_source\":{\"id\":\"e5be171b-cc80-4a9b-955d-0388c728d61b\",\"type\":\"ColumnDataSource\"},\"glyph\":{\"id\":\"4e1f3657-51f0-4cec-829e-c88bf2e8569a\",\"type\":\"Line\"},\"hover_glyph\":null,\"nonselection_glyph\":null,\"selection_glyph\":null},\"id\":\"7c268119-7fa8-4a94-8a96-7cc17812c0e6\",\"type\":\"GlyphRenderer\"},{\"attributes\":{\"data_source\":{\"id\":\"226de485-0b6f-435e-9a21-28018d56f4ef\",\"type\":\"ColumnDataSource\"},\"glyph\":{\"id\":\"7bc02e34-cfb8-4e30-9c28-71e9ea394cfd\",\"type\":\"Line\"},\"hover_glyph\":null,\"nonselection_glyph\":null,\"selection_glyph\":null},\"id\":\"9eb677cb-b9a8-4047-abcc-eae282dd81f2\",\"type\":\"GlyphRenderer\"},{\"attributes\":{\"data_source\":{\"id\":\"d991af73-17c7-4ceb-bd74-134c5d9502eb\",\"type\":\"ColumnDataSource\"},\"glyph\":{\"id\":\"38f54e56-cdcb-4a61-b61e-fce7a0d47283\",\"type\":\"Line\"},\"hover_glyph\":null,\"nonselection_glyph\":null,\"selection_glyph\":null},\"id\":\"323ee3d2-c3c2-480f-9df3-7024deacca38\",\"type\":\"GlyphRenderer\"},{\"attributes\":{\"line_color\":{\"value\":\"#00ad9c\"},\"line_width\":{\"value\":2},\"x\":{\"field\":\"x_values\"},\"y\":{\"field\":\"y_values\"}},\"id\":\"213bcbf4-bf70-461a-85fa-932e0e013e08\",\"type\":\"Line\"},{\"attributes\":{},\"id\":\"19e904ea-701e-4c17-a327-7a3945835e4d\",\"type\":\"BasicTicker\"},{\"attributes\":{\"plot\":null,\"text\":null},\"id\":\"71caafc8-5e96-4177-9c58-ace40dac5e48\",\"type\":\"Title\"},{\"attributes\":{\"line_color\":{\"value\":\"#df5320\"},\"line_width\":{\"value\":2},\"x\":{\"field\":\"x_values\"},\"y\":{\"field\":\"y_values\"}},\"id\":\"aab7fc91-0278-4b80-829c-ab1d3ccce6be\",\"type\":\"Line\"},{\"attributes\":{\"data_source\":{\"id\":\"b329c222-f2f8-4e40-8fee-1bf3fba2d80f\",\"type\":\"ColumnDataSource\"},\"glyph\":{\"id\":\"8dc698d4-f794-412f-ad6c-d0d740eb5ee5\",\"type\":\"Line\"},\"hover_glyph\":null,\"nonselection_glyph\":null,\"selection_glyph\":null},\"id\":\"06510f77-c0f2-474d-8e3f-220eb1e6fd65\",\"type\":\"GlyphRenderer\"},{\"attributes\":{\"callback\":null,\"column_names\":[\"y_values\",\"x_values\"],\"data\":{\"TeamName\":[\"leventis_vamvakas\",\"leventis_vamvakas\",\"leventis_vamvakas\",\"leventis_vamvakas\",\"leventis_vamvakas\",\"leventis_vamvakas\",\"leventis_vamvakas\",\"leventis_vamvakas\",\"leventis_vamvakas\",\"leventis_vamvakas\",\"leventis_vamvakas\",\"leventis_vamvakas\",\"leventis_vamvakas\",\"leventis_vamvakas\",\"leventis_vamvakas\",\"leventis_vamvakas\",\"leventis_vamvakas\",\"leventis_vamvakas\",\"leventis_vamvakas\",\"leventis_vamvakas\",\"leventis_vamvakas\",\"leventis_vamvakas\",\"leventis_vamvakas\",\"leventis_vamvakas\",\"leventis_vamvakas\",\"leventis_vamvakas\",\"leventis_vamvakas\",\"leventis_vamvakas\",\"leventis_vamvakas\",\"leventis_vamvakas\",\"leventis_vamvakas\",\"leventis_vamvakas\",\"leventis_vamvakas\",\"leventis_vamvakas\",\"leventis_vamvakas\",\"leventis_vamvakas\",\"leventis_vamvakas\",\"leventis_vamvakas\",\"leventis_vamvakas\",\"leventis_vamvakas\",\"leventis_vamvakas\",\"leventis_vamvakas\",\"leventis_vamvakas\",\"leventis_vamvakas\",\"leventis_vamvakas\",\"leventis_vamvakas\",\"leventis_vamvakas\",\"leventis_vamvakas\",\"leventis_vamvakas\"],\"chart_index\":[{\"TeamName\":\"leventis_vamvakas\"},{\"TeamName\":\"leventis_vamvakas\"},{\"TeamName\":\"leventis_vamvakas\"},{\"TeamName\":\"leventis_vamvakas\"},{\"TeamName\":\"leventis_vamvakas\"},{\"TeamName\":\"leventis_vamvakas\"},{\"TeamName\":\"leventis_vamvakas\"},{\"TeamName\":\"leventis_vamvakas\"},{\"TeamName\":\"leventis_vamvakas\"},{\"TeamName\":\"leventis_vamvakas\"},{\"TeamName\":\"leventis_vamvakas\"},{\"TeamName\":\"leventis_vamvakas\"},{\"TeamName\":\"leventis_vamvakas\"},{\"TeamName\":\"leventis_vamvakas\"},{\"TeamName\":\"leventis_vamvakas\"},{\"TeamName\":\"leventis_vamvakas\"},{\"TeamName\":\"leventis_vamvakas\"},{\"TeamName\":\"leventis_vamvakas\"},{\"TeamName\":\"leventis_vamvakas\"},{\"TeamName\":\"leventis_vamvakas\"},{\"TeamName\":\"leventis_vamvakas\"},{\"TeamName\":\"leventis_vamvakas\"},{\"TeamName\":\"leventis_vamvakas\"},{\"TeamName\":\"leventis_vamvakas\"},{\"TeamName\":\"leventis_vamvakas\"},{\"TeamName\":\"leventis_vamvakas\"},{\"TeamName\":\"leventis_vamvakas\"},{\"TeamName\":\"leventis_vamvakas\"},{\"TeamName\":\"leventis_vamvakas\"},{\"TeamName\":\"leventis_vamvakas\"},{\"TeamName\":\"leventis_vamvakas\"},{\"TeamName\":\"leventis_vamvakas\"},{\"TeamName\":\"leventis_vamvakas\"},{\"TeamName\":\"leventis_vamvakas\"},{\"TeamName\":\"leventis_vamvakas\"},{\"TeamName\":\"leventis_vamvakas\"},{\"TeamName\":\"leventis_vamvakas\"},{\"TeamName\":\"leventis_vamvakas\"},{\"TeamName\":\"leventis_vamvakas\"},{\"TeamName\":\"leventis_vamvakas\"},{\"TeamName\":\"leventis_vamvakas\"},{\"TeamName\":\"leventis_vamvakas\"},{\"TeamName\":\"leventis_vamvakas\"},{\"TeamName\":\"leventis_vamvakas\"},{\"TeamName\":\"leventis_vamvakas\"},{\"TeamName\":\"leventis_vamvakas\"},{\"TeamName\":\"leventis_vamvakas\"},{\"TeamName\":\"leventis_vamvakas\"},{\"TeamName\":\"leventis_vamvakas\"}],\"x_values\":[1462555785000.0,1462723908000.0,1462724533000.0,1462736250000.0,1462780026000.0,1462814875000.0,1462876735000.0,1462903442000.0,1462912023000.0,1463062682000.0,1463273238000.0,1463409712000.0,1463503603000.0,1463520620000.0,1463667887000.0,1463723799000.0,1463751686000.0,1463752165000.0,1463982882000.0,1464016539000.0,1464156266000.0,1464248324000.0,1464248423000.0,1464365615000.0,1464367362000.0,1464436685000.0,1464549426000.0,1464630529000.0,1464718014000.0,1464870705000.0,1465750017000.0,1465970553000.0,1465991575000.0,1465991674000.0,1466142810000.0,1466442766000.0,1466442848000.0,1466851864000.0,1466851992000.0,1467265327000.0,1467279374000.0,1467735583000.0,1467735964000.0,1467747514000.0,1467747666000.0,1467790084000.0,1468086407000.0,1468086710000.0,1468236102000.0],\"y_values\":[0.69696,0.77154,0.78025,0.79261,0.79823,0.79852,0.81496,0.81505,0.81772,0.82611,0.82831,0.8314,0.85198,0.85267,0.85619,0.8622,0.86269,0.8637299999999999,0.92729,0.9279200000000001,0.92829,0.92884,0.9288799999999999,0.92911,0.92955,0.93,0.93021,0.93021,0.93104,0.93158,0.9319299999999999,0.9331200000000001,0.93324,0.9332600000000001,0.9353799999999999,0.9356399999999999,0.93566,0.93579,0.93579,0.93586,0.9361200000000001,0.9361700000000001,0.9363299999999999,0.93639,0.9364,0.9364,0.93648,0.93648,0.93648]}},\"id\":\"226de485-0b6f-435e-9a21-28018d56f4ef\",\"type\":\"ColumnDataSource\"},{\"attributes\":{\"callback\":null,\"column_names\":[\"y_values\",\"x_values\"],\"data\":{\"TeamName\":[\"ADAD\",\"ADAD\",\"ADAD\",\"ADAD\",\"ADAD\",\"ADAD\",\"ADAD\",\"ADAD\",\"ADAD\",\"ADAD\",\"ADAD\",\"ADAD\",\"ADAD\",\"ADAD\",\"ADAD\",\"ADAD\",\"ADAD\",\"ADAD\",\"ADAD\",\"ADAD\",\"ADAD\",\"ADAD\",\"ADAD\",\"ADAD\",\"ADAD\",\"ADAD\",\"ADAD\",\"ADAD\",\"ADAD\",\"ADAD\",\"ADAD\",\"ADAD\",\"ADAD\",\"ADAD\",\"ADAD\",\"ADAD\",\"ADAD\",\"ADAD\",\"ADAD\",\"ADAD\",\"ADAD\",\"ADAD\",\"ADAD\",\"ADAD\",\"ADAD\",\"ADAD\",\"ADAD\",\"ADAD\",\"ADAD\",\"ADAD\",\"ADAD\",\"ADAD\",\"ADAD\",\"ADAD\",\"ADAD\",\"ADAD\",\"ADAD\",\"ADAD\",\"ADAD\",\"ADAD\"],\"chart_index\":[{\"TeamName\":\"ADAD\"},{\"TeamName\":\"ADAD\"},{\"TeamName\":\"ADAD\"},{\"TeamName\":\"ADAD\"},{\"TeamName\":\"ADAD\"},{\"TeamName\":\"ADAD\"},{\"TeamName\":\"ADAD\"},{\"TeamName\":\"ADAD\"},{\"TeamName\":\"ADAD\"},{\"TeamName\":\"ADAD\"},{\"TeamName\":\"ADAD\"},{\"TeamName\":\"ADAD\"},{\"TeamName\":\"ADAD\"},{\"TeamName\":\"ADAD\"},{\"TeamName\":\"ADAD\"},{\"TeamName\":\"ADAD\"},{\"TeamName\":\"ADAD\"},{\"TeamName\":\"ADAD\"},{\"TeamName\":\"ADAD\"},{\"TeamName\":\"ADAD\"},{\"TeamName\":\"ADAD\"},{\"TeamName\":\"ADAD\"},{\"TeamName\":\"ADAD\"},{\"TeamName\":\"ADAD\"},{\"TeamName\":\"ADAD\"},{\"TeamName\":\"ADAD\"},{\"TeamName\":\"ADAD\"},{\"TeamName\":\"ADAD\"},{\"TeamName\":\"ADAD\"},{\"TeamName\":\"ADAD\"},{\"TeamName\":\"ADAD\"},{\"TeamName\":\"ADAD\"},{\"TeamName\":\"ADAD\"},{\"TeamName\":\"ADAD\"},{\"TeamName\":\"ADAD\"},{\"TeamName\":\"ADAD\"},{\"TeamName\":\"ADAD\"},{\"TeamName\":\"ADAD\"},{\"TeamName\":\"ADAD\"},{\"TeamName\":\"ADAD\"},{\"TeamName\":\"ADAD\"},{\"TeamName\":\"ADAD\"},{\"TeamName\":\"ADAD\"},{\"TeamName\":\"ADAD\"},{\"TeamName\":\"ADAD\"},{\"TeamName\":\"ADAD\"},{\"TeamName\":\"ADAD\"},{\"TeamName\":\"ADAD\"},{\"TeamName\":\"ADAD\"},{\"TeamName\":\"ADAD\"},{\"TeamName\":\"ADAD\"},{\"TeamName\":\"ADAD\"},{\"TeamName\":\"ADAD\"},{\"TeamName\":\"ADAD\"},{\"TeamName\":\"ADAD\"},{\"TeamName\":\"ADAD\"},{\"TeamName\":\"ADAD\"},{\"TeamName\":\"ADAD\"},{\"TeamName\":\"ADAD\"},{\"TeamName\":\"ADAD\"}],\"x_values\":[1462616104000.0,1462916841000.0,1462946343000.0,1462985698000.0,1463130442000.0,1463137336000.0,1463138285000.0,1463150700000.0,1463225378000.0,1463304158000.0,1463347474000.0,1463412377000.0,1463413257000.0,1463432572000.0,1463472285000.0,1463523121000.0,1463735562000.0,1463789658000.0,1463810170000.0,1463862068000.0,1463956231000.0,1464193322000.0,1464193703000.0,1464194237000.0,1464194401000.0,1464338490000.0,1464530875000.0,1464531628000.0,1464696935000.0,1464697303000.0,1464812596000.0,1465084281000.0,1465129217000.0,1465130030000.0,1465393353000.0,1465483055000.0,1465982897000.0,1466288236000.0,1466451778000.0,1466512698000.0,1466528006000.0,1466532154000.0,1466541015000.0,1466626836000.0,1467046852000.0,1467047608000.0,1467145672000.0,1467230702000.0,1467585146000.0,1467730386000.0,1467731912000.0,1467831960000.0,1467912679000.0,1468001320000.0,1468008900000.0,1468193546000.0,1468194777000.0,1468280195000.0,1468280629000.0,1468281474000.0],\"y_values\":[0.76132,0.7769199999999999,0.77845,0.77899,0.7911600000000001,0.7914100000000001,0.79322,0.8724700000000001,0.8771899999999999,0.8809799999999999,0.8815299999999999,0.8921100000000001,0.89218,0.89379,0.89417,0.90505,0.9066700000000001,0.9082899999999999,0.9225399999999999,0.92545,0.9260200000000001,0.92795,0.9313100000000001,0.9314,0.9314399999999999,0.93176,0.9328299999999999,0.9342799999999999,0.9364399999999999,0.93727,0.93737,0.9403100000000001,0.9419700000000001,0.9419799999999999,0.94247,0.9424899999999999,0.94291,0.94326,0.94344,0.9435899999999999,0.94383,0.9438799999999999,0.94447,0.9445,0.9451799999999999,0.9456899999999999,0.94571,0.9459200000000001,0.9469799999999999,0.94729,0.94781,0.94824,0.9485,0.94915,0.94919,0.94937,0.9495299999999999,0.9496,0.94991,0.94991]}},\"id\":\"d88d8e4a-3e21-435c-89ef-0981f1633127\",\"type\":\"ColumnDataSource\"},{\"attributes\":{\"callback\":null,\"end\":1468316307000.0,\"start\":1462509867000.0},\"id\":\"cf7a7bbb-44ff-4178-b2fe-cbd256b032aa\",\"type\":\"Range1d\"},{\"attributes\":{\"data_source\":{\"id\":\"9e90560b-3673-4b20-9fa8-06970681565b\",\"type\":\"ColumnDataSource\"},\"glyph\":{\"id\":\"213bcbf4-bf70-461a-85fa-932e0e013e08\",\"type\":\"Line\"},\"hover_glyph\":null,\"nonselection_glyph\":null,\"selection_glyph\":null},\"id\":\"aac353be-62de-4935-b370-1a4031b0eacc\",\"type\":\"GlyphRenderer\"},{\"attributes\":{\"callback\":null,\"end\":1.027368,\"start\":0.19963200000000003},\"id\":\"35377b38-f8e9-44dc-9a24-643ff041786a\",\"type\":\"Range1d\"},{\"attributes\":{\"data_source\":{\"id\":\"d88d8e4a-3e21-435c-89ef-0981f1633127\",\"type\":\"ColumnDataSource\"},\"glyph\":{\"id\":\"6c6d6e15-39bc-44d5-8aa9-03a5a6962fa0\",\"type\":\"Line\"},\"hover_glyph\":null,\"nonselection_glyph\":null,\"selection_glyph\":null},\"id\":\"0b1c38cf-8a71-4a9d-af23-eed6920b07f1\",\"type\":\"GlyphRenderer\"},{\"attributes\":{\"callback\":null,\"column_names\":[\"y_values\",\"x_values\"],\"data\":{\"TeamName\":[\"TeamYK\",\"TeamYK\",\"TeamYK\",\"TeamYK\",\"TeamYK\",\"TeamYK\",\"TeamYK\",\"TeamYK\",\"TeamYK\",\"TeamYK\",\"TeamYK\",\"TeamYK\",\"TeamYK\",\"TeamYK\",\"TeamYK\",\"TeamYK\",\"TeamYK\",\"TeamYK\",\"TeamYK\",\"TeamYK\",\"TeamYK\",\"TeamYK\",\"TeamYK\",\"TeamYK\"],\"chart_index\":[{\"TeamName\":\"TeamYK\"},{\"TeamName\":\"TeamYK\"},{\"TeamName\":\"TeamYK\"},{\"TeamName\":\"TeamYK\"},{\"TeamName\":\"TeamYK\"},{\"TeamName\":\"TeamYK\"},{\"TeamName\":\"TeamYK\"},{\"TeamName\":\"TeamYK\"},{\"TeamName\":\"TeamYK\"},{\"TeamName\":\"TeamYK\"},{\"TeamName\":\"TeamYK\"},{\"TeamName\":\"TeamYK\"},{\"TeamName\":\"TeamYK\"},{\"TeamName\":\"TeamYK\"},{\"TeamName\":\"TeamYK\"},{\"TeamName\":\"TeamYK\"},{\"TeamName\":\"TeamYK\"},{\"TeamName\":\"TeamYK\"},{\"TeamName\":\"TeamYK\"},{\"TeamName\":\"TeamYK\"},{\"TeamName\":\"TeamYK\"},{\"TeamName\":\"TeamYK\"},{\"TeamName\":\"TeamYK\"},{\"TeamName\":\"TeamYK\"}],\"x_values\":[1465750971000.0,1466966729000.0,1467000551000.0,1467114877000.0,1467431592000.0,1467464181000.0,1467557492000.0,1467751792000.0,1467780494000.0,1467819446000.0,1467895163000.0,1467895165000.0,1467895449000.0,1468081685000.0,1468082810000.0,1468084833000.0,1468085055000.0,1468127107000.0,1468127191000.0,1468167807000.0,1468167995000.0,1468221789000.0,1468221856000.0,1468239112000.0],\"y_values\":[0.79478,0.89625,0.8998799999999999,0.90079,0.9091600000000001,0.91635,0.9237799999999999,0.93199,0.9323600000000001,0.9328700000000001,0.9335899999999999,0.9338299999999999,0.9341700000000001,0.93437,0.93595,0.93639,0.93658,0.9367700000000001,0.9368700000000001,0.9409,0.941,0.94111,0.9411700000000001,0.94137]}},\"id\":\"03056808-98a2-4f92-8f7a-c61f9fd7bfe6\",\"type\":\"ColumnDataSource\"},{\"attributes\":{\"dimension\":1,\"plot\":{\"id\":\"f6dd0385-6fcf-4ae9-a7c9-35b8c6a16701\",\"subtype\":\"Chart\",\"type\":\"Plot\"},\"ticker\":{\"id\":\"19e904ea-701e-4c17-a327-7a3945835e4d\",\"type\":\"BasicTicker\"}},\"id\":\"ea943022-8036-4dd9-bd32-9b64ecc5518c\",\"type\":\"Grid\"},{\"attributes\":{\"bottom_units\":\"screen\",\"fill_alpha\":{\"value\":0.5},\"fill_color\":{\"value\":\"lightgrey\"},\"left_units\":\"screen\",\"level\":\"overlay\",\"line_alpha\":{\"value\":1.0},\"line_color\":{\"value\":\"black\"},\"line_dash\":[4,4],\"line_width\":{\"value\":2},\"plot\":null,\"render_mode\":\"css\",\"right_units\":\"screen\",\"top_units\":\"screen\"},\"id\":\"73ac9dec-964f-457a-b853-1de443a260c5\",\"type\":\"BoxAnnotation\"},{\"attributes\":{\"line_color\":{\"value\":\"#407ee7\"},\"line_width\":{\"value\":2},\"x\":{\"field\":\"x_values\"},\"y\":{\"field\":\"y_values\"}},\"id\":\"7c5cad0a-a3f8-48d0-8d23-89c4dfb0d1bd\",\"type\":\"Line\"},{\"attributes\":{\"callback\":null,\"column_names\":[\"y_values\",\"x_values\"],\"data\":{\"TeamName\":[\"Pavel Blinov\",\"Pavel Blinov\",\"Pavel Blinov\",\"Pavel Blinov\",\"Pavel Blinov\",\"Pavel Blinov\",\"Pavel Blinov\",\"Pavel Blinov\",\"Pavel Blinov\",\"Pavel Blinov\",\"Pavel Blinov\",\"Pavel Blinov\",\"Pavel Blinov\",\"Pavel Blinov\",\"Pavel Blinov\",\"Pavel Blinov\",\"Pavel Blinov\",\"Pavel Blinov\",\"Pavel Blinov\",\"Pavel Blinov\",\"Pavel Blinov\",\"Pavel Blinov\",\"Pavel Blinov\",\"Pavel Blinov\",\"Pavel Blinov\",\"Pavel Blinov\",\"Pavel Blinov\",\"Pavel Blinov\",\"Pavel Blinov\",\"Pavel Blinov\",\"Pavel Blinov\",\"Pavel Blinov\",\"Pavel Blinov\",\"Pavel Blinov\",\"Pavel Blinov\",\"Pavel Blinov\",\"Pavel Blinov\",\"Pavel Blinov\",\"Pavel Blinov\",\"Pavel Blinov\",\"Pavel Blinov\",\"Pavel Blinov\",\"Pavel Blinov\",\"Pavel Blinov\",\"Pavel Blinov\",\"Pavel Blinov\",\"Pavel Blinov\",\"Pavel Blinov\",\"Pavel Blinov\",\"Pavel Blinov\",\"Pavel Blinov\",\"Pavel Blinov\",\"Pavel Blinov\",\"Pavel Blinov\",\"Pavel Blinov\",\"Pavel Blinov\"],\"chart_index\":[{\"TeamName\":\"Pavel Blinov\"},{\"TeamName\":\"Pavel Blinov\"},{\"TeamName\":\"Pavel Blinov\"},{\"TeamName\":\"Pavel Blinov\"},{\"TeamName\":\"Pavel Blinov\"},{\"TeamName\":\"Pavel Blinov\"},{\"TeamName\":\"Pavel Blinov\"},{\"TeamName\":\"Pavel Blinov\"},{\"TeamName\":\"Pavel Blinov\"},{\"TeamName\":\"Pavel Blinov\"},{\"TeamName\":\"Pavel Blinov\"},{\"TeamName\":\"Pavel Blinov\"},{\"TeamName\":\"Pavel Blinov\"},{\"TeamName\":\"Pavel Blinov\"},{\"TeamName\":\"Pavel Blinov\"},{\"TeamName\":\"Pavel Blinov\"},{\"TeamName\":\"Pavel Blinov\"},{\"TeamName\":\"Pavel Blinov\"},{\"TeamName\":\"Pavel Blinov\"},{\"TeamName\":\"Pavel Blinov\"},{\"TeamName\":\"Pavel Blinov\"},{\"TeamName\":\"Pavel Blinov\"},{\"TeamName\":\"Pavel Blinov\"},{\"TeamName\":\"Pavel Blinov\"},{\"TeamName\":\"Pavel Blinov\"},{\"TeamName\":\"Pavel Blinov\"},{\"TeamName\":\"Pavel Blinov\"},{\"TeamName\":\"Pavel Blinov\"},{\"TeamName\":\"Pavel Blinov\"},{\"TeamName\":\"Pavel Blinov\"},{\"TeamName\":\"Pavel Blinov\"},{\"TeamName\":\"Pavel Blinov\"},{\"TeamName\":\"Pavel Blinov\"},{\"TeamName\":\"Pavel Blinov\"},{\"TeamName\":\"Pavel Blinov\"},{\"TeamName\":\"Pavel Blinov\"},{\"TeamName\":\"Pavel Blinov\"},{\"TeamName\":\"Pavel Blinov\"},{\"TeamName\":\"Pavel Blinov\"},{\"TeamName\":\"Pavel Blinov\"},{\"TeamName\":\"Pavel Blinov\"},{\"TeamName\":\"Pavel Blinov\"},{\"TeamName\":\"Pavel Blinov\"},{\"TeamName\":\"Pavel Blinov\"},{\"TeamName\":\"Pavel Blinov\"},{\"TeamName\":\"Pavel Blinov\"},{\"TeamName\":\"Pavel Blinov\"},{\"TeamName\":\"Pavel Blinov\"},{\"TeamName\":\"Pavel Blinov\"},{\"TeamName\":\"Pavel Blinov\"},{\"TeamName\":\"Pavel Blinov\"},{\"TeamName\":\"Pavel Blinov\"},{\"TeamName\":\"Pavel Blinov\"},{\"TeamName\":\"Pavel Blinov\"},{\"TeamName\":\"Pavel Blinov\"},{\"TeamName\":\"Pavel Blinov\"}],\"x_values\":[1462724127000.0,1462724727000.0,1462726459000.0,1462738900000.0,1462779855000.0,1465460230000.0,1465541640000.0,1465553600000.0,1465672005000.0,1465737757000.0,1465770184000.0,1465835422000.0,1465845997000.0,1465901442000.0,1465983618000.0,1466049837000.0,1466091049000.0,1466278584000.0,1466280355000.0,1466280703000.0,1466291908000.0,1466325754000.0,1466929762000.0,1466951783000.0,1466971527000.0,1466972209000.0,1466972674000.0,1467058671000.0,1467129461000.0,1467145321000.0,1467219387000.0,1467226531000.0,1467319730000.0,1467375230000.0,1467446227000.0,1467446362000.0,1467454389000.0,1467527699000.0,1467528131000.0,1467558901000.0,1467582380000.0,1467649678000.0,1467718764000.0,1467741291000.0,1467741675000.0,1467779093000.0,1467830657000.0,1467865450000.0,1467883049000.0,1467883430000.0,1467897922000.0,1467985130000.0,1468049383000.0,1468140376000.0,1468227298000.0,1468267124000.0],\"y_values\":[0.71831,0.73149,0.7359,0.73959,0.75321,0.76746,0.78284,0.7922399999999999,0.79408,0.79965,0.80145,0.806,0.82775,0.83347,0.8352,0.9204,0.92099,0.9217,0.9223899999999999,0.92261,0.92285,0.9237299999999999,0.9282299999999999,0.92914,0.9305700000000001,0.9312,0.9312799999999999,0.9315399999999999,0.9323600000000001,0.9328,0.93394,0.9339700000000001,0.93425,0.93491,0.9349700000000001,0.93561,0.93605,0.93619,0.93625,0.93625,0.9374899999999999,0.9376700000000001,0.9379299999999999,0.93805,0.9382,0.9383100000000001,0.9384299999999999,0.9406100000000001,0.94101,0.9423299999999999,0.94253,0.94258,0.9426399999999999,0.94278,0.94294,0.94299]}},\"id\":\"65191648-fb71-4799-849d-8c9d0e0f3ab0\",\"type\":\"ColumnDataSource\"},{\"attributes\":{\"active_drag\":\"auto\",\"active_scroll\":\"auto\",\"active_tap\":\"auto\",\"tools\":[{\"id\":\"6da74823-1750-4851-ac56-96c60bda57dc\",\"type\":\"PanTool\"},{\"id\":\"ce21d8be-0fea-4837-9b3f-ecffb1b38151\",\"type\":\"WheelZoomTool\"},{\"id\":\"9efbf5b5-f6e9-4c75-b0aa-91a81268bf9e\",\"type\":\"BoxZoomTool\"},{\"id\":\"7868c572-cecd-4f17-8055-072351d4b64f\",\"type\":\"SaveTool\"},{\"id\":\"108e6a44-b3af-4458-a048-adc1d3a9df6b\",\"type\":\"ResetTool\"},{\"id\":\"a8695571-efd7-4ac9-ac7a-3327095aca41\",\"type\":\"HelpTool\"}]},\"id\":\"88fb6dbc-5f20-4013-ad7e-aa0a43cf0bc6\",\"type\":\"Toolbar\"},{\"attributes\":{\"line_color\":{\"value\":\"#5ab738\"},\"line_width\":{\"value\":2},\"x\":{\"field\":\"x_values\"},\"y\":{\"field\":\"y_values\"}},\"id\":\"f05ee023-3fba-4559-84dc-1b9850d959aa\",\"type\":\"Line\"},{\"attributes\":{\"plot\":{\"id\":\"f6dd0385-6fcf-4ae9-a7c9-35b8c6a16701\",\"subtype\":\"Chart\",\"type\":\"Plot\"}},\"id\":\"7868c572-cecd-4f17-8055-072351d4b64f\",\"type\":\"SaveTool\"},{\"attributes\":{\"data_source\":{\"id\":\"da89e636-e826-4138-81b3-ef3bf2273f7f\",\"type\":\"ColumnDataSource\"},\"glyph\":{\"id\":\"5ae3472a-6bb5-471b-992e-8a2a2e7b9b50\",\"type\":\"Line\"},\"hover_glyph\":null,\"nonselection_glyph\":null,\"selection_glyph\":null},\"id\":\"02018b18-3b01-49c4-a935-12d7f9c1b951\",\"type\":\"GlyphRenderer\"},{\"attributes\":{\"base\":60,\"mantissas\":[1,2,5,10,15,20,30],\"max_interval\":1800000.0,\"min_interval\":1000.0,\"num_minor_ticks\":0},\"id\":\"fcbeff20-7ebf-46d0-b56a-b4c854f02488\",\"type\":\"AdaptiveTicker\"},{\"attributes\":{\"data_source\":{\"id\":\"10c9019b-7fcc-458f-a422-dda762d20ad7\",\"type\":\"ColumnDataSource\"},\"glyph\":{\"id\":\"aab7fc91-0278-4b80-829c-ab1d3ccce6be\",\"type\":\"Line\"},\"hover_glyph\":null,\"nonselection_glyph\":null,\"selection_glyph\":null},\"id\":\"6df8ddf0-8674-4209-b160-5a64abdad560\",\"type\":\"GlyphRenderer\"},{\"attributes\":{\"data_source\":{\"id\":\"e74137c1-2cc3-49f4-a30c-2fe6a40eb90e\",\"type\":\"ColumnDataSource\"},\"glyph\":{\"id\":\"7c5cad0a-a3f8-48d0-8d23-89c4dfb0d1bd\",\"type\":\"Line\"},\"hover_glyph\":null,\"nonselection_glyph\":null,\"selection_glyph\":null},\"id\":\"c7cd8c16-0862-46f7-a3b1-0741805bc317\",\"type\":\"GlyphRenderer\"},{\"attributes\":{\"max_interval\":500.0,\"num_minor_ticks\":0},\"id\":\"0a93cbfe-612b-417d-b8d1-3bfcc8fcc89c\",\"type\":\"AdaptiveTicker\"},{\"attributes\":{},\"id\":\"4b92d1e6-5dd5-42ec-8f02-33edfe11bead\",\"type\":\"ToolEvents\"},{\"attributes\":{\"axis_label\":\"SubmissionDate\",\"formatter\":{\"id\":\"e2806f8c-0671-4bcd-b447-9cc73ff6716e\",\"type\":\"DatetimeTickFormatter\"},\"plot\":{\"id\":\"f6dd0385-6fcf-4ae9-a7c9-35b8c6a16701\",\"subtype\":\"Chart\",\"type\":\"Plot\"},\"ticker\":{\"id\":\"7fb1d92a-512e-4375-8437-e6ece28a6907\",\"type\":\"DatetimeTicker\"}},\"id\":\"fde6f97d-e0b9-4f15-96f5-e3f9cef85853\",\"type\":\"DatetimeAxis\"},{\"attributes\":{\"callback\":null,\"column_names\":[\"y_values\",\"x_values\"],\"data\":{\"TeamName\":[\"Li-Der\",\"Li-Der\",\"Li-Der\",\"Li-Der\",\"Li-Der\",\"Li-Der\",\"Li-Der\",\"Li-Der\",\"Li-Der\",\"Li-Der\",\"Li-Der\",\"Li-Der\",\"Li-Der\",\"Li-Der\",\"Li-Der\",\"Li-Der\",\"Li-Der\",\"Li-Der\",\"Li-Der\",\"Li-Der\",\"Li-Der\",\"Li-Der\"],\"chart_index\":[{\"TeamName\":\"Li-Der\"},{\"TeamName\":\"Li-Der\"},{\"TeamName\":\"Li-Der\"},{\"TeamName\":\"Li-Der\"},{\"TeamName\":\"Li-Der\"},{\"TeamName\":\"Li-Der\"},{\"TeamName\":\"Li-Der\"},{\"TeamName\":\"Li-Der\"},{\"TeamName\":\"Li-Der\"},{\"TeamName\":\"Li-Der\"},{\"TeamName\":\"Li-Der\"},{\"TeamName\":\"Li-Der\"},{\"TeamName\":\"Li-Der\"},{\"TeamName\":\"Li-Der\"},{\"TeamName\":\"Li-Der\"},{\"TeamName\":\"Li-Der\"},{\"TeamName\":\"Li-Der\"},{\"TeamName\":\"Li-Der\"},{\"TeamName\":\"Li-Der\"},{\"TeamName\":\"Li-Der\"},{\"TeamName\":\"Li-Der\"},{\"TeamName\":\"Li-Der\"}],\"x_values\":[1462614996000.0,1462615072000.0,1463678596000.0,1463679157000.0,1465385568000.0,1465495133000.0,1465506020000.0,1465543079000.0,1465562143000.0,1465581043000.0,1465818655000.0,1465823257000.0,1465826985000.0,1465910101000.0,1465912554000.0,1465944610000.0,1466182873000.0,1466302717000.0,1466420029000.0,1466497819000.0,1466550948000.0,1466704163000.0],\"y_values\":[0.62062,0.6412800000000001,0.752,0.78394,0.79565,0.9158200000000001,0.9197700000000001,0.9237,0.9296700000000001,0.92971,0.93071,0.9328700000000001,0.9329799999999999,0.93327,0.93348,0.93404,0.93837,0.93979,0.94219,0.9425399999999999,0.9426899999999999,0.9430200000000001]}},\"id\":\"b38e764f-3106-4a66-a67a-07b1e36fa328\",\"type\":\"ColumnDataSource\"},{\"attributes\":{\"days\":[1,2,3,4,5,6,7,8,9,10,11,12,13,14,15,16,17,18,19,20,21,22,23,24,25,26,27,28,29,30,31]},\"id\":\"cedcc628-4fa1-44d1-a450-8fce0dd771c0\",\"type\":\"DaysTicker\"},{\"attributes\":{\"callback\":null,\"column_names\":[\"y_values\",\"x_values\"],\"data\":{\"TeamName\":[\"DataMinders\",\"DataMinders\",\"DataMinders\",\"DataMinders\",\"DataMinders\",\"DataMinders\",\"DataMinders\",\"DataMinders\",\"DataMinders\",\"DataMinders\",\"DataMinders\",\"DataMinders\",\"DataMinders\",\"DataMinders\",\"DataMinders\",\"DataMinders\",\"DataMinders\",\"DataMinders\",\"DataMinders\",\"DataMinders\",\"DataMinders\",\"DataMinders\",\"DataMinders\",\"DataMinders\",\"DataMinders\",\"DataMinders\",\"DataMinders\",\"DataMinders\",\"DataMinders\",\"DataMinders\",\"DataMinders\",\"DataMinders\",\"DataMinders\",\"DataMinders\",\"DataMinders\",\"DataMinders\",\"DataMinders\",\"DataMinders\",\"DataMinders\",\"DataMinders\",\"DataMinders\",\"DataMinders\",\"DataMinders\",\"DataMinders\",\"DataMinders\",\"DataMinders\",\"DataMinders\",\"DataMinders\",\"DataMinders\",\"DataMinders\",\"DataMinders\",\"DataMinders\",\"DataMinders\",\"DataMinders\",\"DataMinders\",\"DataMinders\",\"DataMinders\",\"DataMinders\",\"DataMinders\",\"DataMinders\",\"DataMinders\",\"DataMinders\",\"DataMinders\",\"DataMinders\"],\"chart_index\":[{\"TeamName\":\"DataMinders\"},{\"TeamName\":\"DataMinders\"},{\"TeamName\":\"DataMinders\"},{\"TeamName\":\"DataMinders\"},{\"TeamName\":\"DataMinders\"},{\"TeamName\":\"DataMinders\"},{\"TeamName\":\"DataMinders\"},{\"TeamName\":\"DataMinders\"},{\"TeamName\":\"DataMinders\"},{\"TeamName\":\"DataMinders\"},{\"TeamName\":\"DataMinders\"},{\"TeamName\":\"DataMinders\"},{\"TeamName\":\"DataMinders\"},{\"TeamName\":\"DataMinders\"},{\"TeamName\":\"DataMinders\"},{\"TeamName\":\"DataMinders\"},{\"TeamName\":\"DataMinders\"},{\"TeamName\":\"DataMinders\"},{\"TeamName\":\"DataMinders\"},{\"TeamName\":\"DataMinders\"},{\"TeamName\":\"DataMinders\"},{\"TeamName\":\"DataMinders\"},{\"TeamName\":\"DataMinders\"},{\"TeamName\":\"DataMinders\"},{\"TeamName\":\"DataMinders\"},{\"TeamName\":\"DataMinders\"},{\"TeamName\":\"DataMinders\"},{\"TeamName\":\"DataMinders\"},{\"TeamName\":\"DataMinders\"},{\"TeamName\":\"DataMinders\"},{\"TeamName\":\"DataMinders\"},{\"TeamName\":\"DataMinders\"},{\"TeamName\":\"DataMinders\"},{\"TeamName\":\"DataMinders\"},{\"TeamName\":\"DataMinders\"},{\"TeamName\":\"DataMinders\"},{\"TeamName\":\"DataMinders\"},{\"TeamName\":\"DataMinders\"},{\"TeamName\":\"DataMinders\"},{\"TeamName\":\"DataMinders\"},{\"TeamName\":\"DataMinders\"},{\"TeamName\":\"DataMinders\"},{\"TeamName\":\"DataMinders\"},{\"TeamName\":\"DataMinders\"},{\"TeamName\":\"DataMinders\"},{\"TeamName\":\"DataMinders\"},{\"TeamName\":\"DataMinders\"},{\"TeamName\":\"DataMinders\"},{\"TeamName\":\"DataMinders\"},{\"TeamName\":\"DataMinders\"},{\"TeamName\":\"DataMinders\"},{\"TeamName\":\"DataMinders\"},{\"TeamName\":\"DataMinders\"},{\"TeamName\":\"DataMinders\"},{\"TeamName\":\"DataMinders\"},{\"TeamName\":\"DataMinders\"},{\"TeamName\":\"DataMinders\"},{\"TeamName\":\"DataMinders\"},{\"TeamName\":\"DataMinders\"},{\"TeamName\":\"DataMinders\"},{\"TeamName\":\"DataMinders\"},{\"TeamName\":\"DataMinders\"},{\"TeamName\":\"DataMinders\"},{\"TeamName\":\"DataMinders\"}],\"x_values\":[1462509867000.0,1462509954000.0,1462512654000.0,1462537118000.0,1462568936000.0,1462588516000.0,1462804171000.0,1462805076000.0,1462805160000.0,1462805251000.0,1462805536000.0,1462905966000.0,1462907211000.0,1462907407000.0,1463019124000.0,1463019178000.0,1463048956000.0,1463059041000.0,1463061046000.0,1463088436000.0,1463223069000.0,1463261688000.0,1463313712000.0,1463314413000.0,1463322308000.0,1463350562000.0,1463352404000.0,1463357328000.0,1463764506000.0,1463793113000.0,1463913171000.0,1463931420000.0,1463991700000.0,1463991881000.0,1463998024000.0,1464078024000.0,1464146472000.0,1464421330000.0,1464556746000.0,1464606600000.0,1465123290000.0,1465767928000.0,1466739953000.0,1466782826000.0,1466840525000.0,1466893174000.0,1467187964000.0,1467188707000.0,1467363252000.0,1467364745000.0,1467482433000.0,1467740901000.0,1467760826000.0,1467892079000.0,1467916875000.0,1467935207000.0,1467941113000.0,1467989910000.0,1468105311000.0,1468105633000.0,1468187810000.0,1468193136000.0,1468258264000.0,1468259517000.0],\"y_values\":[0.49905,0.50095,0.61952,0.74438,0.74889,0.76007,0.81277,0.81831,0.8207899999999999,0.8249200000000001,0.8274799999999999,0.8316,0.8390700000000001,0.8395100000000001,0.84083,0.84149,0.84811,0.84957,0.8534299999999999,0.85808,0.8647600000000001,0.86674,0.86785,0.86785,0.87985,0.8807799999999999,0.8809600000000001,0.88492,0.8856299999999999,0.88574,0.9213600000000001,0.92475,0.92705,0.92706,0.93034,0.9312,0.9314,0.9315700000000001,0.93158,0.9319799999999999,0.93214,0.93229,0.9324399999999999,0.93285,0.93632,0.93725,0.9374600000000001,0.93879,0.93927,0.94029,0.9408700000000001,0.9411,0.9411299999999999,0.9431700000000001,0.9433799999999999,0.9434,0.9437399999999999,0.94399,0.94414,0.94431,0.9445100000000001,0.94452,0.94453,0.9445600000000001]}},\"id\":\"d991af73-17c7-4ceb-bd74-134c5d9502eb\",\"type\":\"ColumnDataSource\"},{\"attributes\":{},\"id\":\"4bfb230b-b357-42e6-bf3d-8188b9de6c6b\",\"type\":\"BasicTickFormatter\"},{\"attributes\":{\"line_color\":{\"value\":\"#f22c40\"},\"line_width\":{\"value\":2},\"x\":{\"field\":\"x_values\"},\"y\":{\"field\":\"y_values\"}},\"id\":\"8dc698d4-f794-412f-ad6c-d0d740eb5ee5\",\"type\":\"Line\"},{\"attributes\":{\"data_source\":{\"id\":\"6782e24d-b4ee-4b8d-b66f-ab3da07b79ec\",\"type\":\"ColumnDataSource\"},\"glyph\":{\"id\":\"ce0b1737-340f-4565-b009-5e659c7daec5\",\"type\":\"Line\"},\"hover_glyph\":null,\"nonselection_glyph\":null,\"selection_glyph\":null},\"id\":\"6bcbf801-9a55-4fe6-bc21-9ea74e90b200\",\"type\":\"GlyphRenderer\"},{\"attributes\":{\"line_color\":{\"value\":\"#df5320\"},\"line_width\":{\"value\":2},\"x\":{\"field\":\"x_values\"},\"y\":{\"field\":\"y_values\"}},\"id\":\"46cd1259-b510-491f-9998-e3df7ecc0fc0\",\"type\":\"Line\"},{\"attributes\":{\"plot\":{\"id\":\"f6dd0385-6fcf-4ae9-a7c9-35b8c6a16701\",\"subtype\":\"Chart\",\"type\":\"Plot\"}},\"id\":\"a8695571-efd7-4ac9-ac7a-3327095aca41\",\"type\":\"HelpTool\"},{\"attributes\":{\"days\":[1,8,15,22]},\"id\":\"e4cc6e5e-e8ac-408a-adbe-1440f4f4e267\",\"type\":\"DaysTicker\"},{\"attributes\":{\"plot\":{\"id\":\"f6dd0385-6fcf-4ae9-a7c9-35b8c6a16701\",\"subtype\":\"Chart\",\"type\":\"Plot\"}},\"id\":\"ce21d8be-0fea-4837-9b3f-ecffb1b38151\",\"type\":\"WheelZoomTool\"},{\"attributes\":{\"callback\":null,\"column_names\":[\"y_values\",\"x_values\"],\"data\":{\"TeamName\":[\"x0x0w1\",\"x0x0w1\",\"x0x0w1\",\"x0x0w1\",\"x0x0w1\",\"x0x0w1\",\"x0x0w1\",\"x0x0w1\",\"x0x0w1\",\"x0x0w1\",\"x0x0w1\",\"x0x0w1\",\"x0x0w1\",\"x0x0w1\",\"x0x0w1\",\"x0x0w1\",\"x0x0w1\",\"x0x0w1\",\"x0x0w1\",\"x0x0w1\",\"x0x0w1\",\"x0x0w1\",\"x0x0w1\",\"x0x0w1\",\"x0x0w1\",\"x0x0w1\",\"x0x0w1\",\"x0x0w1\",\"x0x0w1\",\"x0x0w1\"],\"chart_index\":[{\"TeamName\":\"x0x0w1\"},{\"TeamName\":\"x0x0w1\"},{\"TeamName\":\"x0x0w1\"},{\"TeamName\":\"x0x0w1\"},{\"TeamName\":\"x0x0w1\"},{\"TeamName\":\"x0x0w1\"},{\"TeamName\":\"x0x0w1\"},{\"TeamName\":\"x0x0w1\"},{\"TeamName\":\"x0x0w1\"},{\"TeamName\":\"x0x0w1\"},{\"TeamName\":\"x0x0w1\"},{\"TeamName\":\"x0x0w1\"},{\"TeamName\":\"x0x0w1\"},{\"TeamName\":\"x0x0w1\"},{\"TeamName\":\"x0x0w1\"},{\"TeamName\":\"x0x0w1\"},{\"TeamName\":\"x0x0w1\"},{\"TeamName\":\"x0x0w1\"},{\"TeamName\":\"x0x0w1\"},{\"TeamName\":\"x0x0w1\"},{\"TeamName\":\"x0x0w1\"},{\"TeamName\":\"x0x0w1\"},{\"TeamName\":\"x0x0w1\"},{\"TeamName\":\"x0x0w1\"},{\"TeamName\":\"x0x0w1\"},{\"TeamName\":\"x0x0w1\"},{\"TeamName\":\"x0x0w1\"},{\"TeamName\":\"x0x0w1\"},{\"TeamName\":\"x0x0w1\"},{\"TeamName\":\"x0x0w1\"}],\"x_values\":[1464786238000.0,1464858058000.0,1465225226000.0,1465282816000.0,1465293177000.0,1465296761000.0,1465362060000.0,1465363207000.0,1465454073000.0,1465457921000.0,1465488955000.0,1465735443000.0,1465738893000.0,1465805513000.0,1466074011000.0,1466175689000.0,1467151383000.0,1467187070000.0,1467302584000.0,1467310522000.0,1467371681000.0,1467401674000.0,1467478663000.0,1467484187000.0,1467645151000.0,1467653197000.0,1467745644000.0,1467747232000.0,1467802692000.0,1467803148000.0],\"y_values\":[0.7535,0.7618199999999999,0.88797,0.8963700000000001,0.89835,0.89851,0.9007299999999999,0.9017700000000001,0.90361,0.90446,0.90585,0.91675,0.91725,0.9196799999999999,0.92038,0.9213600000000001,0.92432,0.9249200000000001,0.92576,0.93032,0.93115,0.9335200000000001,0.9337200000000001,0.93434,0.93499,0.9355700000000001,0.9356,0.9356200000000001,0.93578,0.93579]}},\"id\":\"6782e24d-b4ee-4b8d-b66f-ab3da07b79ec\",\"type\":\"ColumnDataSource\"},{\"attributes\":{\"line_color\":{\"value\":\"#407ee7\"},\"line_width\":{\"value\":2},\"x\":{\"field\":\"x_values\"},\"y\":{\"field\":\"y_values\"}},\"id\":\"7bc02e34-cfb8-4e30-9c28-71e9ea394cfd\",\"type\":\"Line\"},{\"attributes\":{\"overlay\":{\"id\":\"73ac9dec-964f-457a-b853-1de443a260c5\",\"type\":\"BoxAnnotation\"},\"plot\":{\"id\":\"f6dd0385-6fcf-4ae9-a7c9-35b8c6a16701\",\"subtype\":\"Chart\",\"type\":\"Plot\"}},\"id\":\"9efbf5b5-f6e9-4c75-b0aa-91a81268bf9e\",\"type\":\"BoxZoomTool\"},{\"attributes\":{\"callback\":null,\"column_names\":[\"y_values\",\"x_values\"],\"data\":{\"TeamName\":[\"frist\",\"frist\",\"frist\",\"frist\",\"frist\",\"frist\",\"frist\",\"frist\",\"frist\",\"frist\",\"frist\",\"frist\",\"frist\",\"frist\",\"frist\",\"frist\",\"frist\",\"frist\",\"frist\",\"frist\",\"frist\",\"frist\",\"frist\",\"frist\",\"frist\",\"frist\",\"frist\",\"frist\",\"frist\",\"frist\",\"frist\",\"frist\",\"frist\",\"frist\",\"frist\",\"frist\",\"frist\"],\"chart_index\":[{\"TeamName\":\"frist\"},{\"TeamName\":\"frist\"},{\"TeamName\":\"frist\"},{\"TeamName\":\"frist\"},{\"TeamName\":\"frist\"},{\"TeamName\":\"frist\"},{\"TeamName\":\"frist\"},{\"TeamName\":\"frist\"},{\"TeamName\":\"frist\"},{\"TeamName\":\"frist\"},{\"TeamName\":\"frist\"},{\"TeamName\":\"frist\"},{\"TeamName\":\"frist\"},{\"TeamName\":\"frist\"},{\"TeamName\":\"frist\"},{\"TeamName\":\"frist\"},{\"TeamName\":\"frist\"},{\"TeamName\":\"frist\"},{\"TeamName\":\"frist\"},{\"TeamName\":\"frist\"},{\"TeamName\":\"frist\"},{\"TeamName\":\"frist\"},{\"TeamName\":\"frist\"},{\"TeamName\":\"frist\"},{\"TeamName\":\"frist\"},{\"TeamName\":\"frist\"},{\"TeamName\":\"frist\"},{\"TeamName\":\"frist\"},{\"TeamName\":\"frist\"},{\"TeamName\":\"frist\"},{\"TeamName\":\"frist\"},{\"TeamName\":\"frist\"},{\"TeamName\":\"frist\"},{\"TeamName\":\"frist\"},{\"TeamName\":\"frist\"},{\"TeamName\":\"frist\"},{\"TeamName\":\"frist\"}],\"x_values\":[1463491946000.0,1463570213000.0,1463654578000.0,1463662826000.0,1464951173000.0,1465204298000.0,1465276386000.0,1465382269000.0,1465442584000.0,1465465687000.0,1465667008000.0,1465739143000.0,1465840486000.0,1465841181000.0,1465890627000.0,1465997984000.0,1466017698000.0,1466062068000.0,1466951991000.0,1466970803000.0,1467043288000.0,1467315397000.0,1467361369000.0,1467382777000.0,1467404684000.0,1467445804000.0,1467457778000.0,1467542691000.0,1467571239000.0,1467746741000.0,1467775813000.0,1467830586000.0,1468138322000.0,1468140316000.0,1468172043000.0,1468175402000.0,1468268994000.0],\"y_values\":[0.73819,0.74498,0.76036,0.76488,0.78499,0.7933,0.79998,0.8016399999999999,0.8021199999999999,0.81221,0.81535,0.83483,0.88084,0.9128799999999999,0.91317,0.9247799999999999,0.9261,0.9287,0.93042,0.93061,0.93216,0.9339,0.9339299999999999,0.9339299999999999,0.93416,0.9356899999999999,0.9363100000000001,0.93696,0.93699,0.9370799999999999,0.93742,0.9381200000000001,0.94129,0.94375,0.9437700000000001,0.94404,0.9445600000000001]}},\"id\":\"33fef346-3806-4484-9b8d-ae7b6022c3b3\",\"type\":\"ColumnDataSource\"},{\"attributes\":{\"months\":[0,1,2,3,4,5,6,7,8,9,10,11]},\"id\":\"c4d9fc69-440d-47f9-83d5-d282ef7e0788\",\"type\":\"MonthsTicker\"},{\"attributes\":{\"line_color\":{\"value\":\"#f22c40\"},\"line_width\":{\"value\":2},\"x\":{\"field\":\"x_values\"},\"y\":{\"field\":\"y_values\"}},\"id\":\"4e1f3657-51f0-4cec-829e-c88bf2e8569a\",\"type\":\"Line\"},{\"attributes\":{\"line_color\":{\"value\":\"#5ab738\"},\"line_width\":{\"value\":2},\"x\":{\"field\":\"x_values\"},\"y\":{\"field\":\"y_values\"}},\"id\":\"ce0b1737-340f-4565-b009-5e659c7daec5\",\"type\":\"Line\"},{\"attributes\":{\"months\":[0,6]},\"id\":\"430aa219-515d-4013-b279-da2a9c41a522\",\"type\":\"MonthsTicker\"},{\"attributes\":{\"line_color\":{\"value\":\"#00ad9c\"},\"line_width\":{\"value\":2},\"x\":{\"field\":\"x_values\"},\"y\":{\"field\":\"y_values\"}},\"id\":\"a7c41d3e-7415-41e1-8fe2-ca5c4b0a7c51\",\"type\":\"Line\"},{\"attributes\":{\"line_color\":{\"value\":\"#5ab738\"},\"line_width\":{\"value\":2},\"x\":{\"field\":\"x_values\"},\"y\":{\"field\":\"y_values\"}},\"id\":\"6c6d6e15-39bc-44d5-8aa9-03a5a6962fa0\",\"type\":\"Line\"},{\"attributes\":{\"months\":[0,2,4,6,8,10]},\"id\":\"49b0f64c-0521-4568-8430-5e77b2b4baec\",\"type\":\"MonthsTicker\"},{\"attributes\":{\"data_source\":{\"id\":\"f6646a1d-26fd-476a-8dc7-2badb5a2e9bf\",\"type\":\"ColumnDataSource\"},\"glyph\":{\"id\":\"9ce3683d-b7e2-4657-85d8-7a6a45379ffc\",\"type\":\"Line\"},\"hover_glyph\":null,\"nonselection_glyph\":null,\"selection_glyph\":null},\"id\":\"3983f3f2-55f6-413b-b1d3-b28a5343dfce\",\"type\":\"GlyphRenderer\"},{\"attributes\":{\"plot\":{\"id\":\"f6dd0385-6fcf-4ae9-a7c9-35b8c6a16701\",\"subtype\":\"Chart\",\"type\":\"Plot\"},\"ticker\":{\"id\":\"7fb1d92a-512e-4375-8437-e6ece28a6907\",\"type\":\"DatetimeTicker\"}},\"id\":\"d6e09689-37a2-4f37-b137-d4fb184fafd3\",\"type\":\"Grid\"},{\"attributes\":{\"data_source\":{\"id\":\"4a22c178-9c70-4617-92b4-6d6691cc41c2\",\"type\":\"ColumnDataSource\"},\"glyph\":{\"id\":\"a32b4949-b586-4d85-a48a-42e778176691\",\"type\":\"Line\"},\"hover_glyph\":null,\"nonselection_glyph\":null,\"selection_glyph\":null},\"id\":\"9de61671-a523-44fe-a530-7d6109064f06\",\"type\":\"GlyphRenderer\"},{\"attributes\":{\"days\":[1,4,7,10,13,16,19,22,25,28]},\"id\":\"1a3a18d1-8da3-4ada-bcfb-2b813369b746\",\"type\":\"DaysTicker\"}],\"root_ids\":[\"f6dd0385-6fcf-4ae9-a7c9-35b8c6a16701\"]},\"title\":\"Bokeh Application\",\"version\":\"0.12.0\"}};\n",
       "            var render_items = [{\"docid\":\"61aaa857-85a5-4cfd-ba29-54fa60ba455f\",\"elementid\":\"9bf7e58d-825b-4e22-839e-ee8fb76c9fef\",\"modelid\":\"f6dd0385-6fcf-4ae9-a7c9-35b8c6a16701\",\"notebook_comms_target\":\"3fbaedf7-43c3-4d2b-9de5-98c618531e1c\"}];\n",
       "            \n",
       "            Bokeh.embed.embed_items(docs_json, render_items);\n",
       "        });\n",
       "      },\n",
       "      function(Bokeh) {\n",
       "      }\n",
       "    ];\n",
       "  \n",
       "    function run_inline_js() {\n",
       "      for (var i = 0; i < inline_js.length; i++) {\n",
       "        inline_js[i](window.Bokeh);\n",
       "      }\n",
       "    }\n",
       "  \n",
       "    if (window._bokeh_is_loading === 0) {\n",
       "      console.log(\"Bokeh: BokehJS loaded, going straight to plotting\");\n",
       "      run_inline_js();\n",
       "    } else {\n",
       "      load_libs(js_urls, function() {\n",
       "        console.log(\"Bokeh: BokehJS plotting callback run at\", now());\n",
       "        run_inline_js();\n",
       "      });\n",
       "    }\n",
       "  }(this));\n",
       "</script>"
      ]
     },
     "metadata": {},
     "output_type": "display_data"
    },
    {
     "data": {
      "text/html": [
       "<p><code>&lt;Bokeh Notebook handle for <strong>In[10]</strong>&gt;</code></p>"
      ],
      "text/plain": [
       "<bokeh.io._CommsHandle at 0x7f34742a3da0>"
      ]
     },
     "execution_count": 10,
     "metadata": {},
     "output_type": "execute_result"
    }
   ],
   "source": [
    "top20_team = leaderboard.groupby('TeamName')['Score'].max().sort_values(ascending=False).iloc[:20].index.tolist()\n",
    "p = TimeSeries(leaderboard[leaderboard.TeamName.apply(lambda x: x in top20_team)],\n",
    "               x='SubmissionDate', y='Score', color='TeamName',\n",
    "               plot_width=1000, legend=False)\n",
    "show(p)"
   ]
  },
  {
   "cell_type": "code",
   "execution_count": 11,
   "metadata": {
    "collapsed": false,
    "slideshow": {
     "slide_type": "subslide"
    }
   },
   "outputs": [
    {
     "data": {
      "text/html": [
       "\n",
       "\n",
       "    <div class=\"bk-root\">\n",
       "        <div class=\"plotdiv\" id=\"048c3323-5059-47e6-9465-6dd2f5f84631\"></div>\n",
       "    </div>\n",
       "<script type=\"text/javascript\">\n",
       "  \n",
       "  (function(global) {\n",
       "    function now() {\n",
       "      return new Date();\n",
       "    }\n",
       "  \n",
       "    if (typeof (window._bokeh_onload_callbacks) === \"undefined\") {\n",
       "      window._bokeh_onload_callbacks = [];\n",
       "    }\n",
       "  \n",
       "    function run_callbacks() {\n",
       "      window._bokeh_onload_callbacks.forEach(function(callback) { callback() });\n",
       "      delete window._bokeh_onload_callbacks\n",
       "      console.info(\"Bokeh: all callbacks have finished\");\n",
       "    }\n",
       "  \n",
       "    function load_libs(js_urls, callback) {\n",
       "      window._bokeh_onload_callbacks.push(callback);\n",
       "      if (window._bokeh_is_loading > 0) {\n",
       "        console.log(\"Bokeh: BokehJS is being loaded, scheduling callback at\", now());\n",
       "        return null;\n",
       "      }\n",
       "      if (js_urls == null || js_urls.length === 0) {\n",
       "        run_callbacks();\n",
       "        return null;\n",
       "      }\n",
       "      console.log(\"Bokeh: BokehJS not loaded, scheduling load and callback at\", now());\n",
       "      window._bokeh_is_loading = js_urls.length;\n",
       "      for (var i = 0; i < js_urls.length; i++) {\n",
       "        var url = js_urls[i];\n",
       "        var s = document.createElement('script');\n",
       "        s.src = url;\n",
       "        s.async = false;\n",
       "        s.onreadystatechange = s.onload = function() {\n",
       "          window._bokeh_is_loading--;\n",
       "          if (window._bokeh_is_loading === 0) {\n",
       "            console.log(\"Bokeh: all BokehJS libraries loaded\");\n",
       "            run_callbacks()\n",
       "          }\n",
       "        };\n",
       "        s.onerror = function() {\n",
       "          console.warn(\"failed to load library \" + url);\n",
       "        };\n",
       "        console.log(\"Bokeh: injecting script tag for BokehJS library: \", url);\n",
       "        document.getElementsByTagName(\"head\")[0].appendChild(s);\n",
       "      }\n",
       "    };var element = document.getElementById(\"048c3323-5059-47e6-9465-6dd2f5f84631\");\n",
       "    if (element == null) {\n",
       "      console.log(\"Bokeh: ERROR: autoload.js configured with elementid '048c3323-5059-47e6-9465-6dd2f5f84631' but no matching script tag was found. \")\n",
       "      return false;\n",
       "    }\n",
       "  \n",
       "    var js_urls = [];\n",
       "  \n",
       "    var inline_js = [\n",
       "      function(Bokeh) {\n",
       "        Bokeh.$(function() {\n",
       "            var docs_json = {\"4c0ced33-25d5-49dd-b370-ff40340f842f\":{\"roots\":{\"references\":[{\"attributes\":{\"data_source\":{\"id\":\"de67392c-903d-409e-8c0f-82fdf0615f3a\",\"type\":\"ColumnDataSource\"},\"glyph\":{\"id\":\"7fd8ef48-2568-400c-bf9f-0e7dc91fd077\",\"type\":\"Line\"},\"hover_glyph\":null,\"nonselection_glyph\":null,\"selection_glyph\":null},\"id\":\"29286e66-21b1-47bd-ae0c-abe795d03653\",\"type\":\"GlyphRenderer\"},{\"attributes\":{},\"id\":\"f7b2d7c3-e437-4ba9-90a1-6f0b6bdda0bd\",\"type\":\"BasicTicker\"},{\"attributes\":{\"days\":[1,8,15,22]},\"id\":\"d736e8ad-7697-48c5-a229-968768040f2c\",\"type\":\"DaysTicker\"},{\"attributes\":{\"callback\":null,\"column_names\":[\"y_values\",\"x_values\"],\"data\":{\"TeamName\":[\"Devil Team\",\"Devil Team\",\"Devil Team\",\"Devil Team\",\"Devil Team\",\"Devil Team\",\"Devil Team\",\"Devil Team\",\"Devil Team\",\"Devil Team\",\"Devil Team\",\"Devil Team\",\"Devil Team\",\"Devil Team\",\"Devil Team\",\"Devil Team\",\"Devil Team\",\"Devil Team\",\"Devil Team\",\"Devil Team\",\"Devil Team\",\"Devil Team\",\"Devil Team\",\"Devil Team\",\"Devil Team\",\"Devil Team\",\"Devil Team\",\"Devil Team\",\"Devil Team\",\"Devil Team\",\"Devil Team\"],\"chart_index\":[{\"TeamName\":\"Devil Team\"},{\"TeamName\":\"Devil Team\"},{\"TeamName\":\"Devil Team\"},{\"TeamName\":\"Devil Team\"},{\"TeamName\":\"Devil Team\"},{\"TeamName\":\"Devil Team\"},{\"TeamName\":\"Devil Team\"},{\"TeamName\":\"Devil Team\"},{\"TeamName\":\"Devil Team\"},{\"TeamName\":\"Devil Team\"},{\"TeamName\":\"Devil Team\"},{\"TeamName\":\"Devil Team\"},{\"TeamName\":\"Devil Team\"},{\"TeamName\":\"Devil Team\"},{\"TeamName\":\"Devil Team\"},{\"TeamName\":\"Devil Team\"},{\"TeamName\":\"Devil Team\"},{\"TeamName\":\"Devil Team\"},{\"TeamName\":\"Devil Team\"},{\"TeamName\":\"Devil Team\"},{\"TeamName\":\"Devil Team\"},{\"TeamName\":\"Devil Team\"},{\"TeamName\":\"Devil Team\"},{\"TeamName\":\"Devil Team\"},{\"TeamName\":\"Devil Team\"},{\"TeamName\":\"Devil Team\"},{\"TeamName\":\"Devil Team\"},{\"TeamName\":\"Devil Team\"},{\"TeamName\":\"Devil Team\"},{\"TeamName\":\"Devil Team\"},{\"TeamName\":\"Devil Team\"}],\"x_values\":[1463521427000.0,1463543932000.0,1463694410000.0,1463762308000.0,1463762759000.0,1463775416000.0,1463808707000.0,1463820432000.0,1463820797000.0,1464216180000.0,1464217284000.0,1464241658000.0,1464357962000.0,1464359497000.0,1465641473000.0,1465758609000.0,1465865452000.0,1465866127000.0,1465887856000.0,1465888048000.0,1466025299000.0,1466067937000.0,1466098848000.0,1466165852000.0,1466551386000.0,1466667059000.0,1467198972000.0,1467787325000.0,1468275022000.0,1468275700000.0,1468276153000.0],\"y_values\":[0.90345,0.9037799999999999,0.9053700000000001,0.90561,0.90586,0.90775,0.9089,0.90954,0.91058,0.9151299999999999,0.91558,0.9184399999999999,0.92032,0.92312,0.92432,0.9259,0.9273100000000001,0.92945,0.9299799999999999,0.93017,0.9384399999999999,0.9413799999999999,0.94284,0.94545,0.9454600000000001,0.9454799999999999,0.9456200000000001,0.94568,0.95326,0.95337,0.95839]}},\"id\":\"68e9d894-e06f-4f16-aa2c-d5add6ac8d42\",\"type\":\"ColumnDataSource\"},{\"attributes\":{\"days\":[1,4,7,10,13,16,19,22,25,28]},\"id\":\"d90d2dd0-5505-4569-86bb-b542ad6f3c4a\",\"type\":\"DaysTicker\"},{\"attributes\":{},\"id\":\"05d7f712-d808-4b49-99d7-fa0720865e33\",\"type\":\"YearsTicker\"},{\"attributes\":{\"data_source\":{\"id\":\"7879e0f7-0165-4cb8-a24a-813537c998aa\",\"type\":\"ColumnDataSource\"},\"glyph\":{\"id\":\"977c7b55-dbc3-4381-9033-5b28085c9793\",\"type\":\"Line\"},\"hover_glyph\":null,\"nonselection_glyph\":null,\"selection_glyph\":null},\"id\":\"2c93c0ce-e0a7-4240-a55d-87af9a2c8242\",\"type\":\"GlyphRenderer\"},{\"attributes\":{\"callback\":null,\"column_names\":[\"y_values\",\"x_values\"],\"data\":{\"TeamName\":[\"x0x0w1\",\"x0x0w1\",\"x0x0w1\",\"x0x0w1\",\"x0x0w1\",\"x0x0w1\",\"x0x0w1\",\"x0x0w1\",\"x0x0w1\",\"x0x0w1\",\"x0x0w1\",\"x0x0w1\",\"x0x0w1\",\"x0x0w1\",\"x0x0w1\",\"x0x0w1\",\"x0x0w1\",\"x0x0w1\",\"x0x0w1\",\"x0x0w1\",\"x0x0w1\",\"x0x0w1\",\"x0x0w1\",\"x0x0w1\"],\"chart_index\":[{\"TeamName\":\"x0x0w1\"},{\"TeamName\":\"x0x0w1\"},{\"TeamName\":\"x0x0w1\"},{\"TeamName\":\"x0x0w1\"},{\"TeamName\":\"x0x0w1\"},{\"TeamName\":\"x0x0w1\"},{\"TeamName\":\"x0x0w1\"},{\"TeamName\":\"x0x0w1\"},{\"TeamName\":\"x0x0w1\"},{\"TeamName\":\"x0x0w1\"},{\"TeamName\":\"x0x0w1\"},{\"TeamName\":\"x0x0w1\"},{\"TeamName\":\"x0x0w1\"},{\"TeamName\":\"x0x0w1\"},{\"TeamName\":\"x0x0w1\"},{\"TeamName\":\"x0x0w1\"},{\"TeamName\":\"x0x0w1\"},{\"TeamName\":\"x0x0w1\"},{\"TeamName\":\"x0x0w1\"},{\"TeamName\":\"x0x0w1\"},{\"TeamName\":\"x0x0w1\"},{\"TeamName\":\"x0x0w1\"},{\"TeamName\":\"x0x0w1\"},{\"TeamName\":\"x0x0w1\"}],\"x_values\":[1465362060000.0,1465363207000.0,1465454073000.0,1465457921000.0,1465488955000.0,1465735443000.0,1465738893000.0,1465805513000.0,1466074011000.0,1466175689000.0,1467151383000.0,1467187070000.0,1467302584000.0,1467310522000.0,1467371681000.0,1467401674000.0,1467478663000.0,1467484187000.0,1467645151000.0,1467653197000.0,1467745644000.0,1467747232000.0,1467802692000.0,1467803148000.0],\"y_values\":[0.9007299999999999,0.9017700000000001,0.90361,0.90446,0.90585,0.91675,0.91725,0.9196799999999999,0.92038,0.9213600000000001,0.92432,0.9249200000000001,0.92576,0.93032,0.93115,0.9335200000000001,0.9337200000000001,0.93434,0.93499,0.9355700000000001,0.9356,0.9356200000000001,0.93578,0.93579]}},\"id\":\"7879e0f7-0165-4cb8-a24a-813537c998aa\",\"type\":\"ColumnDataSource\"},{\"attributes\":{\"below\":[{\"id\":\"90654ae8-82b8-4cbf-a5c4-b7797500ed69\",\"type\":\"DatetimeAxis\"}],\"left\":[{\"id\":\"64596d8a-893d-4743-8c5b-21b40702370e\",\"type\":\"LinearAxis\"}],\"plot_width\":1000,\"renderers\":[{\"id\":\"3a2413d2-fee4-44fa-b4de-c74517d13f33\",\"type\":\"BoxAnnotation\"},{\"id\":\"29286e66-21b1-47bd-ae0c-abe795d03653\",\"type\":\"GlyphRenderer\"},{\"id\":\"5b97b142-c842-4f86-821f-a66e36ce2d0d\",\"type\":\"GlyphRenderer\"},{\"id\":\"3da2a6b2-732b-4896-9ac7-8c01ef59e584\",\"type\":\"GlyphRenderer\"},{\"id\":\"09e1dd1e-c620-41d8-94c7-0dfde9b39bab\",\"type\":\"GlyphRenderer\"},{\"id\":\"4d93d049-7bdb-41a8-93a8-6bca7f8e5df4\",\"type\":\"GlyphRenderer\"},{\"id\":\"6f14dc37-4225-413d-848b-483c939fe84a\",\"type\":\"GlyphRenderer\"},{\"id\":\"26f25853-4136-4644-8192-81883d6a440e\",\"type\":\"GlyphRenderer\"},{\"id\":\"c63de31e-7dca-4231-b568-ef7f01bef875\",\"type\":\"GlyphRenderer\"},{\"id\":\"f728976b-930f-46fc-98cb-91a97bb0ae87\",\"type\":\"GlyphRenderer\"},{\"id\":\"49afd872-9c4e-47c9-890b-376e5f1cfb75\",\"type\":\"GlyphRenderer\"},{\"id\":\"50aeb784-c7b9-44f1-a330-f4a8a356b1b3\",\"type\":\"GlyphRenderer\"},{\"id\":\"2c93c0ce-e0a7-4240-a55d-87af9a2c8242\",\"type\":\"GlyphRenderer\"},{\"id\":\"b1c78056-44f4-49e7-aba7-93eb267ca28a\",\"type\":\"GlyphRenderer\"},{\"id\":\"3e092f37-f402-4101-9d26-6104c257dd53\",\"type\":\"GlyphRenderer\"},{\"id\":\"b776b8a7-27c3-4e92-9b0c-d07b774f7229\",\"type\":\"GlyphRenderer\"},{\"id\":\"63755b6f-b9ea-40ff-91d7-b485d318c0e5\",\"type\":\"GlyphRenderer\"},{\"id\":\"65ddee88-edfa-447d-9b96-a90f87a7d21b\",\"type\":\"GlyphRenderer\"},{\"id\":\"1eb08093-357b-49a3-8e42-d917f5a9a2a2\",\"type\":\"GlyphRenderer\"},{\"id\":\"d277ffff-4b16-4a56-9dd6-ad479c7b6d14\",\"type\":\"GlyphRenderer\"},{\"id\":\"fd120d88-b687-4816-bbd2-c3d248d07178\",\"type\":\"GlyphRenderer\"},{\"id\":\"90654ae8-82b8-4cbf-a5c4-b7797500ed69\",\"type\":\"DatetimeAxis\"},{\"id\":\"64596d8a-893d-4743-8c5b-21b40702370e\",\"type\":\"LinearAxis\"},{\"id\":\"7ed89b0e-58ba-44aa-bd8b-b22178b31e35\",\"type\":\"Grid\"},{\"id\":\"d0b6ef0a-2a66-4e48-b7f2-36209800f9d2\",\"type\":\"Grid\"}],\"title\":{\"id\":\"7b83a294-cdd3-4fbc-a2fc-6d59758e1ec2\",\"type\":\"Title\"},\"tool_events\":{\"id\":\"e5308b9d-d233-4865-b50b-a05496072d12\",\"type\":\"ToolEvents\"},\"toolbar\":{\"id\":\"46a37f6f-48ec-446a-b33c-8f4d740c8fcd\",\"type\":\"Toolbar\"},\"x_mapper_type\":\"auto\",\"x_range\":{\"id\":\"246e1146-1933-44d0-9267-b4cc2c95f730\",\"type\":\"Range1d\"},\"y_mapper_type\":\"auto\",\"y_range\":{\"id\":\"0891237c-5474-4004-9b61-498855663756\",\"type\":\"Range1d\"}},\"id\":\"82159160-4eaf-42ad-b526-7b10eb638267\",\"subtype\":\"Chart\",\"type\":\"Plot\"},{\"attributes\":{\"line_color\":{\"value\":\"#f22c40\"},\"line_width\":{\"value\":2},\"x\":{\"field\":\"x_values\"},\"y\":{\"field\":\"y_values\"}},\"id\":\"b36f2b8b-e2f7-4434-bd8f-180cc806ddd9\",\"type\":\"Line\"},{\"attributes\":{\"callback\":null,\"column_names\":[\"y_values\",\"x_values\"],\"data\":{\"TeamName\":[\"luoq\",\"luoq\",\"luoq\",\"luoq\",\"luoq\",\"luoq\",\"luoq\",\"luoq\",\"luoq\",\"luoq\",\"luoq\",\"luoq\",\"luoq\"],\"chart_index\":[{\"TeamName\":\"luoq\"},{\"TeamName\":\"luoq\"},{\"TeamName\":\"luoq\"},{\"TeamName\":\"luoq\"},{\"TeamName\":\"luoq\"},{\"TeamName\":\"luoq\"},{\"TeamName\":\"luoq\"},{\"TeamName\":\"luoq\"},{\"TeamName\":\"luoq\"},{\"TeamName\":\"luoq\"},{\"TeamName\":\"luoq\"},{\"TeamName\":\"luoq\"},{\"TeamName\":\"luoq\"}],\"x_values\":[1465366284000.0,1465451531000.0,1465721688000.0,1465975128000.0,1465979680000.0,1465985856000.0,1466679549000.0,1467619670000.0,1467941457000.0,1467959378000.0,1468037300000.0,1468115696000.0,1468200278000.0],\"y_values\":[0.90249,0.90954,0.9184100000000001,0.9190299999999999,0.9191600000000001,0.9194100000000001,0.9203399999999999,0.9321200000000001,0.93778,0.93791,0.93873,0.9389,0.9396399999999999]}},\"id\":\"bc861fc0-c244-487b-90ac-7e2eadebdeaf\",\"type\":\"ColumnDataSource\"},{\"attributes\":{\"plot\":{\"id\":\"82159160-4eaf-42ad-b526-7b10eb638267\",\"subtype\":\"Chart\",\"type\":\"Plot\"}},\"id\":\"b68c70ea-65f3-405b-818c-4759c42a5d4e\",\"type\":\"PanTool\"},{\"attributes\":{\"months\":[0,4,8]},\"id\":\"da5a26ba-2986-4f20-8492-8de0e44a5fec\",\"type\":\"MonthsTicker\"},{\"attributes\":{\"days\":[1,15]},\"id\":\"f8bf6c7f-2dec-4fee-9b62-1e4189c09ebc\",\"type\":\"DaysTicker\"},{\"attributes\":{\"data_source\":{\"id\":\"bc861fc0-c244-487b-90ac-7e2eadebdeaf\",\"type\":\"ColumnDataSource\"},\"glyph\":{\"id\":\"b1c548ae-0f1e-4ba6-a583-1195a62ca0cd\",\"type\":\"Line\"},\"hover_glyph\":null,\"nonselection_glyph\":null,\"selection_glyph\":null},\"id\":\"b1c78056-44f4-49e7-aba7-93eb267ca28a\",\"type\":\"GlyphRenderer\"},{\"attributes\":{\"data_source\":{\"id\":\"ed24f594-6c31-41b6-96ff-b48bc4dc6943\",\"type\":\"ColumnDataSource\"},\"glyph\":{\"id\":\"e97772fc-954e-4e6d-a552-249addcc35a2\",\"type\":\"Line\"},\"hover_glyph\":null,\"nonselection_glyph\":null,\"selection_glyph\":null},\"id\":\"26f25853-4136-4644-8192-81883d6a440e\",\"type\":\"GlyphRenderer\"},{\"attributes\":{\"data_source\":{\"id\":\"43408e0b-bfd1-414f-949c-755350b6c494\",\"type\":\"ColumnDataSource\"},\"glyph\":{\"id\":\"6ab43433-2f79-4b4c-a844-f6421f9c567f\",\"type\":\"Line\"},\"hover_glyph\":null,\"nonselection_glyph\":null,\"selection_glyph\":null},\"id\":\"6f14dc37-4225-413d-848b-483c939fe84a\",\"type\":\"GlyphRenderer\"},{\"attributes\":{\"plot\":{\"id\":\"82159160-4eaf-42ad-b526-7b10eb638267\",\"subtype\":\"Chart\",\"type\":\"Plot\"}},\"id\":\"45f73004-76a7-4ed2-8e30-02b4b35d6df3\",\"type\":\"WheelZoomTool\"},{\"attributes\":{\"months\":[0,1,2,3,4,5,6,7,8,9,10,11]},\"id\":\"675fbd95-b5c6-4bf9-9966-1796d90393a5\",\"type\":\"MonthsTicker\"},{\"attributes\":{\"callback\":null,\"column_names\":[\"y_values\",\"x_values\"],\"data\":{\"TeamName\":[\"Pavel Blinov\",\"Pavel Blinov\",\"Pavel Blinov\",\"Pavel Blinov\",\"Pavel Blinov\",\"Pavel Blinov\",\"Pavel Blinov\",\"Pavel Blinov\",\"Pavel Blinov\",\"Pavel Blinov\",\"Pavel Blinov\",\"Pavel Blinov\",\"Pavel Blinov\",\"Pavel Blinov\",\"Pavel Blinov\",\"Pavel Blinov\",\"Pavel Blinov\",\"Pavel Blinov\",\"Pavel Blinov\",\"Pavel Blinov\",\"Pavel Blinov\",\"Pavel Blinov\",\"Pavel Blinov\",\"Pavel Blinov\",\"Pavel Blinov\",\"Pavel Blinov\",\"Pavel Blinov\",\"Pavel Blinov\",\"Pavel Blinov\",\"Pavel Blinov\",\"Pavel Blinov\",\"Pavel Blinov\",\"Pavel Blinov\",\"Pavel Blinov\",\"Pavel Blinov\",\"Pavel Blinov\",\"Pavel Blinov\",\"Pavel Blinov\",\"Pavel Blinov\",\"Pavel Blinov\",\"Pavel Blinov\"],\"chart_index\":[{\"TeamName\":\"Pavel Blinov\"},{\"TeamName\":\"Pavel Blinov\"},{\"TeamName\":\"Pavel Blinov\"},{\"TeamName\":\"Pavel Blinov\"},{\"TeamName\":\"Pavel Blinov\"},{\"TeamName\":\"Pavel Blinov\"},{\"TeamName\":\"Pavel Blinov\"},{\"TeamName\":\"Pavel Blinov\"},{\"TeamName\":\"Pavel Blinov\"},{\"TeamName\":\"Pavel Blinov\"},{\"TeamName\":\"Pavel Blinov\"},{\"TeamName\":\"Pavel Blinov\"},{\"TeamName\":\"Pavel Blinov\"},{\"TeamName\":\"Pavel Blinov\"},{\"TeamName\":\"Pavel Blinov\"},{\"TeamName\":\"Pavel Blinov\"},{\"TeamName\":\"Pavel Blinov\"},{\"TeamName\":\"Pavel Blinov\"},{\"TeamName\":\"Pavel Blinov\"},{\"TeamName\":\"Pavel Blinov\"},{\"TeamName\":\"Pavel Blinov\"},{\"TeamName\":\"Pavel Blinov\"},{\"TeamName\":\"Pavel Blinov\"},{\"TeamName\":\"Pavel Blinov\"},{\"TeamName\":\"Pavel Blinov\"},{\"TeamName\":\"Pavel Blinov\"},{\"TeamName\":\"Pavel Blinov\"},{\"TeamName\":\"Pavel Blinov\"},{\"TeamName\":\"Pavel Blinov\"},{\"TeamName\":\"Pavel Blinov\"},{\"TeamName\":\"Pavel Blinov\"},{\"TeamName\":\"Pavel Blinov\"},{\"TeamName\":\"Pavel Blinov\"},{\"TeamName\":\"Pavel Blinov\"},{\"TeamName\":\"Pavel Blinov\"},{\"TeamName\":\"Pavel Blinov\"},{\"TeamName\":\"Pavel Blinov\"},{\"TeamName\":\"Pavel Blinov\"},{\"TeamName\":\"Pavel Blinov\"},{\"TeamName\":\"Pavel Blinov\"},{\"TeamName\":\"Pavel Blinov\"}],\"x_values\":[1466049837000.0,1466091049000.0,1466278584000.0,1466280355000.0,1466280703000.0,1466291908000.0,1466325754000.0,1466929762000.0,1466951783000.0,1466971527000.0,1466972209000.0,1466972674000.0,1467058671000.0,1467129461000.0,1467145321000.0,1467219387000.0,1467226531000.0,1467319730000.0,1467375230000.0,1467446227000.0,1467446362000.0,1467454389000.0,1467527699000.0,1467528131000.0,1467558901000.0,1467582380000.0,1467649678000.0,1467718764000.0,1467741291000.0,1467741675000.0,1467779093000.0,1467830657000.0,1467865450000.0,1467883049000.0,1467883430000.0,1467897922000.0,1467985130000.0,1468049383000.0,1468140376000.0,1468227298000.0,1468267124000.0],\"y_values\":[0.9204,0.92099,0.9217,0.9223899999999999,0.92261,0.92285,0.9237299999999999,0.9282299999999999,0.92914,0.9305700000000001,0.9312,0.9312799999999999,0.9315399999999999,0.9323600000000001,0.9328,0.93394,0.9339700000000001,0.93425,0.93491,0.9349700000000001,0.93561,0.93605,0.93619,0.93625,0.93625,0.9374899999999999,0.9376700000000001,0.9379299999999999,0.93805,0.9382,0.9383100000000001,0.9384299999999999,0.9406100000000001,0.94101,0.9423299999999999,0.94253,0.94258,0.9426399999999999,0.94278,0.94294,0.94299]}},\"id\":\"c6234f38-cef8-4909-96ba-32acf548d9e4\",\"type\":\"ColumnDataSource\"},{\"attributes\":{},\"id\":\"9142a22e-33c1-4625-b0d3-877fdb6094a2\",\"type\":\"BasicTickFormatter\"},{\"attributes\":{\"data_source\":{\"id\":\"c6234f38-cef8-4909-96ba-32acf548d9e4\",\"type\":\"ColumnDataSource\"},\"glyph\":{\"id\":\"2c17fdfe-ca32-4f01-b21f-cf72f82358d7\",\"type\":\"Line\"},\"hover_glyph\":null,\"nonselection_glyph\":null,\"selection_glyph\":null},\"id\":\"1eb08093-357b-49a3-8e42-d917f5a9a2a2\",\"type\":\"GlyphRenderer\"},{\"attributes\":{\"line_color\":{\"value\":\"#5ab738\"},\"line_width\":{\"value\":2},\"x\":{\"field\":\"x_values\"},\"y\":{\"field\":\"y_values\"}},\"id\":\"2c17fdfe-ca32-4f01-b21f-cf72f82358d7\",\"type\":\"Line\"},{\"attributes\":{},\"id\":\"945faf35-e287-4c2b-8c4e-97dabf77c866\",\"type\":\"DatetimeTicker\"},{\"attributes\":{\"line_color\":{\"value\":\"#5ab738\"},\"line_width\":{\"value\":2},\"x\":{\"field\":\"x_values\"},\"y\":{\"field\":\"y_values\"}},\"id\":\"aa309549-217b-414c-9d99-f2a972878e99\",\"type\":\"Line\"},{\"attributes\":{\"data_source\":{\"id\":\"fffc8fc4-6e26-4aa2-ab06-be54b0d901ef\",\"type\":\"ColumnDataSource\"},\"glyph\":{\"id\":\"7a85f330-9327-4c53-83cb-2e1a4e3f8639\",\"type\":\"Line\"},\"hover_glyph\":null,\"nonselection_glyph\":null,\"selection_glyph\":null},\"id\":\"3da2a6b2-732b-4896-9ac7-8c01ef59e584\",\"type\":\"GlyphRenderer\"},{\"attributes\":{\"line_color\":{\"value\":\"#df5320\"},\"line_width\":{\"value\":2},\"x\":{\"field\":\"x_values\"},\"y\":{\"field\":\"y_values\"}},\"id\":\"b1c548ae-0f1e-4ba6-a583-1195a62ca0cd\",\"type\":\"Line\"},{\"attributes\":{\"line_color\":{\"value\":\"#c33ff3\"},\"line_width\":{\"value\":2},\"x\":{\"field\":\"x_values\"},\"y\":{\"field\":\"y_values\"}},\"id\":\"29ae2ca3-b910-411e-bc99-e9b10f43e3df\",\"type\":\"Line\"},{\"attributes\":{\"active_drag\":\"auto\",\"active_scroll\":\"auto\",\"active_tap\":\"auto\",\"tools\":[{\"id\":\"b68c70ea-65f3-405b-818c-4759c42a5d4e\",\"type\":\"PanTool\"},{\"id\":\"45f73004-76a7-4ed2-8e30-02b4b35d6df3\",\"type\":\"WheelZoomTool\"},{\"id\":\"806a06d5-0e18-4fab-a7fa-60fe60efc890\",\"type\":\"BoxZoomTool\"},{\"id\":\"4941a101-46fe-461c-85c0-77ac91d472aa\",\"type\":\"SaveTool\"},{\"id\":\"39960927-3edb-4292-9d48-2f225eac7f62\",\"type\":\"ResetTool\"},{\"id\":\"8d466fab-81d3-480d-9d1c-9db843fc6b4d\",\"type\":\"HelpTool\"}]},\"id\":\"46a37f6f-48ec-446a-b33c-8f4d740c8fcd\",\"type\":\"Toolbar\"},{\"attributes\":{\"line_color\":{\"value\":\"#407ee7\"},\"line_width\":{\"value\":2},\"x\":{\"field\":\"x_values\"},\"y\":{\"field\":\"y_values\"}},\"id\":\"e420002e-8c73-4b24-b8e1-004d9772258f\",\"type\":\"Line\"},{\"attributes\":{\"dimension\":1,\"plot\":{\"id\":\"82159160-4eaf-42ad-b526-7b10eb638267\",\"subtype\":\"Chart\",\"type\":\"Plot\"},\"ticker\":{\"id\":\"f7b2d7c3-e437-4ba9-90a1-6f0b6bdda0bd\",\"type\":\"BasicTicker\"}},\"id\":\"d0b6ef0a-2a66-4e48-b7f2-36209800f9d2\",\"type\":\"Grid\"},{\"attributes\":{\"callback\":null,\"column_names\":[\"y_values\",\"x_values\"],\"data\":{\"TeamName\":[\"TeamYK\",\"TeamYK\",\"TeamYK\",\"TeamYK\",\"TeamYK\",\"TeamYK\",\"TeamYK\",\"TeamYK\",\"TeamYK\",\"TeamYK\",\"TeamYK\",\"TeamYK\",\"TeamYK\",\"TeamYK\",\"TeamYK\",\"TeamYK\",\"TeamYK\",\"TeamYK\",\"TeamYK\",\"TeamYK\",\"TeamYK\"],\"chart_index\":[{\"TeamName\":\"TeamYK\"},{\"TeamName\":\"TeamYK\"},{\"TeamName\":\"TeamYK\"},{\"TeamName\":\"TeamYK\"},{\"TeamName\":\"TeamYK\"},{\"TeamName\":\"TeamYK\"},{\"TeamName\":\"TeamYK\"},{\"TeamName\":\"TeamYK\"},{\"TeamName\":\"TeamYK\"},{\"TeamName\":\"TeamYK\"},{\"TeamName\":\"TeamYK\"},{\"TeamName\":\"TeamYK\"},{\"TeamName\":\"TeamYK\"},{\"TeamName\":\"TeamYK\"},{\"TeamName\":\"TeamYK\"},{\"TeamName\":\"TeamYK\"},{\"TeamName\":\"TeamYK\"},{\"TeamName\":\"TeamYK\"},{\"TeamName\":\"TeamYK\"},{\"TeamName\":\"TeamYK\"},{\"TeamName\":\"TeamYK\"}],\"x_values\":[1467114877000.0,1467431592000.0,1467464181000.0,1467557492000.0,1467751792000.0,1467780494000.0,1467819446000.0,1467895163000.0,1467895165000.0,1467895449000.0,1468081685000.0,1468082810000.0,1468084833000.0,1468085055000.0,1468127107000.0,1468127191000.0,1468167807000.0,1468167995000.0,1468221789000.0,1468221856000.0,1468239112000.0],\"y_values\":[0.90079,0.9091600000000001,0.91635,0.9237799999999999,0.93199,0.9323600000000001,0.9328700000000001,0.9335899999999999,0.9338299999999999,0.9341700000000001,0.93437,0.93595,0.93639,0.93658,0.9367700000000001,0.9368700000000001,0.9409,0.941,0.94111,0.9411700000000001,0.94137]}},\"id\":\"97e3ec3d-0dbf-4bbb-88fd-d291cf06bf19\",\"type\":\"ColumnDataSource\"},{\"attributes\":{\"overlay\":{\"id\":\"3a2413d2-fee4-44fa-b4de-c74517d13f33\",\"type\":\"BoxAnnotation\"},\"plot\":{\"id\":\"82159160-4eaf-42ad-b526-7b10eb638267\",\"subtype\":\"Chart\",\"type\":\"Plot\"}},\"id\":\"806a06d5-0e18-4fab-a7fa-60fe60efc890\",\"type\":\"BoxZoomTool\"},{\"attributes\":{\"data_source\":{\"id\":\"3a01e71d-7b20-4c6b-8188-a3a78c06551b\",\"type\":\"ColumnDataSource\"},\"glyph\":{\"id\":\"59fa7275-eca7-4a59-b7a6-0dd5859c1c22\",\"type\":\"Line\"},\"hover_glyph\":null,\"nonselection_glyph\":null,\"selection_glyph\":null},\"id\":\"b776b8a7-27c3-4e92-9b0c-d07b774f7229\",\"type\":\"GlyphRenderer\"},{\"attributes\":{\"callback\":null,\"column_names\":[\"y_values\",\"x_values\"],\"data\":{\"TeamName\":[\"8 + 9 = 11\",\"8 + 9 = 11\",\"8 + 9 = 11\",\"8 + 9 = 11\",\"8 + 9 = 11\",\"8 + 9 = 11\",\"8 + 9 = 11\",\"8 + 9 = 11\",\"8 + 9 = 11\",\"8 + 9 = 11\",\"8 + 9 = 11\",\"8 + 9 = 11\",\"8 + 9 = 11\",\"8 + 9 = 11\",\"8 + 9 = 11\",\"8 + 9 = 11\",\"8 + 9 = 11\",\"8 + 9 = 11\",\"8 + 9 = 11\",\"8 + 9 = 11\",\"8 + 9 = 11\",\"8 + 9 = 11\",\"8 + 9 = 11\",\"8 + 9 = 11\",\"8 + 9 = 11\",\"8 + 9 = 11\",\"8 + 9 = 11\",\"8 + 9 = 11\",\"8 + 9 = 11\",\"8 + 9 = 11\",\"8 + 9 = 11\",\"8 + 9 = 11\",\"8 + 9 = 11\",\"8 + 9 = 11\",\"8 + 9 = 11\",\"8 + 9 = 11\",\"8 + 9 = 11\",\"8 + 9 = 11\",\"8 + 9 = 11\",\"8 + 9 = 11\",\"8 + 9 = 11\",\"8 + 9 = 11\",\"8 + 9 = 11\",\"8 + 9 = 11\",\"8 + 9 = 11\",\"8 + 9 = 11\"],\"chart_index\":[{\"TeamName\":\"8 + 9 = 11\"},{\"TeamName\":\"8 + 9 = 11\"},{\"TeamName\":\"8 + 9 = 11\"},{\"TeamName\":\"8 + 9 = 11\"},{\"TeamName\":\"8 + 9 = 11\"},{\"TeamName\":\"8 + 9 = 11\"},{\"TeamName\":\"8 + 9 = 11\"},{\"TeamName\":\"8 + 9 = 11\"},{\"TeamName\":\"8 + 9 = 11\"},{\"TeamName\":\"8 + 9 = 11\"},{\"TeamName\":\"8 + 9 = 11\"},{\"TeamName\":\"8 + 9 = 11\"},{\"TeamName\":\"8 + 9 = 11\"},{\"TeamName\":\"8 + 9 = 11\"},{\"TeamName\":\"8 + 9 = 11\"},{\"TeamName\":\"8 + 9 = 11\"},{\"TeamName\":\"8 + 9 = 11\"},{\"TeamName\":\"8 + 9 = 11\"},{\"TeamName\":\"8 + 9 = 11\"},{\"TeamName\":\"8 + 9 = 11\"},{\"TeamName\":\"8 + 9 = 11\"},{\"TeamName\":\"8 + 9 = 11\"},{\"TeamName\":\"8 + 9 = 11\"},{\"TeamName\":\"8 + 9 = 11\"},{\"TeamName\":\"8 + 9 = 11\"},{\"TeamName\":\"8 + 9 = 11\"},{\"TeamName\":\"8 + 9 = 11\"},{\"TeamName\":\"8 + 9 = 11\"},{\"TeamName\":\"8 + 9 = 11\"},{\"TeamName\":\"8 + 9 = 11\"},{\"TeamName\":\"8 + 9 = 11\"},{\"TeamName\":\"8 + 9 = 11\"},{\"TeamName\":\"8 + 9 = 11\"},{\"TeamName\":\"8 + 9 = 11\"},{\"TeamName\":\"8 + 9 = 11\"},{\"TeamName\":\"8 + 9 = 11\"},{\"TeamName\":\"8 + 9 = 11\"},{\"TeamName\":\"8 + 9 = 11\"},{\"TeamName\":\"8 + 9 = 11\"},{\"TeamName\":\"8 + 9 = 11\"},{\"TeamName\":\"8 + 9 = 11\"},{\"TeamName\":\"8 + 9 = 11\"},{\"TeamName\":\"8 + 9 = 11\"},{\"TeamName\":\"8 + 9 = 11\"},{\"TeamName\":\"8 + 9 = 11\"},{\"TeamName\":\"8 + 9 = 11\"}],\"x_values\":[1463688800000.0,1463691379000.0,1463737596000.0,1463777163000.0,1463832757000.0,1463892422000.0,1463944767000.0,1463980066000.0,1463981688000.0,1464065834000.0,1464070335000.0,1464095811000.0,1464154488000.0,1464181115000.0,1464181202000.0,1464248645000.0,1464326801000.0,1464556772000.0,1464556872000.0,1464556931000.0,1464593448000.0,1464849960000.0,1464891824000.0,1464966106000.0,1464967326000.0,1465017441000.0,1465024541000.0,1465042284000.0,1465195400000.0,1465385737000.0,1465386025000.0,1466542094000.0,1466542463000.0,1466542750000.0,1466588482000.0,1466617366000.0,1467315882000.0,1467316146000.0,1467318421000.0,1467319145000.0,1467412540000.0,1467443890000.0,1467572422000.0,1467836034000.0,1468219442000.0,1468241469000.0],\"y_values\":[0.9115700000000001,0.9165399999999999,0.9207700000000001,0.9213399999999999,0.92194,0.92251,0.92469,0.92485,0.92605,0.92642,0.92645,0.92665,0.92706,0.92709,0.9273399999999999,0.92748,0.92843,0.9299299999999999,0.92995,0.9301,0.93011,0.9305100000000001,0.93061,0.93081,0.93091,0.9313,0.9313100000000001,0.9325100000000001,0.9328700000000001,0.93294,0.9333899999999999,0.9335200000000001,0.93371,0.93385,0.9340200000000001,0.9369299999999999,0.93955,0.9396200000000001,0.93999,0.9405,0.94065,0.94453,0.947,0.9470299999999999,0.94732,0.94732]}},\"id\":\"972f39a8-64b2-4266-ba35-a477ffbf3f29\",\"type\":\"ColumnDataSource\"},{\"attributes\":{\"months\":[0,6]},\"id\":\"512d67b3-6987-4b85-ad82-50bfe00b74c6\",\"type\":\"MonthsTicker\"},{\"attributes\":{\"base\":24,\"mantissas\":[1,2,4,6,8,12],\"max_interval\":43200000.0,\"min_interval\":3600000.0,\"num_minor_ticks\":0},\"id\":\"83cb0bc5-4767-4e19-ba6c-f22f694c1595\",\"type\":\"AdaptiveTicker\"},{\"attributes\":{\"line_color\":{\"value\":\"#5ab738\"},\"line_width\":{\"value\":2},\"x\":{\"field\":\"x_values\"},\"y\":{\"field\":\"y_values\"}},\"id\":\"7a85f330-9327-4c53-83cb-2e1a4e3f8639\",\"type\":\"Line\"},{\"attributes\":{\"callback\":null,\"column_names\":[\"y_values\",\"x_values\"],\"data\":{\"TeamName\":[\"Igor Pasechnik\",\"Igor Pasechnik\",\"Igor Pasechnik\",\"Igor Pasechnik\",\"Igor Pasechnik\",\"Igor Pasechnik\",\"Igor Pasechnik\",\"Igor Pasechnik\",\"Igor Pasechnik\",\"Igor Pasechnik\",\"Igor Pasechnik\",\"Igor Pasechnik\",\"Igor Pasechnik\",\"Igor Pasechnik\",\"Igor Pasechnik\",\"Igor Pasechnik\",\"Igor Pasechnik\",\"Igor Pasechnik\",\"Igor Pasechnik\",\"Igor Pasechnik\",\"Igor Pasechnik\",\"Igor Pasechnik\",\"Igor Pasechnik\",\"Igor Pasechnik\",\"Igor Pasechnik\",\"Igor Pasechnik\"],\"chart_index\":[{\"TeamName\":\"Igor Pasechnik\"},{\"TeamName\":\"Igor Pasechnik\"},{\"TeamName\":\"Igor Pasechnik\"},{\"TeamName\":\"Igor Pasechnik\"},{\"TeamName\":\"Igor Pasechnik\"},{\"TeamName\":\"Igor Pasechnik\"},{\"TeamName\":\"Igor Pasechnik\"},{\"TeamName\":\"Igor Pasechnik\"},{\"TeamName\":\"Igor Pasechnik\"},{\"TeamName\":\"Igor Pasechnik\"},{\"TeamName\":\"Igor Pasechnik\"},{\"TeamName\":\"Igor Pasechnik\"},{\"TeamName\":\"Igor Pasechnik\"},{\"TeamName\":\"Igor Pasechnik\"},{\"TeamName\":\"Igor Pasechnik\"},{\"TeamName\":\"Igor Pasechnik\"},{\"TeamName\":\"Igor Pasechnik\"},{\"TeamName\":\"Igor Pasechnik\"},{\"TeamName\":\"Igor Pasechnik\"},{\"TeamName\":\"Igor Pasechnik\"},{\"TeamName\":\"Igor Pasechnik\"},{\"TeamName\":\"Igor Pasechnik\"},{\"TeamName\":\"Igor Pasechnik\"},{\"TeamName\":\"Igor Pasechnik\"},{\"TeamName\":\"Igor Pasechnik\"},{\"TeamName\":\"Igor Pasechnik\"}],\"x_values\":[1464810887000.0,1465117416000.0,1465120286000.0,1465125856000.0,1465127760000.0,1465129903000.0,1465189640000.0,1465233466000.0,1465234517000.0,1465235607000.0,1465329886000.0,1465411109000.0,1465416602000.0,1465663018000.0,1465665288000.0,1465748493000.0,1465926317000.0,1465928305000.0,1466016874000.0,1466017713000.0,1466188483000.0,1467222833000.0,1467319045000.0,1467652480000.0,1467747760000.0,1468176358000.0],\"y_values\":[0.9018299999999999,0.90336,0.9045200000000001,0.9049,0.90576,0.9066,0.9079200000000001,0.90817,0.9084700000000001,0.9090799999999999,0.9093,0.9138799999999999,0.9156799999999999,0.9164700000000001,0.91717,0.91779,0.92145,0.92445,0.92489,0.92601,0.9288799999999999,0.9294399999999999,0.93329,0.93599,0.9360299999999999,0.93679]}},\"id\":\"e23cb520-df64-4409-8228-870ca9d3c822\",\"type\":\"ColumnDataSource\"},{\"attributes\":{\"callback\":null,\"end\":0.964156,\"start\":0.8949639999999999},\"id\":\"0891237c-5474-4004-9b61-498855663756\",\"type\":\"Range1d\"},{\"attributes\":{\"data_source\":{\"id\":\"fd6b62b0-ae73-4f89-a739-a8297e2f5a5a\",\"type\":\"ColumnDataSource\"},\"glyph\":{\"id\":\"3e73019b-9978-4380-b4dc-bf00fc3525d6\",\"type\":\"Line\"},\"hover_glyph\":null,\"nonselection_glyph\":null,\"selection_glyph\":null},\"id\":\"4d93d049-7bdb-41a8-93a8-6bca7f8e5df4\",\"type\":\"GlyphRenderer\"},{\"attributes\":{\"line_color\":{\"value\":\"#df5320\"},\"line_width\":{\"value\":2},\"x\":{\"field\":\"x_values\"},\"y\":{\"field\":\"y_values\"}},\"id\":\"261c7f74-17fc-4662-b072-b34eb4aba2c1\",\"type\":\"Line\"},{\"attributes\":{\"data_source\":{\"id\":\"68e9d894-e06f-4f16-aa2c-d5add6ac8d42\",\"type\":\"ColumnDataSource\"},\"glyph\":{\"id\":\"261c7f74-17fc-4662-b072-b34eb4aba2c1\",\"type\":\"Line\"},\"hover_glyph\":null,\"nonselection_glyph\":null,\"selection_glyph\":null},\"id\":\"5b97b142-c842-4f86-821f-a66e36ce2d0d\",\"type\":\"GlyphRenderer\"},{\"attributes\":{\"callback\":null,\"column_names\":[\"y_values\",\"x_values\"],\"data\":{\"TeamName\":[\"TheQuants\",\"TheQuants\",\"TheQuants\",\"TheQuants\",\"TheQuants\",\"TheQuants\",\"TheQuants\",\"TheQuants\",\"TheQuants\",\"TheQuants\",\"TheQuants\",\"TheQuants\",\"TheQuants\",\"TheQuants\",\"TheQuants\",\"TheQuants\",\"TheQuants\",\"TheQuants\",\"TheQuants\",\"TheQuants\",\"TheQuants\",\"TheQuants\",\"TheQuants\",\"TheQuants\",\"TheQuants\",\"TheQuants\",\"TheQuants\",\"TheQuants\",\"TheQuants\",\"TheQuants\",\"TheQuants\",\"TheQuants\",\"TheQuants\",\"TheQuants\",\"TheQuants\",\"TheQuants\",\"TheQuants\",\"TheQuants\",\"TheQuants\"],\"chart_index\":[{\"TeamName\":\"TheQuants\"},{\"TeamName\":\"TheQuants\"},{\"TeamName\":\"TheQuants\"},{\"TeamName\":\"TheQuants\"},{\"TeamName\":\"TheQuants\"},{\"TeamName\":\"TheQuants\"},{\"TeamName\":\"TheQuants\"},{\"TeamName\":\"TheQuants\"},{\"TeamName\":\"TheQuants\"},{\"TeamName\":\"TheQuants\"},{\"TeamName\":\"TheQuants\"},{\"TeamName\":\"TheQuants\"},{\"TeamName\":\"TheQuants\"},{\"TeamName\":\"TheQuants\"},{\"TeamName\":\"TheQuants\"},{\"TeamName\":\"TheQuants\"},{\"TeamName\":\"TheQuants\"},{\"TeamName\":\"TheQuants\"},{\"TeamName\":\"TheQuants\"},{\"TeamName\":\"TheQuants\"},{\"TeamName\":\"TheQuants\"},{\"TeamName\":\"TheQuants\"},{\"TeamName\":\"TheQuants\"},{\"TeamName\":\"TheQuants\"},{\"TeamName\":\"TheQuants\"},{\"TeamName\":\"TheQuants\"},{\"TeamName\":\"TheQuants\"},{\"TeamName\":\"TheQuants\"},{\"TeamName\":\"TheQuants\"},{\"TeamName\":\"TheQuants\"},{\"TeamName\":\"TheQuants\"},{\"TeamName\":\"TheQuants\"},{\"TeamName\":\"TheQuants\"},{\"TeamName\":\"TheQuants\"},{\"TeamName\":\"TheQuants\"},{\"TeamName\":\"TheQuants\"},{\"TeamName\":\"TheQuants\"},{\"TeamName\":\"TheQuants\"},{\"TeamName\":\"TheQuants\"}],\"x_values\":[1463080727000.0,1463081632000.0,1463087033000.0,1463089426000.0,1463153174000.0,1463173174000.0,1463240482000.0,1463299091000.0,1463306992000.0,1463572855000.0,1463982324000.0,1464090972000.0,1464299901000.0,1464619771000.0,1464701350000.0,1464807060000.0,1464893710000.0,1464987944000.0,1464988478000.0,1465032432000.0,1465068400000.0,1465488780000.0,1465740684000.0,1466196608000.0,1466520524000.0,1466628322000.0,1466642966000.0,1466660477000.0,1466697779000.0,1466712385000.0,1467211979000.0,1467328065000.0,1467365269000.0,1467511375000.0,1467703823000.0,1467722525000.0,1467742611000.0,1467749533000.0,1468098680000.0],\"y_values\":[0.9025200000000001,0.90561,0.90917,0.9104200000000001,0.91048,0.91096,0.9111600000000001,0.9137700000000001,0.9220799999999999,0.9248700000000001,0.92742,0.93006,0.9327700000000001,0.93375,0.93458,0.9361299999999999,0.93629,0.93709,0.9384299999999999,0.9387,0.9420799999999999,0.9437200000000001,0.94406,0.9444899999999999,0.9447700000000001,0.9458799999999999,0.94785,0.94785,0.9481200000000001,0.94905,0.9491700000000001,0.9496100000000001,0.94988,0.9502799999999999,0.9514600000000001,0.9516700000000001,0.9526600000000001,0.9531,0.9531700000000001]}},\"id\":\"de67392c-903d-409e-8c0f-82fdf0615f3a\",\"type\":\"ColumnDataSource\"},{\"attributes\":{\"callback\":null,\"column_names\":[\"y_values\",\"x_values\"],\"data\":{\"TeamName\":[\"leventis_vamvakas\",\"leventis_vamvakas\",\"leventis_vamvakas\",\"leventis_vamvakas\",\"leventis_vamvakas\",\"leventis_vamvakas\",\"leventis_vamvakas\",\"leventis_vamvakas\",\"leventis_vamvakas\",\"leventis_vamvakas\",\"leventis_vamvakas\",\"leventis_vamvakas\",\"leventis_vamvakas\",\"leventis_vamvakas\",\"leventis_vamvakas\",\"leventis_vamvakas\",\"leventis_vamvakas\",\"leventis_vamvakas\",\"leventis_vamvakas\",\"leventis_vamvakas\",\"leventis_vamvakas\",\"leventis_vamvakas\",\"leventis_vamvakas\",\"leventis_vamvakas\",\"leventis_vamvakas\",\"leventis_vamvakas\",\"leventis_vamvakas\",\"leventis_vamvakas\",\"leventis_vamvakas\",\"leventis_vamvakas\",\"leventis_vamvakas\"],\"chart_index\":[{\"TeamName\":\"leventis_vamvakas\"},{\"TeamName\":\"leventis_vamvakas\"},{\"TeamName\":\"leventis_vamvakas\"},{\"TeamName\":\"leventis_vamvakas\"},{\"TeamName\":\"leventis_vamvakas\"},{\"TeamName\":\"leventis_vamvakas\"},{\"TeamName\":\"leventis_vamvakas\"},{\"TeamName\":\"leventis_vamvakas\"},{\"TeamName\":\"leventis_vamvakas\"},{\"TeamName\":\"leventis_vamvakas\"},{\"TeamName\":\"leventis_vamvakas\"},{\"TeamName\":\"leventis_vamvakas\"},{\"TeamName\":\"leventis_vamvakas\"},{\"TeamName\":\"leventis_vamvakas\"},{\"TeamName\":\"leventis_vamvakas\"},{\"TeamName\":\"leventis_vamvakas\"},{\"TeamName\":\"leventis_vamvakas\"},{\"TeamName\":\"leventis_vamvakas\"},{\"TeamName\":\"leventis_vamvakas\"},{\"TeamName\":\"leventis_vamvakas\"},{\"TeamName\":\"leventis_vamvakas\"},{\"TeamName\":\"leventis_vamvakas\"},{\"TeamName\":\"leventis_vamvakas\"},{\"TeamName\":\"leventis_vamvakas\"},{\"TeamName\":\"leventis_vamvakas\"},{\"TeamName\":\"leventis_vamvakas\"},{\"TeamName\":\"leventis_vamvakas\"},{\"TeamName\":\"leventis_vamvakas\"},{\"TeamName\":\"leventis_vamvakas\"},{\"TeamName\":\"leventis_vamvakas\"},{\"TeamName\":\"leventis_vamvakas\"}],\"x_values\":[1463982882000.0,1464016539000.0,1464156266000.0,1464248324000.0,1464248423000.0,1464365615000.0,1464367362000.0,1464436685000.0,1464549426000.0,1464630529000.0,1464718014000.0,1464870705000.0,1465750017000.0,1465970553000.0,1465991575000.0,1465991674000.0,1466142810000.0,1466442766000.0,1466442848000.0,1466851864000.0,1466851992000.0,1467265327000.0,1467279374000.0,1467735583000.0,1467735964000.0,1467747514000.0,1467747666000.0,1467790084000.0,1468086407000.0,1468086710000.0,1468236102000.0],\"y_values\":[0.92729,0.9279200000000001,0.92829,0.92884,0.9288799999999999,0.92911,0.92955,0.93,0.93021,0.93021,0.93104,0.93158,0.9319299999999999,0.9331200000000001,0.93324,0.9332600000000001,0.9353799999999999,0.9356399999999999,0.93566,0.93579,0.93579,0.93586,0.9361200000000001,0.9361700000000001,0.9363299999999999,0.93639,0.9364,0.9364,0.93648,0.93648,0.93648]}},\"id\":\"ed24f594-6c31-41b6-96ff-b48bc4dc6943\",\"type\":\"ColumnDataSource\"},{\"attributes\":{\"plot\":{\"id\":\"82159160-4eaf-42ad-b526-7b10eb638267\",\"subtype\":\"Chart\",\"type\":\"Plot\"}},\"id\":\"39960927-3edb-4292-9d48-2f225eac7f62\",\"type\":\"ResetTool\"},{\"attributes\":{\"callback\":null,\"column_names\":[\"y_values\",\"x_values\"],\"data\":{\"TeamName\":[\"ololobhi\",\"ololobhi\",\"ololobhi\",\"ololobhi\",\"ololobhi\",\"ololobhi\",\"ololobhi\",\"ololobhi\",\"ololobhi\",\"ololobhi\",\"ololobhi\",\"ololobhi\",\"ololobhi\",\"ololobhi\",\"ololobhi\",\"ololobhi\",\"ololobhi\",\"ololobhi\",\"ololobhi\",\"ololobhi\",\"ololobhi\",\"ololobhi\",\"ololobhi\",\"ololobhi\",\"ololobhi\",\"ololobhi\",\"ololobhi\",\"ololobhi\",\"ololobhi\",\"ololobhi\",\"ololobhi\",\"ololobhi\",\"ololobhi\",\"ololobhi\",\"ololobhi\",\"ololobhi\",\"ololobhi\",\"ololobhi\",\"ololobhi\",\"ololobhi\",\"ololobhi\",\"ololobhi\",\"ololobhi\"],\"chart_index\":[{\"TeamName\":\"ololobhi\"},{\"TeamName\":\"ololobhi\"},{\"TeamName\":\"ololobhi\"},{\"TeamName\":\"ololobhi\"},{\"TeamName\":\"ololobhi\"},{\"TeamName\":\"ololobhi\"},{\"TeamName\":\"ololobhi\"},{\"TeamName\":\"ololobhi\"},{\"TeamName\":\"ololobhi\"},{\"TeamName\":\"ololobhi\"},{\"TeamName\":\"ololobhi\"},{\"TeamName\":\"ololobhi\"},{\"TeamName\":\"ololobhi\"},{\"TeamName\":\"ololobhi\"},{\"TeamName\":\"ololobhi\"},{\"TeamName\":\"ololobhi\"},{\"TeamName\":\"ololobhi\"},{\"TeamName\":\"ololobhi\"},{\"TeamName\":\"ololobhi\"},{\"TeamName\":\"ololobhi\"},{\"TeamName\":\"ololobhi\"},{\"TeamName\":\"ololobhi\"},{\"TeamName\":\"ololobhi\"},{\"TeamName\":\"ololobhi\"},{\"TeamName\":\"ololobhi\"},{\"TeamName\":\"ololobhi\"},{\"TeamName\":\"ololobhi\"},{\"TeamName\":\"ololobhi\"},{\"TeamName\":\"ololobhi\"},{\"TeamName\":\"ololobhi\"},{\"TeamName\":\"ololobhi\"},{\"TeamName\":\"ololobhi\"},{\"TeamName\":\"ololobhi\"},{\"TeamName\":\"ololobhi\"},{\"TeamName\":\"ololobhi\"},{\"TeamName\":\"ololobhi\"},{\"TeamName\":\"ololobhi\"},{\"TeamName\":\"ololobhi\"},{\"TeamName\":\"ololobhi\"},{\"TeamName\":\"ololobhi\"},{\"TeamName\":\"ololobhi\"},{\"TeamName\":\"ololobhi\"},{\"TeamName\":\"ololobhi\"}],\"x_values\":[1463933066000.0,1463933946000.0,1463949252000.0,1463985356000.0,1463985501000.0,1463995324000.0,1463995617000.0,1464594918000.0,1464595134000.0,1464595232000.0,1464610081000.0,1464610558000.0,1464689795000.0,1464706505000.0,1465376951000.0,1465397334000.0,1465457533000.0,1465457659000.0,1466602124000.0,1466669858000.0,1466694686000.0,1466741580000.0,1466883446000.0,1466970669000.0,1466970851000.0,1466971115000.0,1467027885000.0,1467028431000.0,1467028729000.0,1467030403000.0,1467100690000.0,1467142809000.0,1467216144000.0,1467280639000.0,1467345140000.0,1467407658000.0,1467452480000.0,1467478335000.0,1467613973000.0,1467624982000.0,1467717029000.0,1468268226000.0,1468275481000.0],\"y_values\":[0.91253,0.91756,0.918,0.92489,0.9254,0.92551,0.9258299999999999,0.92971,0.93037,0.93042,0.9320700000000001,0.93243,0.93327,0.93416,0.9363,0.93637,0.9365,0.9369200000000001,0.9379,0.93853,0.93875,0.9389299999999999,0.93948,0.9396,0.9396,0.93968,0.93975,0.9399299999999999,0.94105,0.94147,0.9419299999999999,0.94279,0.94331,0.9436700000000001,0.94385,0.9440799999999999,0.94437,0.9455100000000001,0.94557,0.9456600000000001,0.9457700000000001,0.94621,0.9462700000000001]}},\"id\":\"43408e0b-bfd1-414f-949c-755350b6c494\",\"type\":\"ColumnDataSource\"},{\"attributes\":{\"months\":[0,2,4,6,8,10]},\"id\":\"ea21b224-7143-45f0-90ff-e8ba5cdf766a\",\"type\":\"MonthsTicker\"},{\"attributes\":{\"callback\":null,\"column_names\":[\"y_values\",\"x_values\"],\"data\":{\"TeamName\":[\"theFuture\",\"theFuture\",\"theFuture\",\"theFuture\",\"theFuture\",\"theFuture\",\"theFuture\",\"theFuture\",\"theFuture\",\"theFuture\",\"theFuture\",\"theFuture\",\"theFuture\",\"theFuture\",\"theFuture\",\"theFuture\",\"theFuture\",\"theFuture\",\"theFuture\",\"theFuture\",\"theFuture\",\"theFuture\",\"theFuture\"],\"chart_index\":[{\"TeamName\":\"theFuture\"},{\"TeamName\":\"theFuture\"},{\"TeamName\":\"theFuture\"},{\"TeamName\":\"theFuture\"},{\"TeamName\":\"theFuture\"},{\"TeamName\":\"theFuture\"},{\"TeamName\":\"theFuture\"},{\"TeamName\":\"theFuture\"},{\"TeamName\":\"theFuture\"},{\"TeamName\":\"theFuture\"},{\"TeamName\":\"theFuture\"},{\"TeamName\":\"theFuture\"},{\"TeamName\":\"theFuture\"},{\"TeamName\":\"theFuture\"},{\"TeamName\":\"theFuture\"},{\"TeamName\":\"theFuture\"},{\"TeamName\":\"theFuture\"},{\"TeamName\":\"theFuture\"},{\"TeamName\":\"theFuture\"},{\"TeamName\":\"theFuture\"},{\"TeamName\":\"theFuture\"},{\"TeamName\":\"theFuture\"},{\"TeamName\":\"theFuture\"}],\"x_values\":[1465189248000.0,1465509293000.0,1465678330000.0,1465679071000.0,1465679750000.0,1465838363000.0,1465906204000.0,1466309489000.0,1466330618000.0,1466351409000.0,1466380906000.0,1466381029000.0,1466468023000.0,1466774062000.0,1466781533000.0,1467121347000.0,1467192613000.0,1467383269000.0,1467396290000.0,1468173301000.0,1468214566000.0,1468276392000.0,1468277198000.0],\"y_values\":[0.91495,0.91548,0.9175200000000001,0.91869,0.91911,0.9244700000000001,0.93204,0.93216,0.9326700000000001,0.9336700000000001,0.93486,0.93532,0.9353799999999999,0.93561,0.93584,0.9358799999999999,0.93635,0.9375100000000001,0.9376,0.93847,0.9389,0.9390700000000001,0.9390700000000001]}},\"id\":\"0bf08650-7302-42b5-9cf0-febb6f222fa3\",\"type\":\"ColumnDataSource\"},{\"attributes\":{\"plot\":{\"id\":\"82159160-4eaf-42ad-b526-7b10eb638267\",\"subtype\":\"Chart\",\"type\":\"Plot\"},\"ticker\":{\"id\":\"945faf35-e287-4c2b-8c4e-97dabf77c866\",\"type\":\"DatetimeTicker\"}},\"id\":\"7ed89b0e-58ba-44aa-bd8b-b22178b31e35\",\"type\":\"Grid\"},{\"attributes\":{\"callback\":null,\"column_names\":[\"y_values\",\"x_values\"],\"data\":{\"TeamName\":[\"ADAD\",\"ADAD\",\"ADAD\",\"ADAD\",\"ADAD\",\"ADAD\",\"ADAD\",\"ADAD\",\"ADAD\",\"ADAD\",\"ADAD\",\"ADAD\",\"ADAD\",\"ADAD\",\"ADAD\",\"ADAD\",\"ADAD\",\"ADAD\",\"ADAD\",\"ADAD\",\"ADAD\",\"ADAD\",\"ADAD\",\"ADAD\",\"ADAD\",\"ADAD\",\"ADAD\",\"ADAD\",\"ADAD\",\"ADAD\",\"ADAD\",\"ADAD\",\"ADAD\",\"ADAD\",\"ADAD\",\"ADAD\",\"ADAD\",\"ADAD\",\"ADAD\",\"ADAD\",\"ADAD\",\"ADAD\",\"ADAD\",\"ADAD\",\"ADAD\"],\"chart_index\":[{\"TeamName\":\"ADAD\"},{\"TeamName\":\"ADAD\"},{\"TeamName\":\"ADAD\"},{\"TeamName\":\"ADAD\"},{\"TeamName\":\"ADAD\"},{\"TeamName\":\"ADAD\"},{\"TeamName\":\"ADAD\"},{\"TeamName\":\"ADAD\"},{\"TeamName\":\"ADAD\"},{\"TeamName\":\"ADAD\"},{\"TeamName\":\"ADAD\"},{\"TeamName\":\"ADAD\"},{\"TeamName\":\"ADAD\"},{\"TeamName\":\"ADAD\"},{\"TeamName\":\"ADAD\"},{\"TeamName\":\"ADAD\"},{\"TeamName\":\"ADAD\"},{\"TeamName\":\"ADAD\"},{\"TeamName\":\"ADAD\"},{\"TeamName\":\"ADAD\"},{\"TeamName\":\"ADAD\"},{\"TeamName\":\"ADAD\"},{\"TeamName\":\"ADAD\"},{\"TeamName\":\"ADAD\"},{\"TeamName\":\"ADAD\"},{\"TeamName\":\"ADAD\"},{\"TeamName\":\"ADAD\"},{\"TeamName\":\"ADAD\"},{\"TeamName\":\"ADAD\"},{\"TeamName\":\"ADAD\"},{\"TeamName\":\"ADAD\"},{\"TeamName\":\"ADAD\"},{\"TeamName\":\"ADAD\"},{\"TeamName\":\"ADAD\"},{\"TeamName\":\"ADAD\"},{\"TeamName\":\"ADAD\"},{\"TeamName\":\"ADAD\"},{\"TeamName\":\"ADAD\"},{\"TeamName\":\"ADAD\"},{\"TeamName\":\"ADAD\"},{\"TeamName\":\"ADAD\"},{\"TeamName\":\"ADAD\"},{\"TeamName\":\"ADAD\"},{\"TeamName\":\"ADAD\"},{\"TeamName\":\"ADAD\"}],\"x_values\":[1463523121000.0,1463735562000.0,1463789658000.0,1463810170000.0,1463862068000.0,1463956231000.0,1464193322000.0,1464193703000.0,1464194237000.0,1464194401000.0,1464338490000.0,1464530875000.0,1464531628000.0,1464696935000.0,1464697303000.0,1464812596000.0,1465084281000.0,1465129217000.0,1465130030000.0,1465393353000.0,1465483055000.0,1465982897000.0,1466288236000.0,1466451778000.0,1466512698000.0,1466528006000.0,1466532154000.0,1466541015000.0,1466626836000.0,1467046852000.0,1467047608000.0,1467145672000.0,1467230702000.0,1467585146000.0,1467730386000.0,1467731912000.0,1467831960000.0,1467912679000.0,1468001320000.0,1468008900000.0,1468193546000.0,1468194777000.0,1468280195000.0,1468280629000.0,1468281474000.0],\"y_values\":[0.90505,0.9066700000000001,0.9082899999999999,0.9225399999999999,0.92545,0.9260200000000001,0.92795,0.9313100000000001,0.9314,0.9314399999999999,0.93176,0.9328299999999999,0.9342799999999999,0.9364399999999999,0.93727,0.93737,0.9403100000000001,0.9419700000000001,0.9419799999999999,0.94247,0.9424899999999999,0.94291,0.94326,0.94344,0.9435899999999999,0.94383,0.9438799999999999,0.94447,0.9445,0.9451799999999999,0.9456899999999999,0.94571,0.9459200000000001,0.9469799999999999,0.94729,0.94781,0.94824,0.9485,0.94915,0.94919,0.94937,0.9495299999999999,0.9496,0.94991,0.94991]}},\"id\":\"fffc8fc4-6e26-4aa2-ab06-be54b0d901ef\",\"type\":\"ColumnDataSource\"},{\"attributes\":{\"line_color\":{\"value\":\"#407ee7\"},\"line_width\":{\"value\":2},\"x\":{\"field\":\"x_values\"},\"y\":{\"field\":\"y_values\"}},\"id\":\"3e73019b-9978-4380-b4dc-bf00fc3525d6\",\"type\":\"Line\"},{\"attributes\":{},\"id\":\"e5308b9d-d233-4865-b50b-a05496072d12\",\"type\":\"ToolEvents\"},{\"attributes\":{\"callback\":null,\"column_names\":[\"y_values\",\"x_values\"],\"data\":{\"TeamName\":[\"Native Russian Speakers :P\",\"Native Russian Speakers :P\",\"Native Russian Speakers :P\",\"Native Russian Speakers :P\",\"Native Russian Speakers :P\",\"Native Russian Speakers :P\",\"Native Russian Speakers :P\",\"Native Russian Speakers :P\",\"Native Russian Speakers :P\",\"Native Russian Speakers :P\",\"Native Russian Speakers :P\",\"Native Russian Speakers :P\",\"Native Russian Speakers :P\",\"Native Russian Speakers :P\",\"Native Russian Speakers :P\",\"Native Russian Speakers :P\",\"Native Russian Speakers :P\",\"Native Russian Speakers :P\",\"Native Russian Speakers :P\"],\"chart_index\":[{\"TeamName\":\"Native Russian Speakers :P\"},{\"TeamName\":\"Native Russian Speakers :P\"},{\"TeamName\":\"Native Russian Speakers :P\"},{\"TeamName\":\"Native Russian Speakers :P\"},{\"TeamName\":\"Native Russian Speakers :P\"},{\"TeamName\":\"Native Russian Speakers :P\"},{\"TeamName\":\"Native Russian Speakers :P\"},{\"TeamName\":\"Native Russian Speakers :P\"},{\"TeamName\":\"Native Russian Speakers :P\"},{\"TeamName\":\"Native Russian Speakers :P\"},{\"TeamName\":\"Native Russian Speakers :P\"},{\"TeamName\":\"Native Russian Speakers :P\"},{\"TeamName\":\"Native Russian Speakers :P\"},{\"TeamName\":\"Native Russian Speakers :P\"},{\"TeamName\":\"Native Russian Speakers :P\"},{\"TeamName\":\"Native Russian Speakers :P\"},{\"TeamName\":\"Native Russian Speakers :P\"},{\"TeamName\":\"Native Russian Speakers :P\"},{\"TeamName\":\"Native Russian Speakers :P\"}],\"x_values\":[1467292691000.0,1467323299000.0,1467328200000.0,1467370371000.0,1467415174000.0,1467427088000.0,1467431506000.0,1467467691000.0,1467738642000.0,1467760698000.0,1467804822000.0,1467910267000.0,1467996909000.0,1468048300000.0,1468077495000.0,1468100464000.0,1468203453000.0,1468272739000.0,1468316307000.0],\"y_values\":[0.92504,0.9264700000000001,0.92717,0.9293,0.9308799999999999,0.93255,0.9329200000000001,0.9361200000000001,0.93679,0.9406,0.94105,0.9411799999999999,0.94153,0.9421799999999999,0.9438200000000001,0.9442200000000001,0.9446399999999999,0.9449200000000001,0.9511799999999999]}},\"id\":\"615f208c-de9f-4a00-a338-a2f0429195bc\",\"type\":\"ColumnDataSource\"},{\"attributes\":{\"base\":60,\"mantissas\":[1,2,5,10,15,20,30],\"max_interval\":1800000.0,\"min_interval\":1000.0,\"num_minor_ticks\":0},\"id\":\"4d76edf7-f85a-49b4-aa9d-98b71627996c\",\"type\":\"AdaptiveTicker\"},{\"attributes\":{\"data_source\":{\"id\":\"08231869-4d45-441a-878a-77980279be06\",\"type\":\"ColumnDataSource\"},\"glyph\":{\"id\":\"29ae2ca3-b910-411e-bc99-e9b10f43e3df\",\"type\":\"Line\"},\"hover_glyph\":null,\"nonselection_glyph\":null,\"selection_glyph\":null},\"id\":\"f728976b-930f-46fc-98cb-91a97bb0ae87\",\"type\":\"GlyphRenderer\"},{\"attributes\":{\"data_source\":{\"id\":\"2da8f9e7-e2d7-42df-bb6d-88891fde29c6\",\"type\":\"ColumnDataSource\"},\"glyph\":{\"id\":\"e420002e-8c73-4b24-b8e1-004d9772258f\",\"type\":\"Line\"},\"hover_glyph\":null,\"nonselection_glyph\":null,\"selection_glyph\":null},\"id\":\"63755b6f-b9ea-40ff-91d7-b485d318c0e5\",\"type\":\"GlyphRenderer\"},{\"attributes\":{\"data_source\":{\"id\":\"afabe5b0-bd72-4f0a-8f36-68c3e99074a0\",\"type\":\"ColumnDataSource\"},\"glyph\":{\"id\":\"6e0c7ed8-36fc-4fa2-9951-41b5d3b17a07\",\"type\":\"Line\"},\"hover_glyph\":null,\"nonselection_glyph\":null,\"selection_glyph\":null},\"id\":\"3e092f37-f402-4101-9d26-6104c257dd53\",\"type\":\"GlyphRenderer\"},{\"attributes\":{\"callback\":null,\"column_names\":[\"y_values\",\"x_values\"],\"data\":{\"TeamName\":[\"frist\",\"frist\",\"frist\",\"frist\",\"frist\",\"frist\",\"frist\",\"frist\",\"frist\",\"frist\",\"frist\",\"frist\",\"frist\",\"frist\",\"frist\",\"frist\",\"frist\",\"frist\",\"frist\",\"frist\",\"frist\",\"frist\",\"frist\",\"frist\"],\"chart_index\":[{\"TeamName\":\"frist\"},{\"TeamName\":\"frist\"},{\"TeamName\":\"frist\"},{\"TeamName\":\"frist\"},{\"TeamName\":\"frist\"},{\"TeamName\":\"frist\"},{\"TeamName\":\"frist\"},{\"TeamName\":\"frist\"},{\"TeamName\":\"frist\"},{\"TeamName\":\"frist\"},{\"TeamName\":\"frist\"},{\"TeamName\":\"frist\"},{\"TeamName\":\"frist\"},{\"TeamName\":\"frist\"},{\"TeamName\":\"frist\"},{\"TeamName\":\"frist\"},{\"TeamName\":\"frist\"},{\"TeamName\":\"frist\"},{\"TeamName\":\"frist\"},{\"TeamName\":\"frist\"},{\"TeamName\":\"frist\"},{\"TeamName\":\"frist\"},{\"TeamName\":\"frist\"},{\"TeamName\":\"frist\"}],\"x_values\":[1465841181000.0,1465890627000.0,1465997984000.0,1466017698000.0,1466062068000.0,1466951991000.0,1466970803000.0,1467043288000.0,1467315397000.0,1467361369000.0,1467382777000.0,1467404684000.0,1467445804000.0,1467457778000.0,1467542691000.0,1467571239000.0,1467746741000.0,1467775813000.0,1467830586000.0,1468138322000.0,1468140316000.0,1468172043000.0,1468175402000.0,1468268994000.0],\"y_values\":[0.9128799999999999,0.91317,0.9247799999999999,0.9261,0.9287,0.93042,0.93061,0.93216,0.9339,0.9339299999999999,0.9339299999999999,0.93416,0.9356899999999999,0.9363100000000001,0.93696,0.93699,0.9370799999999999,0.93742,0.9381200000000001,0.94129,0.94375,0.9437700000000001,0.94404,0.9445600000000001]}},\"id\":\"8783c399-83fd-468b-b9d8-586e090b25f8\",\"type\":\"ColumnDataSource\"},{\"attributes\":{\"line_color\":{\"value\":\"#df5320\"},\"line_width\":{\"value\":2},\"x\":{\"field\":\"x_values\"},\"y\":{\"field\":\"y_values\"}},\"id\":\"75bdc911-adaa-49d6-b064-709c99d1b427\",\"type\":\"Line\"},{\"attributes\":{\"line_color\":{\"value\":\"#5ab738\"},\"line_width\":{\"value\":2},\"x\":{\"field\":\"x_values\"},\"y\":{\"field\":\"y_values\"}},\"id\":\"977c7b55-dbc3-4381-9033-5b28085c9793\",\"type\":\"Line\"},{\"attributes\":{\"line_color\":{\"value\":\"#c33ff3\"},\"line_width\":{\"value\":2},\"x\":{\"field\":\"x_values\"},\"y\":{\"field\":\"y_values\"}},\"id\":\"6e0c7ed8-36fc-4fa2-9951-41b5d3b17a07\",\"type\":\"Line\"},{\"attributes\":{\"callback\":null,\"column_names\":[\"y_values\",\"x_values\"],\"data\":{\"TeamName\":[\"Sameh & Javier\",\"Sameh & Javier\",\"Sameh & Javier\",\"Sameh & Javier\",\"Sameh & Javier\",\"Sameh & Javier\",\"Sameh & Javier\",\"Sameh & Javier\",\"Sameh & Javier\",\"Sameh & Javier\",\"Sameh & Javier\",\"Sameh & Javier\",\"Sameh & Javier\",\"Sameh & Javier\",\"Sameh & Javier\",\"Sameh & Javier\",\"Sameh & Javier\"],\"chart_index\":[{\"TeamName\":\"Sameh & Javier\"},{\"TeamName\":\"Sameh & Javier\"},{\"TeamName\":\"Sameh & Javier\"},{\"TeamName\":\"Sameh & Javier\"},{\"TeamName\":\"Sameh & Javier\"},{\"TeamName\":\"Sameh & Javier\"},{\"TeamName\":\"Sameh & Javier\"},{\"TeamName\":\"Sameh & Javier\"},{\"TeamName\":\"Sameh & Javier\"},{\"TeamName\":\"Sameh & Javier\"},{\"TeamName\":\"Sameh & Javier\"},{\"TeamName\":\"Sameh & Javier\"},{\"TeamName\":\"Sameh & Javier\"},{\"TeamName\":\"Sameh & Javier\"},{\"TeamName\":\"Sameh & Javier\"},{\"TeamName\":\"Sameh & Javier\"},{\"TeamName\":\"Sameh & Javier\"}],\"x_values\":[1465748230000.0,1465754592000.0,1465757623000.0,1465763657000.0,1465832570000.0,1466239825000.0,1466245632000.0,1466434205000.0,1466463251000.0,1466546305000.0,1466595593000.0,1466711970000.0,1466789020000.0,1467468184000.0,1468312385000.0,1468312598000.0,1468314705000.0],\"y_values\":[0.9068,0.9122,0.91307,0.91402,0.91461,0.9168,0.9187200000000001,0.92055,0.9207799999999999,0.92164,0.9227299999999999,0.92925,0.9293399999999999,0.93065,0.93561,0.9360200000000001,0.9360299999999999]}},\"id\":\"2da8f9e7-e2d7-42df-bb6d-88891fde29c6\",\"type\":\"ColumnDataSource\"},{\"attributes\":{\"callback\":null,\"column_names\":[\"y_values\",\"x_values\"],\"data\":{\"TeamName\":[\"Li-Der\",\"Li-Der\",\"Li-Der\",\"Li-Der\",\"Li-Der\",\"Li-Der\",\"Li-Der\",\"Li-Der\",\"Li-Der\",\"Li-Der\",\"Li-Der\",\"Li-Der\",\"Li-Der\",\"Li-Der\",\"Li-Der\",\"Li-Der\",\"Li-Der\"],\"chart_index\":[{\"TeamName\":\"Li-Der\"},{\"TeamName\":\"Li-Der\"},{\"TeamName\":\"Li-Der\"},{\"TeamName\":\"Li-Der\"},{\"TeamName\":\"Li-Der\"},{\"TeamName\":\"Li-Der\"},{\"TeamName\":\"Li-Der\"},{\"TeamName\":\"Li-Der\"},{\"TeamName\":\"Li-Der\"},{\"TeamName\":\"Li-Der\"},{\"TeamName\":\"Li-Der\"},{\"TeamName\":\"Li-Der\"},{\"TeamName\":\"Li-Der\"},{\"TeamName\":\"Li-Der\"},{\"TeamName\":\"Li-Der\"},{\"TeamName\":\"Li-Der\"},{\"TeamName\":\"Li-Der\"}],\"x_values\":[1465495133000.0,1465506020000.0,1465543079000.0,1465562143000.0,1465581043000.0,1465818655000.0,1465823257000.0,1465826985000.0,1465910101000.0,1465912554000.0,1465944610000.0,1466182873000.0,1466302717000.0,1466420029000.0,1466497819000.0,1466550948000.0,1466704163000.0],\"y_values\":[0.9158200000000001,0.9197700000000001,0.9237,0.9296700000000001,0.92971,0.93071,0.9328700000000001,0.9329799999999999,0.93327,0.93348,0.93404,0.93837,0.93979,0.94219,0.9425399999999999,0.9426899999999999,0.9430200000000001]}},\"id\":\"3a01e71d-7b20-4c6b-8188-a3a78c06551b\",\"type\":\"ColumnDataSource\"},{\"attributes\":{\"data_source\":{\"id\":\"615f208c-de9f-4a00-a338-a2f0429195bc\",\"type\":\"ColumnDataSource\"},\"glyph\":{\"id\":\"ce211dc2-0343-491b-ba36-c88a834683b6\",\"type\":\"Line\"},\"hover_glyph\":null,\"nonselection_glyph\":null,\"selection_glyph\":null},\"id\":\"fd120d88-b687-4816-bbd2-c3d248d07178\",\"type\":\"GlyphRenderer\"},{\"attributes\":{\"axis_label\":\"Score\",\"formatter\":{\"id\":\"9142a22e-33c1-4625-b0d3-877fdb6094a2\",\"type\":\"BasicTickFormatter\"},\"plot\":{\"id\":\"82159160-4eaf-42ad-b526-7b10eb638267\",\"subtype\":\"Chart\",\"type\":\"Plot\"},\"ticker\":{\"id\":\"f7b2d7c3-e437-4ba9-90a1-6f0b6bdda0bd\",\"type\":\"BasicTicker\"}},\"id\":\"64596d8a-893d-4743-8c5b-21b40702370e\",\"type\":\"LinearAxis\"},{\"attributes\":{\"line_color\":{\"value\":\"#407ee7\"},\"line_width\":{\"value\":2},\"x\":{\"field\":\"x_values\"},\"y\":{\"field\":\"y_values\"}},\"id\":\"e97772fc-954e-4e6d-a552-249addcc35a2\",\"type\":\"Line\"},{\"attributes\":{\"data_source\":{\"id\":\"8783c399-83fd-468b-b9d8-586e090b25f8\",\"type\":\"ColumnDataSource\"},\"glyph\":{\"id\":\"aa309549-217b-414c-9d99-f2a972878e99\",\"type\":\"Line\"},\"hover_glyph\":null,\"nonselection_glyph\":null,\"selection_glyph\":null},\"id\":\"65ddee88-edfa-447d-9b96-a90f87a7d21b\",\"type\":\"GlyphRenderer\"},{\"attributes\":{\"plot\":{\"id\":\"82159160-4eaf-42ad-b526-7b10eb638267\",\"subtype\":\"Chart\",\"type\":\"Plot\"}},\"id\":\"8d466fab-81d3-480d-9d1c-9db843fc6b4d\",\"type\":\"HelpTool\"},{\"attributes\":{\"plot\":null,\"text\":null},\"id\":\"7b83a294-cdd3-4fbc-a2fc-6d59758e1ec2\",\"type\":\"Title\"},{\"attributes\":{\"callback\":null,\"column_names\":[\"y_values\",\"x_values\"],\"data\":{\"TeamName\":[\"amsqr_run2\",\"amsqr_run2\",\"amsqr_run2\",\"amsqr_run2\",\"amsqr_run2\",\"amsqr_run2\",\"amsqr_run2\",\"amsqr_run2\",\"amsqr_run2\",\"amsqr_run2\",\"amsqr_run2\",\"amsqr_run2\",\"amsqr_run2\",\"amsqr_run2\",\"amsqr_run2\",\"amsqr_run2\",\"amsqr_run2\",\"amsqr_run2\",\"amsqr_run2\",\"amsqr_run2\",\"amsqr_run2\",\"amsqr_run2\",\"amsqr_run2\",\"amsqr_run2\",\"amsqr_run2\",\"amsqr_run2\",\"amsqr_run2\",\"amsqr_run2\",\"amsqr_run2\",\"amsqr_run2\",\"amsqr_run2\",\"amsqr_run2\"],\"chart_index\":[{\"TeamName\":\"amsqr_run2\"},{\"TeamName\":\"amsqr_run2\"},{\"TeamName\":\"amsqr_run2\"},{\"TeamName\":\"amsqr_run2\"},{\"TeamName\":\"amsqr_run2\"},{\"TeamName\":\"amsqr_run2\"},{\"TeamName\":\"amsqr_run2\"},{\"TeamName\":\"amsqr_run2\"},{\"TeamName\":\"amsqr_run2\"},{\"TeamName\":\"amsqr_run2\"},{\"TeamName\":\"amsqr_run2\"},{\"TeamName\":\"amsqr_run2\"},{\"TeamName\":\"amsqr_run2\"},{\"TeamName\":\"amsqr_run2\"},{\"TeamName\":\"amsqr_run2\"},{\"TeamName\":\"amsqr_run2\"},{\"TeamName\":\"amsqr_run2\"},{\"TeamName\":\"amsqr_run2\"},{\"TeamName\":\"amsqr_run2\"},{\"TeamName\":\"amsqr_run2\"},{\"TeamName\":\"amsqr_run2\"},{\"TeamName\":\"amsqr_run2\"},{\"TeamName\":\"amsqr_run2\"},{\"TeamName\":\"amsqr_run2\"},{\"TeamName\":\"amsqr_run2\"},{\"TeamName\":\"amsqr_run2\"},{\"TeamName\":\"amsqr_run2\"},{\"TeamName\":\"amsqr_run2\"},{\"TeamName\":\"amsqr_run2\"},{\"TeamName\":\"amsqr_run2\"},{\"TeamName\":\"amsqr_run2\"},{\"TeamName\":\"amsqr_run2\"}],\"x_values\":[1464010931000.0,1464014770000.0,1464176274000.0,1464251720000.0,1464283486000.0,1464584700000.0,1464586329000.0,1464619671000.0,1464687216000.0,1464791525000.0,1464792251000.0,1465170672000.0,1465274411000.0,1465328141000.0,1465408395000.0,1465804947000.0,1466025661000.0,1466026107000.0,1466058772000.0,1466155013000.0,1466155177000.0,1466277086000.0,1466782149000.0,1466964554000.0,1466965312000.0,1467099959000.0,1467271702000.0,1467976862000.0,1468178467000.0,1468227088000.0,1468228186000.0,1468236403000.0],\"y_values\":[0.90115,0.90276,0.90479,0.90565,0.90909,0.9111100000000001,0.91294,0.91304,0.9140799999999999,0.9153600000000001,0.9174899999999999,0.92095,0.92351,0.92676,0.92935,0.9319700000000001,0.93204,0.93237,0.9328299999999999,0.9337700000000001,0.93452,0.9347700000000001,0.93605,0.93871,0.93879,0.9393100000000001,0.9395899999999999,0.93975,0.9399799999999999,0.94035,0.94096,0.9410700000000001]}},\"id\":\"d33ccd24-867a-4471-9320-b181b50a2fae\",\"type\":\"ColumnDataSource\"},{\"attributes\":{\"days\":[1,2,3,4,5,6,7,8,9,10,11,12,13,14,15,16,17,18,19,20,21,22,23,24,25,26,27,28,29,30,31]},\"id\":\"dc6a1986-d488-4129-9315-55c3558860f4\",\"type\":\"DaysTicker\"},{\"attributes\":{\"data_source\":{\"id\":\"d33ccd24-867a-4471-9320-b181b50a2fae\",\"type\":\"ColumnDataSource\"},\"glyph\":{\"id\":\"b1a2e663-287c-4e46-a997-ee7ecf9d5a62\",\"type\":\"Line\"},\"hover_glyph\":null,\"nonselection_glyph\":null,\"selection_glyph\":null},\"id\":\"c63de31e-7dca-4231-b568-ef7f01bef875\",\"type\":\"GlyphRenderer\"},{\"attributes\":{\"line_color\":{\"value\":\"#f22c40\"},\"line_width\":{\"value\":2},\"x\":{\"field\":\"x_values\"},\"y\":{\"field\":\"y_values\"}},\"id\":\"b1a2e663-287c-4e46-a997-ee7ecf9d5a62\",\"type\":\"Line\"},{\"attributes\":{\"line_color\":{\"value\":\"#00ad9c\"},\"line_width\":{\"value\":2},\"x\":{\"field\":\"x_values\"},\"y\":{\"field\":\"y_values\"}},\"id\":\"495385c6-b219-4ff0-bc08-11278ca841ff\",\"type\":\"Line\"},{\"attributes\":{\"callback\":null,\"end\":1468316307000.0,\"start\":1463080727000.0},\"id\":\"246e1146-1933-44d0-9267-b4cc2c95f730\",\"type\":\"Range1d\"},{\"attributes\":{\"data_source\":{\"id\":\"0bf08650-7302-42b5-9cf0-febb6f222fa3\",\"type\":\"ColumnDataSource\"},\"glyph\":{\"id\":\"b36f2b8b-e2f7-4434-bd8f-180cc806ddd9\",\"type\":\"Line\"},\"hover_glyph\":null,\"nonselection_glyph\":null,\"selection_glyph\":null},\"id\":\"50aeb784-c7b9-44f1-a330-f4a8a356b1b3\",\"type\":\"GlyphRenderer\"},{\"attributes\":{},\"id\":\"8888c0fb-d3d4-4a0f-a402-97a9af460346\",\"type\":\"DatetimeTickFormatter\"},{\"attributes\":{\"line_color\":{\"value\":\"#f22c40\"},\"line_width\":{\"value\":2},\"x\":{\"field\":\"x_values\"},\"y\":{\"field\":\"y_values\"}},\"id\":\"ce211dc2-0343-491b-ba36-c88a834683b6\",\"type\":\"Line\"},{\"attributes\":{\"axis_label\":\"SubmissionDate\",\"formatter\":{\"id\":\"8888c0fb-d3d4-4a0f-a402-97a9af460346\",\"type\":\"DatetimeTickFormatter\"},\"plot\":{\"id\":\"82159160-4eaf-42ad-b526-7b10eb638267\",\"subtype\":\"Chart\",\"type\":\"Plot\"},\"ticker\":{\"id\":\"945faf35-e287-4c2b-8c4e-97dabf77c866\",\"type\":\"DatetimeTicker\"}},\"id\":\"90654ae8-82b8-4cbf-a5c4-b7797500ed69\",\"type\":\"DatetimeAxis\"},{\"attributes\":{\"line_color\":{\"value\":\"#f22c40\"},\"line_width\":{\"value\":2},\"x\":{\"field\":\"x_values\"},\"y\":{\"field\":\"y_values\"}},\"id\":\"891e371a-bd84-4d8c-9325-88fa43e03e2f\",\"type\":\"Line\"},{\"attributes\":{\"data_source\":{\"id\":\"e23cb520-df64-4409-8228-870ca9d3c822\",\"type\":\"ColumnDataSource\"},\"glyph\":{\"id\":\"495385c6-b219-4ff0-bc08-11278ca841ff\",\"type\":\"Line\"},\"hover_glyph\":null,\"nonselection_glyph\":null,\"selection_glyph\":null},\"id\":\"49afd872-9c4e-47c9-890b-376e5f1cfb75\",\"type\":\"GlyphRenderer\"},{\"attributes\":{\"callback\":null,\"column_names\":[\"y_values\",\"x_values\"],\"data\":{\"TeamName\":[\"DataMinders\",\"DataMinders\",\"DataMinders\",\"DataMinders\",\"DataMinders\",\"DataMinders\",\"DataMinders\",\"DataMinders\",\"DataMinders\",\"DataMinders\",\"DataMinders\",\"DataMinders\",\"DataMinders\",\"DataMinders\",\"DataMinders\",\"DataMinders\",\"DataMinders\",\"DataMinders\",\"DataMinders\",\"DataMinders\",\"DataMinders\",\"DataMinders\",\"DataMinders\",\"DataMinders\",\"DataMinders\",\"DataMinders\",\"DataMinders\",\"DataMinders\",\"DataMinders\",\"DataMinders\",\"DataMinders\",\"DataMinders\",\"DataMinders\",\"DataMinders\"],\"chart_index\":[{\"TeamName\":\"DataMinders\"},{\"TeamName\":\"DataMinders\"},{\"TeamName\":\"DataMinders\"},{\"TeamName\":\"DataMinders\"},{\"TeamName\":\"DataMinders\"},{\"TeamName\":\"DataMinders\"},{\"TeamName\":\"DataMinders\"},{\"TeamName\":\"DataMinders\"},{\"TeamName\":\"DataMinders\"},{\"TeamName\":\"DataMinders\"},{\"TeamName\":\"DataMinders\"},{\"TeamName\":\"DataMinders\"},{\"TeamName\":\"DataMinders\"},{\"TeamName\":\"DataMinders\"},{\"TeamName\":\"DataMinders\"},{\"TeamName\":\"DataMinders\"},{\"TeamName\":\"DataMinders\"},{\"TeamName\":\"DataMinders\"},{\"TeamName\":\"DataMinders\"},{\"TeamName\":\"DataMinders\"},{\"TeamName\":\"DataMinders\"},{\"TeamName\":\"DataMinders\"},{\"TeamName\":\"DataMinders\"},{\"TeamName\":\"DataMinders\"},{\"TeamName\":\"DataMinders\"},{\"TeamName\":\"DataMinders\"},{\"TeamName\":\"DataMinders\"},{\"TeamName\":\"DataMinders\"},{\"TeamName\":\"DataMinders\"},{\"TeamName\":\"DataMinders\"},{\"TeamName\":\"DataMinders\"},{\"TeamName\":\"DataMinders\"},{\"TeamName\":\"DataMinders\"},{\"TeamName\":\"DataMinders\"}],\"x_values\":[1463913171000.0,1463931420000.0,1463991700000.0,1463991881000.0,1463998024000.0,1464078024000.0,1464146472000.0,1464421330000.0,1464556746000.0,1464606600000.0,1465123290000.0,1465767928000.0,1466739953000.0,1466782826000.0,1466840525000.0,1466893174000.0,1467187964000.0,1467188707000.0,1467363252000.0,1467364745000.0,1467482433000.0,1467740901000.0,1467760826000.0,1467892079000.0,1467916875000.0,1467935207000.0,1467941113000.0,1467989910000.0,1468105311000.0,1468105633000.0,1468187810000.0,1468193136000.0,1468258264000.0,1468259517000.0],\"y_values\":[0.9213600000000001,0.92475,0.92705,0.92706,0.93034,0.9312,0.9314,0.9315700000000001,0.93158,0.9319799999999999,0.93214,0.93229,0.9324399999999999,0.93285,0.93632,0.93725,0.9374600000000001,0.93879,0.93927,0.94029,0.9408700000000001,0.9411,0.9411299999999999,0.9431700000000001,0.9433799999999999,0.9434,0.9437399999999999,0.94399,0.94414,0.94431,0.9445100000000001,0.94452,0.94453,0.9445600000000001]}},\"id\":\"fd6b62b0-ae73-4f89-a739-a8297e2f5a5a\",\"type\":\"ColumnDataSource\"},{\"attributes\":{\"callback\":null,\"column_names\":[\"y_values\",\"x_values\"],\"data\":{\"TeamName\":[\"otivA\",\"otivA\",\"otivA\",\"otivA\",\"otivA\",\"otivA\",\"otivA\",\"otivA\",\"otivA\",\"otivA\",\"otivA\",\"otivA\",\"otivA\",\"otivA\",\"otivA\",\"otivA\",\"otivA\",\"otivA\",\"otivA\",\"otivA\",\"otivA\",\"otivA\",\"otivA\",\"otivA\",\"otivA\",\"otivA\",\"otivA\",\"otivA\",\"otivA\",\"otivA\",\"otivA\",\"otivA\",\"otivA\",\"otivA\",\"otivA\",\"otivA\",\"otivA\",\"otivA\",\"otivA\"],\"chart_index\":[{\"TeamName\":\"otivA\"},{\"TeamName\":\"otivA\"},{\"TeamName\":\"otivA\"},{\"TeamName\":\"otivA\"},{\"TeamName\":\"otivA\"},{\"TeamName\":\"otivA\"},{\"TeamName\":\"otivA\"},{\"TeamName\":\"otivA\"},{\"TeamName\":\"otivA\"},{\"TeamName\":\"otivA\"},{\"TeamName\":\"otivA\"},{\"TeamName\":\"otivA\"},{\"TeamName\":\"otivA\"},{\"TeamName\":\"otivA\"},{\"TeamName\":\"otivA\"},{\"TeamName\":\"otivA\"},{\"TeamName\":\"otivA\"},{\"TeamName\":\"otivA\"},{\"TeamName\":\"otivA\"},{\"TeamName\":\"otivA\"},{\"TeamName\":\"otivA\"},{\"TeamName\":\"otivA\"},{\"TeamName\":\"otivA\"},{\"TeamName\":\"otivA\"},{\"TeamName\":\"otivA\"},{\"TeamName\":\"otivA\"},{\"TeamName\":\"otivA\"},{\"TeamName\":\"otivA\"},{\"TeamName\":\"otivA\"},{\"TeamName\":\"otivA\"},{\"TeamName\":\"otivA\"},{\"TeamName\":\"otivA\"},{\"TeamName\":\"otivA\"},{\"TeamName\":\"otivA\"},{\"TeamName\":\"otivA\"},{\"TeamName\":\"otivA\"},{\"TeamName\":\"otivA\"},{\"TeamName\":\"otivA\"},{\"TeamName\":\"otivA\"}],\"x_values\":[1465407164000.0,1465550242000.0,1465719634000.0,1465815789000.0,1465893552000.0,1465906369000.0,1465940991000.0,1465986432000.0,1465992754000.0,1466005634000.0,1466017801000.0,1466117522000.0,1466353405000.0,1466354548000.0,1466688540000.0,1466757419000.0,1466848846000.0,1466940742000.0,1466940916000.0,1466941015000.0,1467042514000.0,1467043694000.0,1467283947000.0,1467359341000.0,1467379730000.0,1467454277000.0,1467653568000.0,1467699138000.0,1467721474000.0,1467805694000.0,1467965296000.0,1467966142000.0,1468061855000.0,1468062011000.0,1468179415000.0,1468242124000.0,1468242209000.0,1468304971000.0,1468305164000.0],\"y_values\":[0.9053,0.90653,0.9165,0.9204,0.9222299999999999,0.92335,0.9317,0.93216,0.93261,0.93329,0.9336700000000001,0.93632,0.93724,0.9378799999999999,0.93878,0.94052,0.94134,0.94135,0.94152,0.94158,0.9415899999999999,0.94166,0.94219,0.94224,0.94235,0.94271,0.94399,0.9440700000000001,0.94519,0.94525,0.94535,0.94544,0.9454600000000001,0.94552,0.94599,0.946,0.9460200000000001,0.9462700000000001,0.95101]}},\"id\":\"afabe5b0-bd72-4f0a-8f36-68c3e99074a0\",\"type\":\"ColumnDataSource\"},{\"attributes\":{\"line_color\":{\"value\":\"#c33ff3\"},\"line_width\":{\"value\":2},\"x\":{\"field\":\"x_values\"},\"y\":{\"field\":\"y_values\"}},\"id\":\"59fa7275-eca7-4a59-b7a6-0dd5859c1c22\",\"type\":\"Line\"},{\"attributes\":{\"callback\":null,\"column_names\":[\"y_values\",\"x_values\"],\"data\":{\"TeamName\":[\"ZigZag\",\"ZigZag\",\"ZigZag\",\"ZigZag\",\"ZigZag\",\"ZigZag\",\"ZigZag\",\"ZigZag\",\"ZigZag\",\"ZigZag\",\"ZigZag\",\"ZigZag\",\"ZigZag\",\"ZigZag\",\"ZigZag\",\"ZigZag\",\"ZigZag\",\"ZigZag\",\"ZigZag\",\"ZigZag\",\"ZigZag\",\"ZigZag\",\"ZigZag\",\"ZigZag\",\"ZigZag\",\"ZigZag\",\"ZigZag\",\"ZigZag\"],\"chart_index\":[{\"TeamName\":\"ZigZag\"},{\"TeamName\":\"ZigZag\"},{\"TeamName\":\"ZigZag\"},{\"TeamName\":\"ZigZag\"},{\"TeamName\":\"ZigZag\"},{\"TeamName\":\"ZigZag\"},{\"TeamName\":\"ZigZag\"},{\"TeamName\":\"ZigZag\"},{\"TeamName\":\"ZigZag\"},{\"TeamName\":\"ZigZag\"},{\"TeamName\":\"ZigZag\"},{\"TeamName\":\"ZigZag\"},{\"TeamName\":\"ZigZag\"},{\"TeamName\":\"ZigZag\"},{\"TeamName\":\"ZigZag\"},{\"TeamName\":\"ZigZag\"},{\"TeamName\":\"ZigZag\"},{\"TeamName\":\"ZigZag\"},{\"TeamName\":\"ZigZag\"},{\"TeamName\":\"ZigZag\"},{\"TeamName\":\"ZigZag\"},{\"TeamName\":\"ZigZag\"},{\"TeamName\":\"ZigZag\"},{\"TeamName\":\"ZigZag\"},{\"TeamName\":\"ZigZag\"},{\"TeamName\":\"ZigZag\"},{\"TeamName\":\"ZigZag\"},{\"TeamName\":\"ZigZag\"}],\"x_values\":[1464154202000.0,1464188432000.0,1464304739000.0,1464455849000.0,1464468617000.0,1464855409000.0,1464927948000.0,1465056430000.0,1465179165000.0,1465301956000.0,1465392621000.0,1466048981000.0,1466308582000.0,1466862471000.0,1466905028000.0,1466962997000.0,1467045182000.0,1467250827000.0,1467637543000.0,1467846530000.0,1467849506000.0,1467877825000.0,1468097332000.0,1468097694000.0,1468243100000.0,1468259934000.0,1468269271000.0,1468280941000.0],\"y_values\":[0.91559,0.9159700000000001,0.91896,0.9224100000000001,0.9244399999999999,0.92445,0.92458,0.92584,0.9276200000000001,0.9278700000000001,0.92835,0.93269,0.93329,0.93365,0.9338200000000001,0.9351700000000001,0.93527,0.93545,0.9355,0.9364399999999999,0.9366399999999999,0.9366700000000001,0.93709,0.9373,0.93734,0.9379200000000001,0.93795,0.93801]}},\"id\":\"08231869-4d45-441a-878a-77980279be06\",\"type\":\"ColumnDataSource\"},{\"attributes\":{\"plot\":{\"id\":\"82159160-4eaf-42ad-b526-7b10eb638267\",\"subtype\":\"Chart\",\"type\":\"Plot\"}},\"id\":\"4941a101-46fe-461c-85c0-77ac91d472aa\",\"type\":\"SaveTool\"},{\"attributes\":{\"line_color\":{\"value\":\"#00ad9c\"},\"line_width\":{\"value\":2},\"x\":{\"field\":\"x_values\"},\"y\":{\"field\":\"y_values\"}},\"id\":\"6ab43433-2f79-4b4c-a844-f6421f9c567f\",\"type\":\"Line\"},{\"attributes\":{\"bottom_units\":\"screen\",\"fill_alpha\":{\"value\":0.5},\"fill_color\":{\"value\":\"lightgrey\"},\"left_units\":\"screen\",\"level\":\"overlay\",\"line_alpha\":{\"value\":1.0},\"line_color\":{\"value\":\"black\"},\"line_dash\":[4,4],\"line_width\":{\"value\":2},\"plot\":null,\"render_mode\":\"css\",\"right_units\":\"screen\",\"top_units\":\"screen\"},\"id\":\"3a2413d2-fee4-44fa-b4de-c74517d13f33\",\"type\":\"BoxAnnotation\"},{\"attributes\":{\"data_source\":{\"id\":\"972f39a8-64b2-4266-ba35-a477ffbf3f29\",\"type\":\"ColumnDataSource\"},\"glyph\":{\"id\":\"891e371a-bd84-4d8c-9325-88fa43e03e2f\",\"type\":\"Line\"},\"hover_glyph\":null,\"nonselection_glyph\":null,\"selection_glyph\":null},\"id\":\"09e1dd1e-c620-41d8-94c7-0dfde9b39bab\",\"type\":\"GlyphRenderer\"},{\"attributes\":{\"line_color\":{\"value\":\"#00ad9c\"},\"line_width\":{\"value\":2},\"x\":{\"field\":\"x_values\"},\"y\":{\"field\":\"y_values\"}},\"id\":\"7fd8ef48-2568-400c-bf9f-0e7dc91fd077\",\"type\":\"Line\"},{\"attributes\":{\"data_source\":{\"id\":\"97e3ec3d-0dbf-4bbb-88fd-d291cf06bf19\",\"type\":\"ColumnDataSource\"},\"glyph\":{\"id\":\"75bdc911-adaa-49d6-b064-709c99d1b427\",\"type\":\"Line\"},\"hover_glyph\":null,\"nonselection_glyph\":null,\"selection_glyph\":null},\"id\":\"d277ffff-4b16-4a56-9dd6-ad479c7b6d14\",\"type\":\"GlyphRenderer\"},{\"attributes\":{\"max_interval\":500.0,\"num_minor_ticks\":0},\"id\":\"862396fd-fc07-403a-a94b-ec6558be36df\",\"type\":\"AdaptiveTicker\"}],\"root_ids\":[\"82159160-4eaf-42ad-b526-7b10eb638267\"]},\"title\":\"Bokeh Application\",\"version\":\"0.12.0\"}};\n",
       "            var render_items = [{\"docid\":\"4c0ced33-25d5-49dd-b370-ff40340f842f\",\"elementid\":\"048c3323-5059-47e6-9465-6dd2f5f84631\",\"modelid\":\"82159160-4eaf-42ad-b526-7b10eb638267\",\"notebook_comms_target\":\"ade4fdae-ee10-46a3-b157-d37ba3878203\"}];\n",
       "            \n",
       "            Bokeh.embed.embed_items(docs_json, render_items);\n",
       "        });\n",
       "      },\n",
       "      function(Bokeh) {\n",
       "      }\n",
       "    ];\n",
       "  \n",
       "    function run_inline_js() {\n",
       "      for (var i = 0; i < inline_js.length; i++) {\n",
       "        inline_js[i](window.Bokeh);\n",
       "      }\n",
       "    }\n",
       "  \n",
       "    if (window._bokeh_is_loading === 0) {\n",
       "      console.log(\"Bokeh: BokehJS loaded, going straight to plotting\");\n",
       "      run_inline_js();\n",
       "    } else {\n",
       "      load_libs(js_urls, function() {\n",
       "        console.log(\"Bokeh: BokehJS plotting callback run at\", now());\n",
       "        run_inline_js();\n",
       "      });\n",
       "    }\n",
       "  }(this));\n",
       "</script>"
      ]
     },
     "metadata": {},
     "output_type": "display_data"
    },
    {
     "data": {
      "text/html": [
       "<p><code>&lt;Bokeh Notebook handle for <strong>In[11]</strong>&gt;</code></p>"
      ],
      "text/plain": [
       "<bokeh.io._CommsHandle at 0x7f347425fac8>"
      ]
     },
     "execution_count": 11,
     "metadata": {},
     "output_type": "execute_result"
    }
   ],
   "source": [
    "p = TimeSeries(leaderboard[(leaderboard.TeamName.apply(lambda x: x in top20_team)) & (leaderboard.Score>=0.9)],\n",
    "               x='SubmissionDate', y='Score', color='TeamName',\n",
    "               plot_width=1000, legend=False)\n",
    "show(p)"
   ]
  },
  {
   "cell_type": "markdown",
   "metadata": {
    "slideshow": {
     "slide_type": "slide"
    }
   },
   "source": [
    "### interesting finding\n",
    "\n",
    "* gap between train and test\n",
    "  * not iid\n",
    "  * ordered by time\n",
    "  * text feature \n",
    "* bad result for some category\n",
    "* bad case analysis: not useful"
   ]
  }
 ],
 "metadata": {
  "anaconda-cloud": {},
  "celltoolbar": "Slideshow",
  "kernelspec": {
   "display_name": "Python [Root]",
   "language": "python",
   "name": "Python [Root]"
  },
  "language_info": {
   "codemirror_mode": {
    "name": "ipython",
    "version": 3
   },
   "file_extension": ".py",
   "mimetype": "text/x-python",
   "name": "python",
   "nbconvert_exporter": "python",
   "pygments_lexer": "ipython3",
   "version": "3.5.2"
  }
 },
 "nbformat": 4,
 "nbformat_minor": 0
}
