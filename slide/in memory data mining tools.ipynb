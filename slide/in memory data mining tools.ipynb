{
 "cells": [
  {
   "cell_type": "markdown",
   "metadata": {
    "slideshow": {
     "slide_type": "slide"
    }
   },
   "source": [
    "# In Memory Data Mining Tools\n",
    "\n",
    "luoq08@gmail.com OR hzluoqiang@corp.netease.com"
   ]
  },
  {
   "cell_type": "markdown",
   "metadata": {
    "slideshow": {
     "slide_type": "subslide"
    }
   },
   "source": [
    "### general process of data mining\n",
    "\n",
    "* data acquisition\n",
    "  * crawler\n",
    "* [data wrangling](https://en.wikipedia.org/wiki/Data_wrangling)\n",
    "  * load data(sql, csv/xls, json, html)\n",
    "  * clean\n",
    "  * transformation (join, group, sort)\n",
    "  * data visualization\n",
    "* model"
   ]
  },
  {
   "cell_type": "markdown",
   "metadata": {
    "slideshow": {
     "slide_type": "subslide"
    }
   },
   "source": [
    "### focus of this talk\n",
    "\n",
    "* in a single machine\n",
    "  * 48core, 2TB storage, 256G ram\n",
    "  * [Big RAM is eating big data](http://datascience.la/big-ram-is-eating-big-data-size-of-datasets-used-for-analytics/)\n",
    "* data fitting in memory(sometimes out of core)\n",
    "* opensource: python and some shell tools\n",
    "\n",
    "Not included\n",
    "* hadoop, mpi, spark"
   ]
  },
  {
   "cell_type": "markdown",
   "metadata": {
    "slideshow": {
     "slide_type": "slide"
    }
   },
   "source": [
    "### python\n",
    "\n",
    "[Why is Python so popular in machine learning?](https://www.quora.com/Why-is-Python-so-popular-in-machine-learning)\n",
    "\n",
    "pros:\n",
    "\n",
    "* easy to use\n",
    "* libraries; swiss army knife of machine learning. \n",
    "* speed up using C(not easy to write)\n",
    "* dynamic(live coding, easy to manipulate)\n",
    "\n",
    "cons:\n",
    "\n",
    "* parallel: multiprocessing\n",
    "\n",
    "* dynamic(test needed)"
   ]
  },
  {
   "cell_type": "markdown",
   "metadata": {
    "slideshow": {
     "slide_type": "subslide"
    }
   },
   "source": [
    "## setup\n",
    "\n",
    "1. Install [anaconda](https://www.continuum.io/downloads)\n",
    "```\n",
    "conda install xxx\n",
    "pip install yyy\n",
    "```\n",
    "\n",
    "2. start jupyter\n",
    "```\n",
    "jupyter notebook\n",
    "```\n",
    "access server. [ssh tunnel](http://unix.stackexchange.com/questions/115897/whats-ssh-port-forwarding-and-whats-the-difference-between-ssh-local-and-remot) may be useful\n",
    "\n",
    "3. import libraries\n",
    "\n",
    "```python\n",
    "import numpy as np\n",
    "import scipy.sparse as sp\n",
    "import pandas as pd\n",
    "\n",
    "from sklearn.linear_model import LogsiticRegression\n",
    "import xgboost as xgb\n",
    "\n",
    "import gensim\n",
    "import nltk\n",
    "from sklearn.feature_extraction import Counte\n",
    "\n",
    "import matplotlib.pylab as plt\n",
    "import seaborn\n",
    "seaborn.set()\n",
    "%matplotlib inline\n",
    "```"
   ]
  },
  {
   "cell_type": "markdown",
   "metadata": {
    "slideshow": {
     "slide_type": "slide"
    }
   },
   "source": [
    "## SciPy\n",
    "\n",
    "The SciPy Stack: Scientific Computing Tools for Python"
   ]
  },
  {
   "cell_type": "markdown",
   "metadata": {},
   "source": [
    "<div>\n",
    "<ul>\n",
    "<li>\n",
    "<div class=\"thumbnail\">\n",
    "<div class=\"pull-left img\">\n",
    "  <a href=\"http://numpy.org\">\n",
    "  <img alt=\"numpy\" src=\"https://scipy.org/_static/images/numpylogo_med.png\" width=\"64\">\n",
    "  </a>\n",
    "</div>\n",
    "<div class=\"img-label\">\n",
    "  <h4 class=\"media-heading\"><a href=\"http://numpy.org\">NumPy</a></h4>\n",
    "  Base N-dimensional array package\n",
    "</div>\n",
    "</div>\n",
    "</li>\n",
    "\n",
    "<li>\n",
    "<div class=\"thumbnail\">\n",
    "<div class=\"pull-left img\">\n",
    "  <a href=\"scipylib/index.html\">\n",
    "  <img alt=\"scipy\" src=\"https://scipy.org/_static/images/scipy_med.png\" width=\"64\">\n",
    "  </a>\n",
    "</div>\n",
    "<div class=\"img-label\">\n",
    "  <h4 class=\"media-heading\"><a href=\"scipylib/index.html\">SciPy library</a></h4>\n",
    "  Fundamental library for scientific computing\n",
    "</div>\n",
    "</div>\n",
    "</li>\n",
    "\n",
    "<li>\n",
    "<div class=\"thumbnail\">\n",
    "<div class=\"pull-left img\">\n",
    "  <a href=\"http://matplotlib.org/\">\n",
    "  <img alt=\"matplotlib\" src=\"https://scipy.org/_static/images/matplotlib_med.png\" width=\"64\">\n",
    "  </a>\n",
    "</div>\n",
    "<div class=\"img-label\">\n",
    "  <h4 class=\"media-heading\"><a href=\"http://matplotlib.org/\">Matplotlib</a></h4>\n",
    "  Comprehensive 2D Plotting\n",
    "</div>\n",
    "</div>\n",
    "</li>\n",
    "\n",
    "<li>\n",
    "<div class=\"thumbnail\">\n",
    "<div class=\"pull-left img\">\n",
    "  <a href=\"http://ipython.org\">\n",
    "  <img alt=\"ipython\" src=\"https://scipy.org/_static/images/ipython.png\" width=\"64\">\n",
    "  </a>\n",
    "</div>\n",
    "<div class=\"img-label\">\n",
    "  <h4 class=\"media-heading\"><a href=\"http://ipython.org\">IPython</a></h4>\n",
    "  Enhanced Interactive Console\n",
    "</div>\n",
    "</div>\n",
    "</li>\n",
    "\n",
    "<li>\n",
    "<div class=\"thumbnail\">\n",
    "<div class=\"pull-left img\">\n",
    "  <a href=\"http://sympy.org/\">\n",
    "  <img alt=\"sympy\" src=\"https://scipy.org/_static/images/sympy_logo.png\" width=\"64\">\n",
    "  </a>\n",
    "</div>\n",
    "<div class=\"img-label\">\n",
    "  <h4 class=\"media-heading\"><a href=\"http://sympy.org/\">Sympy</a></h4>\n",
    "  Symbolic mathematics\n",
    "</div>\n",
    "</div>\n",
    "</li>\n",
    "\n",
    "<li>\n",
    "<div class=\"thumbnail\">\n",
    "<div class=\"pull-left img\">\n",
    "  <a href=\"http://pandas.pydata.org/\">\n",
    "  <img alt=\"pandas badge\" src=\"https://scipy.org/_static/images/pandas_badge2.jpg\" width=\"64\">\n",
    "  </a>\n",
    "</div>\n",
    "<div class=\"img-label\">\n",
    "  <h4 class=\"media-heading\"><a href=\"http://pandas.pydata.org/\">pandas</a></h4>\n",
    "  Data structures &amp; analysis\n",
    "</div>\n",
    "</div>\n",
    "</li>\n",
    "\n",
    "</ul>\n",
    "</div>"
   ]
  },
  {
   "cell_type": "markdown",
   "metadata": {
    "slideshow": {
     "slide_type": "subslide"
    }
   },
   "source": [
    "## [jupyter](http://jupyter.org/)\n",
    "\n",
    "\n",
    "* live [REPL](https://en.wikipedia.org/wiki/Read%E2%80%93eval%E2%80%93print_loop); similar to Mathematica(https://www.wolfram.com/mathematica/), [Sage](http://www.sagemath.org/) notebook, \n",
    "* multi languages: python, R, julia, scala [A list](https://github.com/ipython/ipython/wiki/IPython-kernels-for-other-languages)\n",
    "* rich content: markdown, html, picture, js, interactive widget\n",
    "* share: export to html, slides, nbviewer\n"
   ]
  },
  {
   "cell_type": "markdown",
   "metadata": {
    "slideshow": {
     "slide_type": "subslide"
    }
   },
   "source": [
    "### jupyter tour\n",
    "[Try it](https://try.jupyter.org/)\n",
    "\n",
    "[Awesome Data Science: 1.0 Jupyter Notebook Tour](https://www.youtube.com/watch?v=e9cSF3eVQv0)\n",
    "\n",
    "More examples: \n",
    "* [Jupyter Notebook Viewer](http://nbviewer.jupyter.org/)\n",
    "* [A gallery of interesting IPython Notebooks](https://github.com/ipython/ipython/wiki/A-gallery-of-interesting-IPython-Notebooks)"
   ]
  },
  {
   "cell_type": "markdown",
   "metadata": {
    "slideshow": {
     "slide_type": "subslide"
    }
   },
   "source": [
    "matlab like enviroment\n",
    "\n",
    "* numpy: dense matrix\n",
    "* scipy: scipy.sparse for sparse matrix; linear algebra, optimization ...\n",
    "* matplotlib: matlab like plotting; image based, static\n",
    "* [seaborn](https://web.stanford.edu/~mwaskom/software/seaborn/): matplotlib based; high level; more attractive\n",
    "* [mpld3](http://mpld3.github.io/): bring matplotlib to d3"
   ]
  },
  {
   "cell_type": "markdown",
   "metadata": {
    "slideshow": {
     "slide_type": "subslide"
    }
   },
   "source": [
    "### [numpy](http://www.numpy.org/)\n",
    "\n",
    "* [tutorial](https://docs.scipy.org/doc/numpy-dev/user/quickstart.html)\n",
    "* [Numpy for Matlab users](https://docs.scipy.org/doc/numpy-dev/user/numpy-for-matlab-users.html)\n",
    "* [another NumPy for MATLAB users](http://mathesaurus.sourceforge.net/matlab-numpy.html)"
   ]
  },
  {
   "cell_type": "markdown",
   "metadata": {
    "slideshow": {
     "slide_type": "subslide"
    }
   },
   "source": [
    "### [scipy](http://docs.scipy.org/doc/scipy/reference/)\n",
    "\n",
    "* [sparse matrix](http://docs.scipy.org/doc/scipy/reference/sparse.html)\n",
    "\n",
    "```python\n",
    "X = sp.csr_matrix((V, (I, J)))\n",
    "```\n",
    "\n",
    "* [optimization](http://docs.scipy.org/doc/scipy-0.15.1/reference/optimize.html)"
   ]
  },
  {
   "cell_type": "markdown",
   "metadata": {
    "slideshow": {
     "slide_type": "subslide"
    }
   },
   "source": [
    "### [matplotlib](http://matplotlib.org/)\n",
    "\n",
    "* matlab plot\n",
    "* [gallery](http://matplotlib.org/gallery.html)"
   ]
  },
  {
   "cell_type": "markdown",
   "metadata": {
    "slideshow": {
     "slide_type": "subslide"
    }
   },
   "source": [
    "## [pandas](http://pandas.pydata.org/)\n",
    "\n",
    "* io, pd.read_csv, pd.read_xlsx, pd.read_sql, pd.read_json, pd.read_hdf\n",
    "* DataFrame object: np.array with row and column label; different types for columns; tabular data\n",
    "* Panel object: 3d DataFrame, sometimes usefull( stock data)\n",
    "* group by, sort, join(pd.merge), reshape/pivot\n",
    "\n",
    "caution:\n",
    "\n",
    "* slow as k,v store(vectorize)\n",
    "* many tricks\n",
    "\n",
    "more:\n",
    "\n",
    "* [10 Minutes to pandas](http://pandas.pydata.org/pandas-docs/stable/10min.html)\n",
    "* [Things in Pandas I Wish I'd Known Earlier](http://nbviewer.jupyter.org/github/rasbt/python_reference/blob/master/tutorials/things_in_pandas.ipynb)\n"
   ]
  },
  {
   "cell_type": "markdown",
   "metadata": {
    "slideshow": {
     "slide_type": "subslide"
    }
   },
   "source": [
    "### [scikit-learn](http://scikit-learn.org/stable/)\n",
    "\n",
    "* active community and development; clear interface\n",
    "* good documentation with reference\n",
    "* fullset of algorithms; pipeline; parameter tuning\n",
    "* wrap famous tools [libsvm](https://www.csie.ntu.edu.tw/~cjlin/libsvm/), [liblinear](https://www.csie.ntu.edu.tw/~cjlin/liblinear/)\n",
    "\n"
   ]
  },
  {
   "cell_type": "markdown",
   "metadata": {
    "slideshow": {
     "slide_type": "subslide"
    }
   },
   "source": [
    "#### sklearn API\n",
    "\n",
    "```python\n",
    "from sklearn.linear_model import LogisticRegression\n",
    "model = LogisticRegression(loss='l1')\n",
    "model.fit(X_train, y_train)\n",
    "model.predict(X_test)\n",
    "model.predict_proba(X_test)\n",
    "```\n",
    "\n",
    "<table>\n",
    "<tr style=\"border:None; font-size:20px; padding:10px;\"><th>``model.predict``</th><th>``model.transform``</th></tr>\n",
    "<tr style=\"border:None; font-size:20px; padding:10px;\"><td>Classification</td><td>Preprocessing</td></tr>\n",
    "<tr style=\"border:None; font-size:20px; padding:10px;\"><td>Regression</td><td>Dimensionality Reduction</td></tr>\n",
    "<tr style=\"border:None; font-size:20px; padding:10px;\"><td>Clustering</td><td>Feature Extraction</td></tr>\n",
    "<tr style=\"border:None; font-size:20px; padding:10px;\"><td>&nbsp;</td><td>Feature selection</td></tr>\n",
    "\n",
    "</table>\n",
    "\n",
    "* [flowchart](http://scikit-learn.org/stable/tutorial/machine_learning_map/index.html)\n",
    "* [doc](http://scikit-learn.org/stable/documentation.html)\n",
    "* [API](http://scikit-learn.org/stable/modules/classes.html)"
   ]
  },
  {
   "cell_type": "markdown",
   "metadata": {
    "slideshow": {
     "slide_type": "slide"
    }
   },
   "source": [
    "## showcase\n",
    "\n",
    "* [SciPy 2015 Scikit-learn Tutorial](https://github.com/luoq/scipy_2015_sklearn_tutorial)\n",
    "\n",
    "others:\n",
    "\n",
    "* [Sample pipeline for text feature extraction and evaluation](http://scikit-learn.org/stable/auto_examples/model_selection/grid_search_text_feature_extraction.html)\n",
    "* [python data visualization for iris data set](https://www.kaggle.com/benhamner/d/uciml/iris/python-data-visualizations)\n",
    "* [preliminary exploration for titanic competiton](https://www.kaggle.com/letfly/titanic/preliminary-exploration)"
   ]
  },
  {
   "cell_type": "markdown",
   "metadata": {
    "slideshow": {
     "slide_type": "slide"
    }
   },
   "source": [
    "### shell\n",
    "\n",
    "* cat, head, tail, grep, sed, awk, sort, uniq, comm; understand pipe\n",
    "* [csvkit](https://github.com/wireservice/csvkit), [jq](https://stedolan.github.io/jq/)\n",
    "* [parallel](https://www.gnu.org/software/parallel/): [tutorial](https://www.gnu.org/software/parallel/parallel_tutorial.html)\n",
    "* more: [Data Science at the Command Line](http://datascienceatthecommandline.com/)"
   ]
  },
  {
   "cell_type": "markdown",
   "metadata": {
    "slideshow": {
     "slide_type": "subslide"
    }
   },
   "source": [
    "### demo\n",
    "\n",
    "```bash\n",
    "function work(){\n",
    "pv --rate -i 5 \\\n",
    " | csvcut -c 'images_array_1,images_array_2' | csvjson --stream \\\n",
    "  | parallel --gnu -k --pipe -N 20  --jobs 16 python -m feature.image_feature\n",
    "\n",
    "}\n",
    "\n",
    "# Generate image feature for training data set and testing data set\n",
    "cat data/data_files/image_itemPairs_train.csv | work > data/data_files/image_feature_train.csv\n",
    "cat data/data_files/image_itemPairs_test.csv | work > data/data_files/image_feature_test.csv\n",
    "```\n",
    "\n",
    "feature.image_feature.py:\n",
    "```python\n",
    "if __name__ == '__main__':\n",
    "    import sys\n",
    "    for line in sys.stdin:\n",
    "        line = line.rstrip()\n",
    "        #do something with line\n",
    "        ...\n",
    "        print(result)\n",
    "```"
   ]
  },
  {
   "cell_type": "markdown",
   "metadata": {
    "slideshow": {
     "slide_type": "slide"
    }
   },
   "source": [
    "## more data mungling tools"
   ]
  },
  {
   "cell_type": "markdown",
   "metadata": {
    "slideshow": {
     "slide_type": "subslide"
    }
   },
   "source": [
    "### [bokeh](http://bokeh.pydata.org/en/latest/)\n",
    "\n",
    "\n",
    "* __interactive__ visualization library that targets modern __web browsers__\n",
    "* [quickstart](http://bokeh.pydata.org/en/latest/docs/user_guide/quickstart.html#userguide-quickstart)"
   ]
  },
  {
   "cell_type": "markdown",
   "metadata": {
    "slideshow": {
     "slide_type": "subslide"
    }
   },
   "source": [
    "### [d3.js](https://d3js.org/)\n",
    "\n",
    "Data-Driven Documents\n",
    "\n",
    "```\n",
    "D3.js is a JavaScript library for manipulating documents based on data. D3 helps you bring data to life using HTML, SVG, and CSS. D3’s emphasis on web standards gives you the full capabilities of modern browsers without tying yourself to a proprietary framework, combining powerful visualization components and a data-driven approach to DOM manipulation.\n",
    "```\n",
    "\n",
    "* bind data to DOM, and manipulate\n",
    "* powerful\n",
    "* prepare to write code\n",
    "\n",
    "\n",
    "\n",
    "* [A Visual Introduction to Machine Learning](http://www.r2d3.us/visual-intro-to-machine-learning-part-1/)\n",
    "* A free online book: [Interactive Data Visualization for the Web](http://chimera.labs.oreilly.com/books/1230000000345/)"
   ]
  },
  {
   "cell_type": "markdown",
   "metadata": {
    "slideshow": {
     "slide_type": "subslide"
    }
   },
   "source": [
    "## data acquisition\n",
    "\n",
    "web crawling\n",
    "\n",
    "* crawler: [pyspider](https://github.com/binux/pyspider), [scrapy](http://scrapy.org/)(no py3)\n",
    "\n",
    "* html parsing: [pyquery](https://pythonhosted.org/pyquery/), [lxml](http://lxml.de/), [BeautifulSoup](https://www.crummy.com/software/BeautifulSoup/)\n",
    "\n",
    "* chrome: [SelectorGadget](http://selectorgadget.com/), Network panel"
   ]
  },
  {
   "cell_type": "markdown",
   "metadata": {
    "slideshow": {
     "slide_type": "subslide"
    }
   },
   "source": [
    "### data clean\n",
    "\n",
    "* [openrefine](http://openrefine.org/)"
   ]
  },
  {
   "cell_type": "markdown",
   "metadata": {
    "slideshow": {
     "slide_type": "slide"
    }
   },
   "source": [
    "## More Machine Learning tools"
   ]
  },
  {
   "cell_type": "markdown",
   "metadata": {
    "slideshow": {
     "slide_type": "subslide"
    }
   },
   "source": [
    "### [xgboost](https://github.com/dmlc/xgboost)\n",
    "\n",
    "* performance verified (in various kaggle competition)\n",
    "* handle nonlinear relation\n",
    "* handle missing value, no need for standardization\n",
    "* fast, scalable\n",
    "* support R, python, julia, scala, java\n",
    "* sklearn interface"
   ]
  },
  {
   "cell_type": "markdown",
   "metadata": {
    "slideshow": {
     "slide_type": "subslide"
    }
   },
   "source": [
    "## Text/ NLP\n",
    "\n",
    "* [nltk](http://www.nltk.org/): NLP; tokenzier, stemmer, wrap for corenlp; slow?\n",
    "* [snowballstemmer](https://github.com/shibukawa/snowball_py): python interface for Snowball stemmer\n",
    "* [jieba](https://github.com/fxsjy/jieba):  Chinese text segmentation; dictionary matters\n",
    "* [sklearn.feature_extraction.text](http://scikit-learn.org/stable/modules/classes.html#module-sklearn.feature_extraction.text): generate document term matrix\n",
    "* [gensim](https://radimrehurek.com/gensim/): lda, word2vec\n",
    "* [stanford corenlp](http://stanfordnlp.github.io/CoreNLP/): java; deep nlp\n",
    "* [jpype](https://github.com/originell/jpype): run java code\n",
    "* [More](http://note.luoq.me/machinelearning/tools)"
   ]
  },
  {
   "cell_type": "markdown",
   "metadata": {
    "slideshow": {
     "slide_type": "subslide"
    }
   },
   "source": [
    "### [vowpal wabbit](https://github.com/JohnLangford/vowpal_wabbit/wiki)\n",
    "\n",
    "* out of core; online; scalable; $10^{12}$ sparse features; linear model\n",
    "* hashing trick for raw text feature"
   ]
  },
  {
   "cell_type": "markdown",
   "metadata": {
    "slideshow": {
     "slide_type": "slide"
    }
   },
   "source": [
    "## How to learn more\n",
    "\n",
    "* Google is your friend\n",
    "* youtube\n",
    "\n",
    "[My list](http://note.luoq.me/machinelearning/)"
   ]
  }
 ],
 "metadata": {
  "celltoolbar": "Slideshow",
  "kernelspec": {
   "display_name": "Python 3",
   "language": "python",
   "name": "python3"
  },
  "language_info": {
   "codemirror_mode": {
    "name": "ipython",
    "version": 3
   },
   "file_extension": ".py",
   "mimetype": "text/x-python",
   "name": "python",
   "nbconvert_exporter": "python",
   "pygments_lexer": "ipython3",
   "version": "3.5.2"
  }
 },
 "nbformat": 4,
 "nbformat_minor": 0
}
